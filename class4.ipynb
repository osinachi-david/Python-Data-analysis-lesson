{
 "cells": [
  {
   "cell_type": "code",
   "execution_count": 1,
   "metadata": {},
   "outputs": [],
   "source": [
    "import numpy as np\n",
    "import pandas as pd"
   ]
  },
  {
   "cell_type": "code",
   "execution_count": 2,
   "metadata": {},
   "outputs": [],
   "source": [
    "#PANDAS - Python for Data Analysis"
   ]
  },
  {
   "cell_type": "code",
   "execution_count": 3,
   "metadata": {},
   "outputs": [],
   "source": [
    "#Series and Dataframes "
   ]
  },
  {
   "cell_type": "code",
   "execution_count": 4,
   "metadata": {},
   "outputs": [],
   "source": [
    "s = pd.Series([2,3,4,5,7,np.nan,8,9])"
   ]
  },
  {
   "cell_type": "code",
   "execution_count": 5,
   "metadata": {},
   "outputs": [
    {
     "data": {
      "text/plain": [
       "0    2.0\n",
       "1    3.0\n",
       "2    4.0\n",
       "3    5.0\n",
       "4    7.0\n",
       "5    NaN\n",
       "6    8.0\n",
       "7    9.0\n",
       "dtype: float64"
      ]
     },
     "execution_count": 5,
     "metadata": {},
     "output_type": "execute_result"
    }
   ],
   "source": [
    "s"
   ]
  },
  {
   "cell_type": "code",
   "execution_count": 6,
   "metadata": {},
   "outputs": [
    {
     "data": {
      "text/plain": [
       "array([[ 0.13893233,  1.57852887,  0.44561711, -0.58415162],\n",
       "       [-1.59946507, -0.25476982, -1.0584373 ,  0.52300254],\n",
       "       [-0.33668734,  0.76233911, -0.71321065, -0.44375579],\n",
       "       [-1.80443341, -1.41749731, -2.24114063,  0.17025368],\n",
       "       [-0.17332631,  1.63040803,  1.90881726, -1.80224646],\n",
       "       [-0.79545817, -1.35267329, -1.09845486,  0.44562373]])"
      ]
     },
     "execution_count": 6,
     "metadata": {},
     "output_type": "execute_result"
    }
   ],
   "source": [
    "#Dataframe\n",
    "#create a random normal distribution\n",
    "# np.random.randn\n",
    "arr = np.random.randn(6,4)\n",
    "arr"
   ]
  },
  {
   "cell_type": "code",
   "execution_count": 7,
   "metadata": {},
   "outputs": [],
   "source": [
    "df = pd.DataFrame(arr)"
   ]
  },
  {
   "cell_type": "code",
   "execution_count": 8,
   "metadata": {},
   "outputs": [
    {
     "data": {
      "text/html": [
       "<div>\n",
       "<style scoped>\n",
       "    .dataframe tbody tr th:only-of-type {\n",
       "        vertical-align: middle;\n",
       "    }\n",
       "\n",
       "    .dataframe tbody tr th {\n",
       "        vertical-align: top;\n",
       "    }\n",
       "\n",
       "    .dataframe thead th {\n",
       "        text-align: right;\n",
       "    }\n",
       "</style>\n",
       "<table border=\"1\" class=\"dataframe\">\n",
       "  <thead>\n",
       "    <tr style=\"text-align: right;\">\n",
       "      <th></th>\n",
       "      <th>0</th>\n",
       "      <th>1</th>\n",
       "      <th>2</th>\n",
       "      <th>3</th>\n",
       "    </tr>\n",
       "  </thead>\n",
       "  <tbody>\n",
       "    <tr>\n",
       "      <th>0</th>\n",
       "      <td>0.138932</td>\n",
       "      <td>1.578529</td>\n",
       "      <td>0.445617</td>\n",
       "      <td>-0.584152</td>\n",
       "    </tr>\n",
       "    <tr>\n",
       "      <th>1</th>\n",
       "      <td>-1.599465</td>\n",
       "      <td>-0.254770</td>\n",
       "      <td>-1.058437</td>\n",
       "      <td>0.523003</td>\n",
       "    </tr>\n",
       "    <tr>\n",
       "      <th>2</th>\n",
       "      <td>-0.336687</td>\n",
       "      <td>0.762339</td>\n",
       "      <td>-0.713211</td>\n",
       "      <td>-0.443756</td>\n",
       "    </tr>\n",
       "    <tr>\n",
       "      <th>3</th>\n",
       "      <td>-1.804433</td>\n",
       "      <td>-1.417497</td>\n",
       "      <td>-2.241141</td>\n",
       "      <td>0.170254</td>\n",
       "    </tr>\n",
       "    <tr>\n",
       "      <th>4</th>\n",
       "      <td>-0.173326</td>\n",
       "      <td>1.630408</td>\n",
       "      <td>1.908817</td>\n",
       "      <td>-1.802246</td>\n",
       "    </tr>\n",
       "    <tr>\n",
       "      <th>5</th>\n",
       "      <td>-0.795458</td>\n",
       "      <td>-1.352673</td>\n",
       "      <td>-1.098455</td>\n",
       "      <td>0.445624</td>\n",
       "    </tr>\n",
       "  </tbody>\n",
       "</table>\n",
       "</div>"
      ],
      "text/plain": [
       "          0         1         2         3\n",
       "0  0.138932  1.578529  0.445617 -0.584152\n",
       "1 -1.599465 -0.254770 -1.058437  0.523003\n",
       "2 -0.336687  0.762339 -0.713211 -0.443756\n",
       "3 -1.804433 -1.417497 -2.241141  0.170254\n",
       "4 -0.173326  1.630408  1.908817 -1.802246\n",
       "5 -0.795458 -1.352673 -1.098455  0.445624"
      ]
     },
     "execution_count": 8,
     "metadata": {},
     "output_type": "execute_result"
    }
   ],
   "source": [
    "df"
   ]
  },
  {
   "cell_type": "code",
   "execution_count": 9,
   "metadata": {},
   "outputs": [
    {
     "data": {
      "text/plain": [
       "DatetimeIndex(['2021-02-01', '2021-02-02', '2021-02-03', '2021-02-04',\n",
       "               '2021-02-05', '2021-02-06'],\n",
       "              dtype='datetime64[ns]', freq='D')"
      ]
     },
     "execution_count": 9,
     "metadata": {},
     "output_type": "execute_result"
    }
   ],
   "source": [
    "#Create a date range \n",
    "dates = pd.date_range(\"20210201\", periods=6)\n",
    "dates"
   ]
  },
  {
   "cell_type": "code",
   "execution_count": 10,
   "metadata": {},
   "outputs": [],
   "source": [
    "df2 = pd.DataFrame(arr, index=dates, columns=list('ABCD'))"
   ]
  },
  {
   "cell_type": "code",
   "execution_count": 11,
   "metadata": {},
   "outputs": [
    {
     "data": {
      "text/html": [
       "<div>\n",
       "<style scoped>\n",
       "    .dataframe tbody tr th:only-of-type {\n",
       "        vertical-align: middle;\n",
       "    }\n",
       "\n",
       "    .dataframe tbody tr th {\n",
       "        vertical-align: top;\n",
       "    }\n",
       "\n",
       "    .dataframe thead th {\n",
       "        text-align: right;\n",
       "    }\n",
       "</style>\n",
       "<table border=\"1\" class=\"dataframe\">\n",
       "  <thead>\n",
       "    <tr style=\"text-align: right;\">\n",
       "      <th></th>\n",
       "      <th>A</th>\n",
       "      <th>B</th>\n",
       "      <th>C</th>\n",
       "      <th>D</th>\n",
       "    </tr>\n",
       "  </thead>\n",
       "  <tbody>\n",
       "    <tr>\n",
       "      <th>2021-02-01</th>\n",
       "      <td>0.138932</td>\n",
       "      <td>1.578529</td>\n",
       "      <td>0.445617</td>\n",
       "      <td>-0.584152</td>\n",
       "    </tr>\n",
       "    <tr>\n",
       "      <th>2021-02-02</th>\n",
       "      <td>-1.599465</td>\n",
       "      <td>-0.254770</td>\n",
       "      <td>-1.058437</td>\n",
       "      <td>0.523003</td>\n",
       "    </tr>\n",
       "    <tr>\n",
       "      <th>2021-02-03</th>\n",
       "      <td>-0.336687</td>\n",
       "      <td>0.762339</td>\n",
       "      <td>-0.713211</td>\n",
       "      <td>-0.443756</td>\n",
       "    </tr>\n",
       "    <tr>\n",
       "      <th>2021-02-04</th>\n",
       "      <td>-1.804433</td>\n",
       "      <td>-1.417497</td>\n",
       "      <td>-2.241141</td>\n",
       "      <td>0.170254</td>\n",
       "    </tr>\n",
       "    <tr>\n",
       "      <th>2021-02-05</th>\n",
       "      <td>-0.173326</td>\n",
       "      <td>1.630408</td>\n",
       "      <td>1.908817</td>\n",
       "      <td>-1.802246</td>\n",
       "    </tr>\n",
       "    <tr>\n",
       "      <th>2021-02-06</th>\n",
       "      <td>-0.795458</td>\n",
       "      <td>-1.352673</td>\n",
       "      <td>-1.098455</td>\n",
       "      <td>0.445624</td>\n",
       "    </tr>\n",
       "  </tbody>\n",
       "</table>\n",
       "</div>"
      ],
      "text/plain": [
       "                   A         B         C         D\n",
       "2021-02-01  0.138932  1.578529  0.445617 -0.584152\n",
       "2021-02-02 -1.599465 -0.254770 -1.058437  0.523003\n",
       "2021-02-03 -0.336687  0.762339 -0.713211 -0.443756\n",
       "2021-02-04 -1.804433 -1.417497 -2.241141  0.170254\n",
       "2021-02-05 -0.173326  1.630408  1.908817 -1.802246\n",
       "2021-02-06 -0.795458 -1.352673 -1.098455  0.445624"
      ]
     },
     "execution_count": 11,
     "metadata": {},
     "output_type": "execute_result"
    }
   ],
   "source": [
    "df2"
   ]
  },
  {
   "cell_type": "code",
   "execution_count": 12,
   "metadata": {},
   "outputs": [
    {
     "data": {
      "text/plain": [
       "a   -0.553552\n",
       "b    0.528267\n",
       "c   -3.013414\n",
       "d   -0.681740\n",
       "e   -0.578276\n",
       "dtype: float64"
      ]
     },
     "execution_count": 12,
     "metadata": {},
     "output_type": "execute_result"
    }
   ],
   "source": [
    "import numpy as np\n",
    "import pandas as pd\n",
    "s2 = pd.Series(np.random.randn(5), index=['a','b','c','d','e'])\n",
    "s2"
   ]
  },
  {
   "cell_type": "code",
   "execution_count": 13,
   "metadata": {},
   "outputs": [
    {
     "data": {
      "text/plain": [
       "Index(['a', 'b', 'c', 'd', 'e'], dtype='object')"
      ]
     },
     "execution_count": 13,
     "metadata": {},
     "output_type": "execute_result"
    }
   ],
   "source": [
    "s2.index"
   ]
  },
  {
   "cell_type": "code",
   "execution_count": 14,
   "metadata": {},
   "outputs": [
    {
     "data": {
      "text/plain": [
       "{'name': 'John', 'age': 30, 'job': 'analyst'}"
      ]
     },
     "execution_count": 14,
     "metadata": {},
     "output_type": "execute_result"
    }
   ],
   "source": [
    "#Creating a series with a python dictionary \n",
    "dict1 = {\"name\":\"John\", \"age\":30, \"job\":\"analyst\"}\n",
    "dict1"
   ]
  },
  {
   "cell_type": "code",
   "execution_count": 15,
   "metadata": {},
   "outputs": [
    {
     "data": {
      "text/plain": [
       "name       John\n",
       "age          30\n",
       "job     analyst\n",
       "dtype: object"
      ]
     },
     "execution_count": 15,
     "metadata": {},
     "output_type": "execute_result"
    }
   ],
   "source": [
    "pd.Series(dict1)"
   ]
  },
  {
   "cell_type": "code",
   "execution_count": 16,
   "metadata": {},
   "outputs": [
    {
     "data": {
      "text/plain": [
       "age          30\n",
       "job     analyst\n",
       "D           NaN\n",
       "name       John\n",
       "dtype: object"
      ]
     },
     "execution_count": 16,
     "metadata": {},
     "output_type": "execute_result"
    }
   ],
   "source": [
    "#rearrange the indexing \n",
    "pd.Series(dict1, index=[\"age\",\"job\",\"D\",\"name\"])"
   ]
  },
  {
   "cell_type": "code",
   "execution_count": 17,
   "metadata": {},
   "outputs": [
    {
     "data": {
      "text/html": [
       "<div>\n",
       "<style scoped>\n",
       "    .dataframe tbody tr th:only-of-type {\n",
       "        vertical-align: middle;\n",
       "    }\n",
       "\n",
       "    .dataframe tbody tr th {\n",
       "        vertical-align: top;\n",
       "    }\n",
       "\n",
       "    .dataframe thead th {\n",
       "        text-align: right;\n",
       "    }\n",
       "</style>\n",
       "<table border=\"1\" class=\"dataframe\">\n",
       "  <thead>\n",
       "    <tr style=\"text-align: right;\">\n",
       "      <th></th>\n",
       "      <th>A</th>\n",
       "      <th>B</th>\n",
       "      <th>C</th>\n",
       "      <th>D</th>\n",
       "    </tr>\n",
       "  </thead>\n",
       "  <tbody>\n",
       "    <tr>\n",
       "      <th>2021-02-01</th>\n",
       "      <td>0.138932</td>\n",
       "      <td>1.578529</td>\n",
       "      <td>0.445617</td>\n",
       "      <td>-0.584152</td>\n",
       "    </tr>\n",
       "    <tr>\n",
       "      <th>2021-02-02</th>\n",
       "      <td>-1.599465</td>\n",
       "      <td>-0.254770</td>\n",
       "      <td>-1.058437</td>\n",
       "      <td>0.523003</td>\n",
       "    </tr>\n",
       "    <tr>\n",
       "      <th>2021-02-03</th>\n",
       "      <td>-0.336687</td>\n",
       "      <td>0.762339</td>\n",
       "      <td>-0.713211</td>\n",
       "      <td>-0.443756</td>\n",
       "    </tr>\n",
       "    <tr>\n",
       "      <th>2021-02-04</th>\n",
       "      <td>-1.804433</td>\n",
       "      <td>-1.417497</td>\n",
       "      <td>-2.241141</td>\n",
       "      <td>0.170254</td>\n",
       "    </tr>\n",
       "    <tr>\n",
       "      <th>2021-02-05</th>\n",
       "      <td>-0.173326</td>\n",
       "      <td>1.630408</td>\n",
       "      <td>1.908817</td>\n",
       "      <td>-1.802246</td>\n",
       "    </tr>\n",
       "    <tr>\n",
       "      <th>2021-02-06</th>\n",
       "      <td>-0.795458</td>\n",
       "      <td>-1.352673</td>\n",
       "      <td>-1.098455</td>\n",
       "      <td>0.445624</td>\n",
       "    </tr>\n",
       "  </tbody>\n",
       "</table>\n",
       "</div>"
      ],
      "text/plain": [
       "                   A         B         C         D\n",
       "2021-02-01  0.138932  1.578529  0.445617 -0.584152\n",
       "2021-02-02 -1.599465 -0.254770 -1.058437  0.523003\n",
       "2021-02-03 -0.336687  0.762339 -0.713211 -0.443756\n",
       "2021-02-04 -1.804433 -1.417497 -2.241141  0.170254\n",
       "2021-02-05 -0.173326  1.630408  1.908817 -1.802246\n",
       "2021-02-06 -0.795458 -1.352673 -1.098455  0.445624"
      ]
     },
     "execution_count": 17,
     "metadata": {},
     "output_type": "execute_result"
    }
   ],
   "source": [
    "#Dataframes\n",
    "df2"
   ]
  },
  {
   "cell_type": "code",
   "execution_count": 18,
   "metadata": {},
   "outputs": [
    {
     "data": {
      "text/html": [
       "<div>\n",
       "<style scoped>\n",
       "    .dataframe tbody tr th:only-of-type {\n",
       "        vertical-align: middle;\n",
       "    }\n",
       "\n",
       "    .dataframe tbody tr th {\n",
       "        vertical-align: top;\n",
       "    }\n",
       "\n",
       "    .dataframe thead th {\n",
       "        text-align: right;\n",
       "    }\n",
       "</style>\n",
       "<table border=\"1\" class=\"dataframe\">\n",
       "  <thead>\n",
       "    <tr style=\"text-align: right;\">\n",
       "      <th></th>\n",
       "      <th>A</th>\n",
       "      <th>B</th>\n",
       "      <th>C</th>\n",
       "      <th>D</th>\n",
       "    </tr>\n",
       "  </thead>\n",
       "  <tbody>\n",
       "    <tr>\n",
       "      <th>2021-02-01</th>\n",
       "      <td>0.138932</td>\n",
       "      <td>1.578529</td>\n",
       "      <td>0.445617</td>\n",
       "      <td>-0.584152</td>\n",
       "    </tr>\n",
       "    <tr>\n",
       "      <th>2021-02-02</th>\n",
       "      <td>-1.599465</td>\n",
       "      <td>-0.254770</td>\n",
       "      <td>-1.058437</td>\n",
       "      <td>0.523003</td>\n",
       "    </tr>\n",
       "  </tbody>\n",
       "</table>\n",
       "</div>"
      ],
      "text/plain": [
       "                   A         B         C         D\n",
       "2021-02-01  0.138932  1.578529  0.445617 -0.584152\n",
       "2021-02-02 -1.599465 -0.254770 -1.058437  0.523003"
      ]
     },
     "execution_count": 18,
     "metadata": {},
     "output_type": "execute_result"
    }
   ],
   "source": [
    "#view the first 5 rows or the last 5 rows\n",
    "df2.head(2)"
   ]
  },
  {
   "cell_type": "code",
   "execution_count": 19,
   "metadata": {},
   "outputs": [
    {
     "data": {
      "text/html": [
       "<div>\n",
       "<style scoped>\n",
       "    .dataframe tbody tr th:only-of-type {\n",
       "        vertical-align: middle;\n",
       "    }\n",
       "\n",
       "    .dataframe tbody tr th {\n",
       "        vertical-align: top;\n",
       "    }\n",
       "\n",
       "    .dataframe thead th {\n",
       "        text-align: right;\n",
       "    }\n",
       "</style>\n",
       "<table border=\"1\" class=\"dataframe\">\n",
       "  <thead>\n",
       "    <tr style=\"text-align: right;\">\n",
       "      <th></th>\n",
       "      <th>A</th>\n",
       "      <th>B</th>\n",
       "      <th>C</th>\n",
       "      <th>D</th>\n",
       "    </tr>\n",
       "  </thead>\n",
       "  <tbody>\n",
       "    <tr>\n",
       "      <th>2021-02-02</th>\n",
       "      <td>-1.599465</td>\n",
       "      <td>-0.254770</td>\n",
       "      <td>-1.058437</td>\n",
       "      <td>0.523003</td>\n",
       "    </tr>\n",
       "    <tr>\n",
       "      <th>2021-02-03</th>\n",
       "      <td>-0.336687</td>\n",
       "      <td>0.762339</td>\n",
       "      <td>-0.713211</td>\n",
       "      <td>-0.443756</td>\n",
       "    </tr>\n",
       "    <tr>\n",
       "      <th>2021-02-04</th>\n",
       "      <td>-1.804433</td>\n",
       "      <td>-1.417497</td>\n",
       "      <td>-2.241141</td>\n",
       "      <td>0.170254</td>\n",
       "    </tr>\n",
       "    <tr>\n",
       "      <th>2021-02-05</th>\n",
       "      <td>-0.173326</td>\n",
       "      <td>1.630408</td>\n",
       "      <td>1.908817</td>\n",
       "      <td>-1.802246</td>\n",
       "    </tr>\n",
       "    <tr>\n",
       "      <th>2021-02-06</th>\n",
       "      <td>-0.795458</td>\n",
       "      <td>-1.352673</td>\n",
       "      <td>-1.098455</td>\n",
       "      <td>0.445624</td>\n",
       "    </tr>\n",
       "  </tbody>\n",
       "</table>\n",
       "</div>"
      ],
      "text/plain": [
       "                   A         B         C         D\n",
       "2021-02-02 -1.599465 -0.254770 -1.058437  0.523003\n",
       "2021-02-03 -0.336687  0.762339 -0.713211 -0.443756\n",
       "2021-02-04 -1.804433 -1.417497 -2.241141  0.170254\n",
       "2021-02-05 -0.173326  1.630408  1.908817 -1.802246\n",
       "2021-02-06 -0.795458 -1.352673 -1.098455  0.445624"
      ]
     },
     "execution_count": 19,
     "metadata": {},
     "output_type": "execute_result"
    }
   ],
   "source": [
    "df2.tail() #gives the last 5 values in a dataset "
   ]
  },
  {
   "cell_type": "code",
   "execution_count": 57,
   "metadata": {},
   "outputs": [
    {
     "data": {
      "text/plain": [
       "DatetimeIndex(['2021-02-01', '2021-02-02', '2021-02-03', '2021-02-04',\n",
       "               '2021-02-05', '2021-02-06'],\n",
       "              dtype='datetime64[ns]', freq='D')"
      ]
     },
     "execution_count": 57,
     "metadata": {},
     "output_type": "execute_result"
    }
   ],
   "source": [
    "#display the column headers\n",
    "df2.columns\n",
    "\n",
    "#display the index \n",
    "df2.index"
   ]
  },
  {
   "cell_type": "code",
   "execution_count": 21,
   "metadata": {},
   "outputs": [
    {
     "data": {
      "text/plain": [
       "<bound method NDFrame.describe of                    A         B         C         D\n",
       "2021-02-01  0.138932  1.578529  0.445617 -0.584152\n",
       "2021-02-02 -1.599465 -0.254770 -1.058437  0.523003\n",
       "2021-02-03 -0.336687  0.762339 -0.713211 -0.443756\n",
       "2021-02-04 -1.804433 -1.417497 -2.241141  0.170254\n",
       "2021-02-05 -0.173326  1.630408  1.908817 -1.802246\n",
       "2021-02-06 -0.795458 -1.352673 -1.098455  0.445624>"
      ]
     },
     "execution_count": 21,
     "metadata": {},
     "output_type": "execute_result"
    }
   ],
   "source": [
    "df2.describe"
   ]
  },
  {
   "cell_type": "code",
   "execution_count": 22,
   "metadata": {},
   "outputs": [
    {
     "data": {
      "text/html": [
       "<div>\n",
       "<style scoped>\n",
       "    .dataframe tbody tr th:only-of-type {\n",
       "        vertical-align: middle;\n",
       "    }\n",
       "\n",
       "    .dataframe tbody tr th {\n",
       "        vertical-align: top;\n",
       "    }\n",
       "\n",
       "    .dataframe thead th {\n",
       "        text-align: right;\n",
       "    }\n",
       "</style>\n",
       "<table border=\"1\" class=\"dataframe\">\n",
       "  <thead>\n",
       "    <tr style=\"text-align: right;\">\n",
       "      <th></th>\n",
       "      <th>2021-02-01</th>\n",
       "      <th>2021-02-02</th>\n",
       "      <th>2021-02-03</th>\n",
       "      <th>2021-02-04</th>\n",
       "      <th>2021-02-05</th>\n",
       "      <th>2021-02-06</th>\n",
       "    </tr>\n",
       "  </thead>\n",
       "  <tbody>\n",
       "    <tr>\n",
       "      <th>A</th>\n",
       "      <td>0.138932</td>\n",
       "      <td>-1.599465</td>\n",
       "      <td>-0.336687</td>\n",
       "      <td>-1.804433</td>\n",
       "      <td>-0.173326</td>\n",
       "      <td>-0.795458</td>\n",
       "    </tr>\n",
       "    <tr>\n",
       "      <th>B</th>\n",
       "      <td>1.578529</td>\n",
       "      <td>-0.254770</td>\n",
       "      <td>0.762339</td>\n",
       "      <td>-1.417497</td>\n",
       "      <td>1.630408</td>\n",
       "      <td>-1.352673</td>\n",
       "    </tr>\n",
       "    <tr>\n",
       "      <th>C</th>\n",
       "      <td>0.445617</td>\n",
       "      <td>-1.058437</td>\n",
       "      <td>-0.713211</td>\n",
       "      <td>-2.241141</td>\n",
       "      <td>1.908817</td>\n",
       "      <td>-1.098455</td>\n",
       "    </tr>\n",
       "    <tr>\n",
       "      <th>D</th>\n",
       "      <td>-0.584152</td>\n",
       "      <td>0.523003</td>\n",
       "      <td>-0.443756</td>\n",
       "      <td>0.170254</td>\n",
       "      <td>-1.802246</td>\n",
       "      <td>0.445624</td>\n",
       "    </tr>\n",
       "  </tbody>\n",
       "</table>\n",
       "</div>"
      ],
      "text/plain": [
       "   2021-02-01  2021-02-02  2021-02-03  2021-02-04  2021-02-05  2021-02-06\n",
       "A    0.138932   -1.599465   -0.336687   -1.804433   -0.173326   -0.795458\n",
       "B    1.578529   -0.254770    0.762339   -1.417497    1.630408   -1.352673\n",
       "C    0.445617   -1.058437   -0.713211   -2.241141    1.908817   -1.098455\n",
       "D   -0.584152    0.523003   -0.443756    0.170254   -1.802246    0.445624"
      ]
     },
     "execution_count": 22,
     "metadata": {},
     "output_type": "execute_result"
    }
   ],
   "source": [
    "df2.T #to transpose your data"
   ]
  },
  {
   "cell_type": "markdown",
   "metadata": {},
   "source": [
    "## Importing files from different sources using PANDAS"
   ]
  },
  {
   "cell_type": "markdown",
   "metadata": {},
   "source": [
    "csv, excel, json files "
   ]
  },
  {
   "cell_type": "code",
   "execution_count": 23,
   "metadata": {},
   "outputs": [],
   "source": [
    "#CSV files \n",
    "import numpy as np\n",
    "import pandas as pd"
   ]
  },
  {
   "cell_type": "markdown",
   "metadata": {},
   "source": [
    "## SYNTAX\n",
    "## pd.read_csv(location of file, seperator)"
   ]
  },
  {
   "cell_type": "code",
   "execution_count": 24,
   "metadata": {},
   "outputs": [],
   "source": [
    "dogs = pd.read_csv('datasets/new_dogs.csv', delimiter=\",\")"
   ]
  },
  {
   "cell_type": "code",
   "execution_count": 25,
   "metadata": {},
   "outputs": [
    {
     "data": {
      "text/html": [
       "<div>\n",
       "<style scoped>\n",
       "    .dataframe tbody tr th:only-of-type {\n",
       "        vertical-align: middle;\n",
       "    }\n",
       "\n",
       "    .dataframe tbody tr th {\n",
       "        vertical-align: top;\n",
       "    }\n",
       "\n",
       "    .dataframe thead th {\n",
       "        text-align: right;\n",
       "    }\n",
       "</style>\n",
       "<table border=\"1\" class=\"dataframe\">\n",
       "  <thead>\n",
       "    <tr style=\"text-align: right;\">\n",
       "      <th></th>\n",
       "      <th>transaction_id</th>\n",
       "      <th>product_id</th>\n",
       "      <th>price</th>\n",
       "    </tr>\n",
       "  </thead>\n",
       "  <tbody>\n",
       "    <tr>\n",
       "      <th>0</th>\n",
       "      <td>1001</td>\n",
       "      <td>1</td>\n",
       "      <td>5.95</td>\n",
       "    </tr>\n",
       "    <tr>\n",
       "      <th>1</th>\n",
       "      <td>1002</td>\n",
       "      <td>2</td>\n",
       "      <td>6.95</td>\n",
       "    </tr>\n",
       "    <tr>\n",
       "      <th>2</th>\n",
       "      <td>1003</td>\n",
       "      <td>3</td>\n",
       "      <td>7.95</td>\n",
       "    </tr>\n",
       "  </tbody>\n",
       "</table>\n",
       "</div>"
      ],
      "text/plain": [
       "   transaction_id  product_id  price \n",
       "0            1001           1    5.95\n",
       "1            1002           2    6.95\n",
       "2            1003           3    7.95"
      ]
     },
     "execution_count": 25,
     "metadata": {},
     "output_type": "execute_result"
    }
   ],
   "source": [
    "#Excel files \n",
    "pd.read_excel('datasets/transactions.xlsx')"
   ]
  },
  {
   "cell_type": "code",
   "execution_count": 26,
   "metadata": {},
   "outputs": [],
   "source": [
    "#Json files : Javascript Object notation\n",
    "coin_data = pd.read_json(\"https://api.coingecko.com/api/v3/coins/markets?vs_currency=ngn&order=market_cap_desc&per_page=100&page=1&sparkline=false\")  "
   ]
  },
  {
   "cell_type": "code",
   "execution_count": 27,
   "metadata": {},
   "outputs": [
    {
     "data": {
      "text/html": [
       "<div>\n",
       "<style scoped>\n",
       "    .dataframe tbody tr th:only-of-type {\n",
       "        vertical-align: middle;\n",
       "    }\n",
       "\n",
       "    .dataframe tbody tr th {\n",
       "        vertical-align: top;\n",
       "    }\n",
       "\n",
       "    .dataframe thead th {\n",
       "        text-align: right;\n",
       "    }\n",
       "</style>\n",
       "<table border=\"1\" class=\"dataframe\">\n",
       "  <thead>\n",
       "    <tr style=\"text-align: right;\">\n",
       "      <th></th>\n",
       "      <th>id</th>\n",
       "      <th>symbol</th>\n",
       "      <th>name</th>\n",
       "      <th>image</th>\n",
       "      <th>current_price</th>\n",
       "      <th>market_cap</th>\n",
       "      <th>market_cap_rank</th>\n",
       "      <th>fully_diluted_valuation</th>\n",
       "      <th>total_volume</th>\n",
       "      <th>high_24h</th>\n",
       "      <th>...</th>\n",
       "      <th>total_supply</th>\n",
       "      <th>max_supply</th>\n",
       "      <th>ath</th>\n",
       "      <th>ath_change_percentage</th>\n",
       "      <th>ath_date</th>\n",
       "      <th>atl</th>\n",
       "      <th>atl_change_percentage</th>\n",
       "      <th>atl_date</th>\n",
       "      <th>roi</th>\n",
       "      <th>last_updated</th>\n",
       "    </tr>\n",
       "  </thead>\n",
       "  <tbody>\n",
       "    <tr>\n",
       "      <th>0</th>\n",
       "      <td>bitcoin</td>\n",
       "      <td>btc</td>\n",
       "      <td>Bitcoin</td>\n",
       "      <td>https://assets.coingecko.com/coins/images/1/la...</td>\n",
       "      <td>21198894.00</td>\n",
       "      <td>395014746101407</td>\n",
       "      <td>1</td>\n",
       "      <td>4.451768e+14</td>\n",
       "      <td>2.728354e+13</td>\n",
       "      <td>21717523.00</td>\n",
       "      <td>...</td>\n",
       "      <td>2.100000e+07</td>\n",
       "      <td>2.100000e+07</td>\n",
       "      <td>21717523.00</td>\n",
       "      <td>-2.38806</td>\n",
       "      <td>2021-02-19T12:42:17.862Z</td>\n",
       "      <td>4289706.00</td>\n",
       "      <td>394.18057</td>\n",
       "      <td>2020-10-15T09:39:31.080Z</td>\n",
       "      <td>None</td>\n",
       "      <td>2021-02-20T09:38:59.181Z</td>\n",
       "    </tr>\n",
       "    <tr>\n",
       "      <th>1</th>\n",
       "      <td>ethereum</td>\n",
       "      <td>eth</td>\n",
       "      <td>Ethereum</td>\n",
       "      <td>https://assets.coingecko.com/coins/images/279/...</td>\n",
       "      <td>766179.00</td>\n",
       "      <td>87916629830146</td>\n",
       "      <td>2</td>\n",
       "      <td>NaN</td>\n",
       "      <td>1.535273e+13</td>\n",
       "      <td>798601.00</td>\n",
       "      <td>...</td>\n",
       "      <td>NaN</td>\n",
       "      <td>NaN</td>\n",
       "      <td>798601.00</td>\n",
       "      <td>-4.12387</td>\n",
       "      <td>2021-02-19T12:37:45.732Z</td>\n",
       "      <td>138690.00</td>\n",
       "      <td>452.07038</td>\n",
       "      <td>2020-10-17T00:43:04.177Z</td>\n",
       "      <td>{'times': 47.50065222933275, 'currency': 'btc'...</td>\n",
       "      <td>2021-02-20T09:39:51.789Z</td>\n",
       "    </tr>\n",
       "    <tr>\n",
       "      <th>2</th>\n",
       "      <td>binancecoin</td>\n",
       "      <td>bnb</td>\n",
       "      <td>Binance Coin</td>\n",
       "      <td>https://assets.coingecko.com/coins/images/825/...</td>\n",
       "      <td>112391.00</td>\n",
       "      <td>17368169901621</td>\n",
       "      <td>3</td>\n",
       "      <td>1.916642e+13</td>\n",
       "      <td>6.724524e+12</td>\n",
       "      <td>129515.00</td>\n",
       "      <td>...</td>\n",
       "      <td>1.705337e+08</td>\n",
       "      <td>1.705337e+08</td>\n",
       "      <td>129515.00</td>\n",
       "      <td>-13.19735</td>\n",
       "      <td>2021-02-19T23:41:54.286Z</td>\n",
       "      <td>9955.07</td>\n",
       "      <td>1029.30217</td>\n",
       "      <td>2020-11-04T15:50:12.093Z</td>\n",
       "      <td>None</td>\n",
       "      <td>2021-02-20T09:40:26.471Z</td>\n",
       "    </tr>\n",
       "    <tr>\n",
       "      <th>3</th>\n",
       "      <td>polkadot</td>\n",
       "      <td>dot</td>\n",
       "      <td>Polkadot</td>\n",
       "      <td>https://assets.coingecko.com/coins/images/1217...</td>\n",
       "      <td>14393.69</td>\n",
       "      <td>13929344509043</td>\n",
       "      <td>4</td>\n",
       "      <td>NaN</td>\n",
       "      <td>1.489259e+12</td>\n",
       "      <td>14996.56</td>\n",
       "      <td>...</td>\n",
       "      <td>1.045378e+09</td>\n",
       "      <td>NaN</td>\n",
       "      <td>14996.56</td>\n",
       "      <td>-4.03778</td>\n",
       "      <td>2021-02-20T07:08:09.320Z</td>\n",
       "      <td>1471.84</td>\n",
       "      <td>877.75582</td>\n",
       "      <td>2020-10-16T04:29:43.107Z</td>\n",
       "      <td>None</td>\n",
       "      <td>2021-02-20T09:41:32.212Z</td>\n",
       "    </tr>\n",
       "    <tr>\n",
       "      <th>4</th>\n",
       "      <td>tether</td>\n",
       "      <td>usdt</td>\n",
       "      <td>Tether</td>\n",
       "      <td>https://assets.coingecko.com/coins/images/325/...</td>\n",
       "      <td>382.54</td>\n",
       "      <td>13055683746842</td>\n",
       "      <td>5</td>\n",
       "      <td>NaN</td>\n",
       "      <td>4.702838e+13</td>\n",
       "      <td>412.26</td>\n",
       "      <td>...</td>\n",
       "      <td>3.412884e+10</td>\n",
       "      <td>NaN</td>\n",
       "      <td>414.19</td>\n",
       "      <td>-7.64096</td>\n",
       "      <td>2021-02-18T13:03:58.142Z</td>\n",
       "      <td>373.99</td>\n",
       "      <td>2.28778</td>\n",
       "      <td>2020-12-02T12:07:41.765Z</td>\n",
       "      <td>None</td>\n",
       "      <td>2021-02-20T09:10:20.235Z</td>\n",
       "    </tr>\n",
       "    <tr>\n",
       "      <th>5</th>\n",
       "      <td>cardano</td>\n",
       "      <td>ada</td>\n",
       "      <td>Cardano</td>\n",
       "      <td>https://assets.coingecko.com/coins/images/975/...</td>\n",
       "      <td>402.02</td>\n",
       "      <td>12833917657491</td>\n",
       "      <td>6</td>\n",
       "      <td>NaN</td>\n",
       "      <td>2.557495e+12</td>\n",
       "      <td>409.27</td>\n",
       "      <td>...</td>\n",
       "      <td>4.500000e+10</td>\n",
       "      <td>NaN</td>\n",
       "      <td>409.27</td>\n",
       "      <td>-2.98072</td>\n",
       "      <td>2021-02-20T06:42:22.832Z</td>\n",
       "      <td>34.17</td>\n",
       "      <td>1061.98402</td>\n",
       "      <td>2020-11-03T04:34:07.685Z</td>\n",
       "      <td>None</td>\n",
       "      <td>2021-02-20T09:38:08.459Z</td>\n",
       "    </tr>\n",
       "    <tr>\n",
       "      <th>6</th>\n",
       "      <td>ripple</td>\n",
       "      <td>xrp</td>\n",
       "      <td>XRP</td>\n",
       "      <td>https://assets.coingecko.com/coins/images/44/l...</td>\n",
       "      <td>216.28</td>\n",
       "      <td>9883769447398</td>\n",
       "      <td>7</td>\n",
       "      <td>NaN</td>\n",
       "      <td>2.313154e+12</td>\n",
       "      <td>236.82</td>\n",
       "      <td>...</td>\n",
       "      <td>1.000000e+11</td>\n",
       "      <td>NaN</td>\n",
       "      <td>293.89</td>\n",
       "      <td>-26.40873</td>\n",
       "      <td>2020-11-24T05:58:06.250Z</td>\n",
       "      <td>67.32</td>\n",
       "      <td>221.25116</td>\n",
       "      <td>2020-12-29T16:07:19.613Z</td>\n",
       "      <td>None</td>\n",
       "      <td>2021-02-20T09:37:59.210Z</td>\n",
       "    </tr>\n",
       "    <tr>\n",
       "      <th>7</th>\n",
       "      <td>litecoin</td>\n",
       "      <td>ltc</td>\n",
       "      <td>Litecoin</td>\n",
       "      <td>https://assets.coingecko.com/coins/images/2/la...</td>\n",
       "      <td>91363.00</td>\n",
       "      <td>6099093967910</td>\n",
       "      <td>8</td>\n",
       "      <td>NaN</td>\n",
       "      <td>3.498337e+12</td>\n",
       "      <td>96247.00</td>\n",
       "      <td>...</td>\n",
       "      <td>8.400000e+07</td>\n",
       "      <td>NaN</td>\n",
       "      <td>97195.00</td>\n",
       "      <td>-6.32952</td>\n",
       "      <td>2021-02-18T02:07:40.672Z</td>\n",
       "      <td>17716.59</td>\n",
       "      <td>413.88585</td>\n",
       "      <td>2020-10-16T04:29:13.800Z</td>\n",
       "      <td>None</td>\n",
       "      <td>2021-02-20T09:40:04.325Z</td>\n",
       "    </tr>\n",
       "    <tr>\n",
       "      <th>8</th>\n",
       "      <td>chainlink</td>\n",
       "      <td>link</td>\n",
       "      <td>Chainlink</td>\n",
       "      <td>https://assets.coingecko.com/coins/images/877/...</td>\n",
       "      <td>13253.61</td>\n",
       "      <td>5414226032326</td>\n",
       "      <td>9</td>\n",
       "      <td>1.325361e+13</td>\n",
       "      <td>1.021998e+12</td>\n",
       "      <td>14130.93</td>\n",
       "      <td>...</td>\n",
       "      <td>1.000000e+09</td>\n",
       "      <td>1.000000e+09</td>\n",
       "      <td>14130.93</td>\n",
       "      <td>-6.95186</td>\n",
       "      <td>2021-02-19T12:45:32.624Z</td>\n",
       "      <td>3528.04</td>\n",
       "      <td>272.68783</td>\n",
       "      <td>2020-12-23T22:28:40.835Z</td>\n",
       "      <td>None</td>\n",
       "      <td>2021-02-20T09:37:42.454Z</td>\n",
       "    </tr>\n",
       "    <tr>\n",
       "      <th>9</th>\n",
       "      <td>bitcoin-cash</td>\n",
       "      <td>bch</td>\n",
       "      <td>Bitcoin Cash</td>\n",
       "      <td>https://assets.coingecko.com/coins/images/780/...</td>\n",
       "      <td>277053.00</td>\n",
       "      <td>5169834686062</td>\n",
       "      <td>10</td>\n",
       "      <td>NaN</td>\n",
       "      <td>2.898380e+12</td>\n",
       "      <td>304211.00</td>\n",
       "      <td>...</td>\n",
       "      <td>2.100000e+07</td>\n",
       "      <td>NaN</td>\n",
       "      <td>304792.00</td>\n",
       "      <td>-9.47010</td>\n",
       "      <td>2021-02-16T03:28:04.712Z</td>\n",
       "      <td>89025.00</td>\n",
       "      <td>209.94326</td>\n",
       "      <td>2020-11-04T11:20:21.006Z</td>\n",
       "      <td>None</td>\n",
       "      <td>2021-02-20T09:37:45.861Z</td>\n",
       "    </tr>\n",
       "  </tbody>\n",
       "</table>\n",
       "<p>10 rows × 26 columns</p>\n",
       "</div>"
      ],
      "text/plain": [
       "             id symbol          name  \\\n",
       "0       bitcoin    btc       Bitcoin   \n",
       "1      ethereum    eth      Ethereum   \n",
       "2   binancecoin    bnb  Binance Coin   \n",
       "3      polkadot    dot      Polkadot   \n",
       "4        tether   usdt        Tether   \n",
       "5       cardano    ada       Cardano   \n",
       "6        ripple    xrp           XRP   \n",
       "7      litecoin    ltc      Litecoin   \n",
       "8     chainlink   link     Chainlink   \n",
       "9  bitcoin-cash    bch  Bitcoin Cash   \n",
       "\n",
       "                                               image  current_price  \\\n",
       "0  https://assets.coingecko.com/coins/images/1/la...    21198894.00   \n",
       "1  https://assets.coingecko.com/coins/images/279/...      766179.00   \n",
       "2  https://assets.coingecko.com/coins/images/825/...      112391.00   \n",
       "3  https://assets.coingecko.com/coins/images/1217...       14393.69   \n",
       "4  https://assets.coingecko.com/coins/images/325/...         382.54   \n",
       "5  https://assets.coingecko.com/coins/images/975/...         402.02   \n",
       "6  https://assets.coingecko.com/coins/images/44/l...         216.28   \n",
       "7  https://assets.coingecko.com/coins/images/2/la...       91363.00   \n",
       "8  https://assets.coingecko.com/coins/images/877/...       13253.61   \n",
       "9  https://assets.coingecko.com/coins/images/780/...      277053.00   \n",
       "\n",
       "        market_cap  market_cap_rank  fully_diluted_valuation  total_volume  \\\n",
       "0  395014746101407                1             4.451768e+14  2.728354e+13   \n",
       "1   87916629830146                2                      NaN  1.535273e+13   \n",
       "2   17368169901621                3             1.916642e+13  6.724524e+12   \n",
       "3   13929344509043                4                      NaN  1.489259e+12   \n",
       "4   13055683746842                5                      NaN  4.702838e+13   \n",
       "5   12833917657491                6                      NaN  2.557495e+12   \n",
       "6    9883769447398                7                      NaN  2.313154e+12   \n",
       "7    6099093967910                8                      NaN  3.498337e+12   \n",
       "8    5414226032326                9             1.325361e+13  1.021998e+12   \n",
       "9    5169834686062               10                      NaN  2.898380e+12   \n",
       "\n",
       "      high_24h  ...  total_supply    max_supply          ath  \\\n",
       "0  21717523.00  ...  2.100000e+07  2.100000e+07  21717523.00   \n",
       "1    798601.00  ...           NaN           NaN    798601.00   \n",
       "2    129515.00  ...  1.705337e+08  1.705337e+08    129515.00   \n",
       "3     14996.56  ...  1.045378e+09           NaN     14996.56   \n",
       "4       412.26  ...  3.412884e+10           NaN       414.19   \n",
       "5       409.27  ...  4.500000e+10           NaN       409.27   \n",
       "6       236.82  ...  1.000000e+11           NaN       293.89   \n",
       "7     96247.00  ...  8.400000e+07           NaN     97195.00   \n",
       "8     14130.93  ...  1.000000e+09  1.000000e+09     14130.93   \n",
       "9    304211.00  ...  2.100000e+07           NaN    304792.00   \n",
       "\n",
       "   ath_change_percentage                  ath_date         atl  \\\n",
       "0               -2.38806  2021-02-19T12:42:17.862Z  4289706.00   \n",
       "1               -4.12387  2021-02-19T12:37:45.732Z   138690.00   \n",
       "2              -13.19735  2021-02-19T23:41:54.286Z     9955.07   \n",
       "3               -4.03778  2021-02-20T07:08:09.320Z     1471.84   \n",
       "4               -7.64096  2021-02-18T13:03:58.142Z      373.99   \n",
       "5               -2.98072  2021-02-20T06:42:22.832Z       34.17   \n",
       "6              -26.40873  2020-11-24T05:58:06.250Z       67.32   \n",
       "7               -6.32952  2021-02-18T02:07:40.672Z    17716.59   \n",
       "8               -6.95186  2021-02-19T12:45:32.624Z     3528.04   \n",
       "9               -9.47010  2021-02-16T03:28:04.712Z    89025.00   \n",
       "\n",
       "   atl_change_percentage                  atl_date  \\\n",
       "0              394.18057  2020-10-15T09:39:31.080Z   \n",
       "1              452.07038  2020-10-17T00:43:04.177Z   \n",
       "2             1029.30217  2020-11-04T15:50:12.093Z   \n",
       "3              877.75582  2020-10-16T04:29:43.107Z   \n",
       "4                2.28778  2020-12-02T12:07:41.765Z   \n",
       "5             1061.98402  2020-11-03T04:34:07.685Z   \n",
       "6              221.25116  2020-12-29T16:07:19.613Z   \n",
       "7              413.88585  2020-10-16T04:29:13.800Z   \n",
       "8              272.68783  2020-12-23T22:28:40.835Z   \n",
       "9              209.94326  2020-11-04T11:20:21.006Z   \n",
       "\n",
       "                                                 roi              last_updated  \n",
       "0                                               None  2021-02-20T09:38:59.181Z  \n",
       "1  {'times': 47.50065222933275, 'currency': 'btc'...  2021-02-20T09:39:51.789Z  \n",
       "2                                               None  2021-02-20T09:40:26.471Z  \n",
       "3                                               None  2021-02-20T09:41:32.212Z  \n",
       "4                                               None  2021-02-20T09:10:20.235Z  \n",
       "5                                               None  2021-02-20T09:38:08.459Z  \n",
       "6                                               None  2021-02-20T09:37:59.210Z  \n",
       "7                                               None  2021-02-20T09:40:04.325Z  \n",
       "8                                               None  2021-02-20T09:37:42.454Z  \n",
       "9                                               None  2021-02-20T09:37:45.861Z  \n",
       "\n",
       "[10 rows x 26 columns]"
      ]
     },
     "execution_count": 27,
     "metadata": {},
     "output_type": "execute_result"
    }
   ],
   "source": [
    "coin_data.head(10)"
   ]
  },
  {
   "cell_type": "markdown",
   "metadata": {},
   "source": [
    "## Writing data to files "
   ]
  },
  {
   "cell_type": "code",
   "execution_count": 28,
   "metadata": {},
   "outputs": [
    {
     "data": {
      "text/html": [
       "<div>\n",
       "<style scoped>\n",
       "    .dataframe tbody tr th:only-of-type {\n",
       "        vertical-align: middle;\n",
       "    }\n",
       "\n",
       "    .dataframe tbody tr th {\n",
       "        vertical-align: top;\n",
       "    }\n",
       "\n",
       "    .dataframe thead th {\n",
       "        text-align: right;\n",
       "    }\n",
       "</style>\n",
       "<table border=\"1\" class=\"dataframe\">\n",
       "  <thead>\n",
       "    <tr style=\"text-align: right;\">\n",
       "      <th></th>\n",
       "      <th>name</th>\n",
       "      <th>breed</th>\n",
       "      <th>height_cm</th>\n",
       "      <th>weight_kg</th>\n",
       "      <th>d_o_b</th>\n",
       "    </tr>\n",
       "  </thead>\n",
       "  <tbody>\n",
       "    <tr>\n",
       "      <th>0</th>\n",
       "      <td>Ginger</td>\n",
       "      <td>Dachshund</td>\n",
       "      <td>22</td>\n",
       "      <td>10</td>\n",
       "      <td>2019-03-14</td>\n",
       "    </tr>\n",
       "    <tr>\n",
       "      <th>1</th>\n",
       "      <td>Scout</td>\n",
       "      <td>Dalmatian</td>\n",
       "      <td>59</td>\n",
       "      <td>25</td>\n",
       "      <td>2019-05-09</td>\n",
       "    </tr>\n",
       "    <tr>\n",
       "      <th>2</th>\n",
       "      <td>Marley</td>\n",
       "      <td>Alsasian</td>\n",
       "      <td>56</td>\n",
       "      <td>28</td>\n",
       "      <td>2020-04-08</td>\n",
       "    </tr>\n",
       "  </tbody>\n",
       "</table>\n",
       "</div>"
      ],
      "text/plain": [
       "     name      breed  height_cm  weight_kg       d_o_b\n",
       "0  Ginger  Dachshund         22         10  2019-03-14\n",
       "1   Scout  Dalmatian         59         25  2019-05-09\n",
       "2  Marley   Alsasian         56         28  2020-04-08"
      ]
     },
     "execution_count": 28,
     "metadata": {},
     "output_type": "execute_result"
    }
   ],
   "source": [
    "dogs"
   ]
  },
  {
   "cell_type": "code",
   "execution_count": 29,
   "metadata": {},
   "outputs": [],
   "source": [
    "new_dogs = dogs.copy()"
   ]
  },
  {
   "cell_type": "code",
   "execution_count": 30,
   "metadata": {},
   "outputs": [
    {
     "data": {
      "text/html": [
       "<div>\n",
       "<style scoped>\n",
       "    .dataframe tbody tr th:only-of-type {\n",
       "        vertical-align: middle;\n",
       "    }\n",
       "\n",
       "    .dataframe tbody tr th {\n",
       "        vertical-align: top;\n",
       "    }\n",
       "\n",
       "    .dataframe thead th {\n",
       "        text-align: right;\n",
       "    }\n",
       "</style>\n",
       "<table border=\"1\" class=\"dataframe\">\n",
       "  <thead>\n",
       "    <tr style=\"text-align: right;\">\n",
       "      <th></th>\n",
       "      <th>name</th>\n",
       "      <th>breed</th>\n",
       "      <th>height_cm</th>\n",
       "      <th>weight_kg</th>\n",
       "      <th>d_o_b</th>\n",
       "    </tr>\n",
       "  </thead>\n",
       "  <tbody>\n",
       "    <tr>\n",
       "      <th>0</th>\n",
       "      <td>Ginger</td>\n",
       "      <td>Dachshund</td>\n",
       "      <td>22</td>\n",
       "      <td>10</td>\n",
       "      <td>2019-03-14</td>\n",
       "    </tr>\n",
       "    <tr>\n",
       "      <th>1</th>\n",
       "      <td>Scout</td>\n",
       "      <td>Dalmatian</td>\n",
       "      <td>59</td>\n",
       "      <td>25</td>\n",
       "      <td>2019-05-09</td>\n",
       "    </tr>\n",
       "    <tr>\n",
       "      <th>2</th>\n",
       "      <td>Marley</td>\n",
       "      <td>Alsasian</td>\n",
       "      <td>56</td>\n",
       "      <td>28</td>\n",
       "      <td>2020-04-08</td>\n",
       "    </tr>\n",
       "  </tbody>\n",
       "</table>\n",
       "</div>"
      ],
      "text/plain": [
       "     name      breed  height_cm  weight_kg       d_o_b\n",
       "0  Ginger  Dachshund         22         10  2019-03-14\n",
       "1   Scout  Dalmatian         59         25  2019-05-09\n",
       "2  Marley   Alsasian         56         28  2020-04-08"
      ]
     },
     "execution_count": 30,
     "metadata": {},
     "output_type": "execute_result"
    }
   ],
   "source": [
    "new_dogs"
   ]
  },
  {
   "cell_type": "code",
   "execution_count": 31,
   "metadata": {},
   "outputs": [
    {
     "data": {
      "text/plain": [
       "0    Ginger\n",
       "1     Scout\n",
       "2    Marley\n",
       "Name: name, dtype: object"
      ]
     },
     "execution_count": 31,
     "metadata": {},
     "output_type": "execute_result"
    }
   ],
   "source": [
    "new_dogs['name']"
   ]
  },
  {
   "cell_type": "code",
   "execution_count": 32,
   "metadata": {},
   "outputs": [
    {
     "data": {
      "text/plain": [
       "Index(['name', 'breed', 'height_cm', 'weight_kg', 'd_o_b'], dtype='object')"
      ]
     },
     "execution_count": 32,
     "metadata": {},
     "output_type": "execute_result"
    }
   ],
   "source": [
    "new_dogs.columns"
   ]
  },
  {
   "cell_type": "markdown",
   "metadata": {},
   "source": [
    "## add data to this based on calculations \n",
    "## lets calculate the BMI's "
   ]
  },
  {
   "cell_type": "code",
   "execution_count": 33,
   "metadata": {},
   "outputs": [],
   "source": [
    "new_dogs[\"bmi\"] = (new_dogs[\"weight_kg\"] / (new_dogs[\"height_cm\"] / 100) ** 2)"
   ]
  },
  {
   "cell_type": "code",
   "execution_count": 34,
   "metadata": {},
   "outputs": [
    {
     "data": {
      "text/html": [
       "<div>\n",
       "<style scoped>\n",
       "    .dataframe tbody tr th:only-of-type {\n",
       "        vertical-align: middle;\n",
       "    }\n",
       "\n",
       "    .dataframe tbody tr th {\n",
       "        vertical-align: top;\n",
       "    }\n",
       "\n",
       "    .dataframe thead th {\n",
       "        text-align: right;\n",
       "    }\n",
       "</style>\n",
       "<table border=\"1\" class=\"dataframe\">\n",
       "  <thead>\n",
       "    <tr style=\"text-align: right;\">\n",
       "      <th></th>\n",
       "      <th>name</th>\n",
       "      <th>breed</th>\n",
       "      <th>height_cm</th>\n",
       "      <th>weight_kg</th>\n",
       "      <th>d_o_b</th>\n",
       "      <th>bmi</th>\n",
       "    </tr>\n",
       "  </thead>\n",
       "  <tbody>\n",
       "    <tr>\n",
       "      <th>0</th>\n",
       "      <td>Ginger</td>\n",
       "      <td>Dachshund</td>\n",
       "      <td>22</td>\n",
       "      <td>10</td>\n",
       "      <td>2019-03-14</td>\n",
       "      <td>206.611570</td>\n",
       "    </tr>\n",
       "    <tr>\n",
       "      <th>1</th>\n",
       "      <td>Scout</td>\n",
       "      <td>Dalmatian</td>\n",
       "      <td>59</td>\n",
       "      <td>25</td>\n",
       "      <td>2019-05-09</td>\n",
       "      <td>71.818443</td>\n",
       "    </tr>\n",
       "    <tr>\n",
       "      <th>2</th>\n",
       "      <td>Marley</td>\n",
       "      <td>Alsasian</td>\n",
       "      <td>56</td>\n",
       "      <td>28</td>\n",
       "      <td>2020-04-08</td>\n",
       "      <td>89.285714</td>\n",
       "    </tr>\n",
       "  </tbody>\n",
       "</table>\n",
       "</div>"
      ],
      "text/plain": [
       "     name      breed  height_cm  weight_kg       d_o_b         bmi\n",
       "0  Ginger  Dachshund         22         10  2019-03-14  206.611570\n",
       "1   Scout  Dalmatian         59         25  2019-05-09   71.818443\n",
       "2  Marley   Alsasian         56         28  2020-04-08   89.285714"
      ]
     },
     "execution_count": 34,
     "metadata": {},
     "output_type": "execute_result"
    }
   ],
   "source": [
    "new_dogs"
   ]
  },
  {
   "cell_type": "code",
   "execution_count": 58,
   "metadata": {},
   "outputs": [
    {
     "data": {
      "text/html": [
       "<div>\n",
       "<style scoped>\n",
       "    .dataframe tbody tr th:only-of-type {\n",
       "        vertical-align: middle;\n",
       "    }\n",
       "\n",
       "    .dataframe tbody tr th {\n",
       "        vertical-align: top;\n",
       "    }\n",
       "\n",
       "    .dataframe thead th {\n",
       "        text-align: right;\n",
       "    }\n",
       "</style>\n",
       "<table border=\"1\" class=\"dataframe\">\n",
       "  <thead>\n",
       "    <tr style=\"text-align: right;\">\n",
       "      <th></th>\n",
       "      <th>name</th>\n",
       "      <th>breed</th>\n",
       "      <th>height_cm</th>\n",
       "      <th>weight_kg</th>\n",
       "      <th>d_o_b</th>\n",
       "    </tr>\n",
       "  </thead>\n",
       "  <tbody>\n",
       "    <tr>\n",
       "      <th>0</th>\n",
       "      <td>Ginger</td>\n",
       "      <td>Dachshund</td>\n",
       "      <td>22</td>\n",
       "      <td>10</td>\n",
       "      <td>2019-03-14</td>\n",
       "    </tr>\n",
       "    <tr>\n",
       "      <th>1</th>\n",
       "      <td>Scout</td>\n",
       "      <td>Dalmatian</td>\n",
       "      <td>59</td>\n",
       "      <td>25</td>\n",
       "      <td>2019-05-09</td>\n",
       "    </tr>\n",
       "    <tr>\n",
       "      <th>2</th>\n",
       "      <td>Marley</td>\n",
       "      <td>Alsasian</td>\n",
       "      <td>56</td>\n",
       "      <td>28</td>\n",
       "      <td>2020-04-08</td>\n",
       "    </tr>\n",
       "  </tbody>\n",
       "</table>\n",
       "</div>"
      ],
      "text/plain": [
       "     name      breed  height_cm  weight_kg       d_o_b\n",
       "0  Ginger  Dachshund         22         10  2019-03-14\n",
       "1   Scout  Dalmatian         59         25  2019-05-09\n",
       "2  Marley   Alsasian         56         28  2020-04-08"
      ]
     },
     "execution_count": 58,
     "metadata": {},
     "output_type": "execute_result"
    }
   ],
   "source": [
    "dogs"
   ]
  },
  {
   "cell_type": "markdown",
   "metadata": {},
   "source": [
    "## to create a new csv with the updated data \n",
    "## use the to_csv method"
   ]
  },
  {
   "cell_type": "code",
   "execution_count": 35,
   "metadata": {},
   "outputs": [],
   "source": [
    "new_dogs.to_csv('datasets/dogs_with_bmi.csv')"
   ]
  },
  {
   "cell_type": "markdown",
   "metadata": {},
   "source": [
    "## Selecting specific columns from the dataset"
   ]
  },
  {
   "cell_type": "code",
   "execution_count": 36,
   "metadata": {},
   "outputs": [
    {
     "data": {
      "text/plain": [
       "Index(['id', 'symbol', 'name', 'image', 'current_price', 'market_cap',\n",
       "       'market_cap_rank', 'fully_diluted_valuation', 'total_volume',\n",
       "       'high_24h', 'low_24h', 'price_change_24h',\n",
       "       'price_change_percentage_24h', 'market_cap_change_24h',\n",
       "       'market_cap_change_percentage_24h', 'circulating_supply',\n",
       "       'total_supply', 'max_supply', 'ath', 'ath_change_percentage',\n",
       "       'ath_date', 'atl', 'atl_change_percentage', 'atl_date', 'roi',\n",
       "       'last_updated'],\n",
       "      dtype='object')"
      ]
     },
     "execution_count": 36,
     "metadata": {},
     "output_type": "execute_result"
    }
   ],
   "source": [
    "coin_data.columns"
   ]
  },
  {
   "cell_type": "code",
   "execution_count": 37,
   "metadata": {},
   "outputs": [],
   "source": [
    "new_coin_data = pd.DataFrame(coin_data, columns=['symbol', 'name','current_price', 'high_24h', 'low_24h', 'price_change_percentage_24h'])"
   ]
  },
  {
   "cell_type": "code",
   "execution_count": 38,
   "metadata": {},
   "outputs": [
    {
     "data": {
      "text/html": [
       "<div>\n",
       "<style scoped>\n",
       "    .dataframe tbody tr th:only-of-type {\n",
       "        vertical-align: middle;\n",
       "    }\n",
       "\n",
       "    .dataframe tbody tr th {\n",
       "        vertical-align: top;\n",
       "    }\n",
       "\n",
       "    .dataframe thead th {\n",
       "        text-align: right;\n",
       "    }\n",
       "</style>\n",
       "<table border=\"1\" class=\"dataframe\">\n",
       "  <thead>\n",
       "    <tr style=\"text-align: right;\">\n",
       "      <th></th>\n",
       "      <th>symbol</th>\n",
       "      <th>name</th>\n",
       "      <th>current_price</th>\n",
       "      <th>high_24h</th>\n",
       "      <th>low_24h</th>\n",
       "      <th>price_change_percentage_24h</th>\n",
       "    </tr>\n",
       "  </thead>\n",
       "  <tbody>\n",
       "    <tr>\n",
       "      <th>0</th>\n",
       "      <td>btc</td>\n",
       "      <td>Bitcoin</td>\n",
       "      <td>21198894.00</td>\n",
       "      <td>21717523.00</td>\n",
       "      <td>20091908.00</td>\n",
       "      <td>4.73487</td>\n",
       "    </tr>\n",
       "    <tr>\n",
       "      <th>1</th>\n",
       "      <td>eth</td>\n",
       "      <td>Ethereum</td>\n",
       "      <td>766179.00</td>\n",
       "      <td>798601.00</td>\n",
       "      <td>732519.00</td>\n",
       "      <td>2.94605</td>\n",
       "    </tr>\n",
       "    <tr>\n",
       "      <th>2</th>\n",
       "      <td>bnb</td>\n",
       "      <td>Binance Coin</td>\n",
       "      <td>112391.00</td>\n",
       "      <td>129515.00</td>\n",
       "      <td>97390.00</td>\n",
       "      <td>14.30497</td>\n",
       "    </tr>\n",
       "    <tr>\n",
       "      <th>3</th>\n",
       "      <td>dot</td>\n",
       "      <td>Polkadot</td>\n",
       "      <td>14393.69</td>\n",
       "      <td>14996.56</td>\n",
       "      <td>12373.55</td>\n",
       "      <td>14.43795</td>\n",
       "    </tr>\n",
       "    <tr>\n",
       "      <th>4</th>\n",
       "      <td>usdt</td>\n",
       "      <td>Tether</td>\n",
       "      <td>382.54</td>\n",
       "      <td>412.26</td>\n",
       "      <td>381.30</td>\n",
       "      <td>0.17134</td>\n",
       "    </tr>\n",
       "  </tbody>\n",
       "</table>\n",
       "</div>"
      ],
      "text/plain": [
       "  symbol          name  current_price     high_24h      low_24h  \\\n",
       "0    btc       Bitcoin    21198894.00  21717523.00  20091908.00   \n",
       "1    eth      Ethereum      766179.00    798601.00    732519.00   \n",
       "2    bnb  Binance Coin      112391.00    129515.00     97390.00   \n",
       "3    dot      Polkadot       14393.69     14996.56     12373.55   \n",
       "4   usdt        Tether         382.54       412.26       381.30   \n",
       "\n",
       "   price_change_percentage_24h  \n",
       "0                      4.73487  \n",
       "1                      2.94605  \n",
       "2                     14.30497  \n",
       "3                     14.43795  \n",
       "4                      0.17134  "
      ]
     },
     "execution_count": 38,
     "metadata": {},
     "output_type": "execute_result"
    }
   ],
   "source": [
    "new_coin_data.head() #returns the last 5 rows "
   ]
  },
  {
   "cell_type": "markdown",
   "metadata": {},
   "source": [
    "## locating values in a dataset\n",
    "Using loc and iloc"
   ]
  },
  {
   "cell_type": "markdown",
   "metadata": {},
   "source": [
    "### loc() and iloc() are methods used in slicing of data from pandas DataFrame"
   ]
  },
  {
   "cell_type": "code",
   "execution_count": 39,
   "metadata": {},
   "outputs": [
    {
     "data": {
      "text/plain": [
       "symbol                                 btc\n",
       "name                               Bitcoin\n",
       "current_price                  2.11989e+07\n",
       "high_24h                       2.17175e+07\n",
       "low_24h                        2.00919e+07\n",
       "price_change_percentage_24h        4.73487\n",
       "Name: 0, dtype: object"
      ]
     },
     "execution_count": 39,
     "metadata": {},
     "output_type": "execute_result"
    }
   ],
   "source": [
    "new_coin_data.loc[0] \n",
    "#returns all content in the row with index 0 "
   ]
  },
  {
   "cell_type": "code",
   "execution_count": 40,
   "metadata": {},
   "outputs": [
    {
     "data": {
      "text/plain": [
       "symbol                                 btc\n",
       "name                               Bitcoin\n",
       "current_price                  2.11989e+07\n",
       "high_24h                       2.17175e+07\n",
       "low_24h                        2.00919e+07\n",
       "price_change_percentage_24h        4.73487\n",
       "Name: 0, dtype: object"
      ]
     },
     "execution_count": 40,
     "metadata": {},
     "output_type": "execute_result"
    }
   ],
   "source": [
    "new_coin_data.iloc[0]"
   ]
  },
  {
   "cell_type": "code",
   "execution_count": 41,
   "metadata": {},
   "outputs": [
    {
     "data": {
      "text/plain": [
       "766179.0"
      ]
     },
     "execution_count": 41,
     "metadata": {},
     "output_type": "execute_result"
    }
   ],
   "source": [
    "new_coin_data.iloc[1,2] #returns row index 1 and col index 2"
   ]
  },
  {
   "cell_type": "code",
   "execution_count": 42,
   "metadata": {},
   "outputs": [
    {
     "data": {
      "text/plain": [
       "0          Bitcoin\n",
       "1         Ethereum\n",
       "2     Binance Coin\n",
       "3         Polkadot\n",
       "4           Tether\n",
       "          ...     \n",
       "95            Lisk\n",
       "96      Ampleforth\n",
       "97      Enjin Coin\n",
       "98        TerraUSD\n",
       "99            HUSD\n",
       "Name: name, Length: 100, dtype: object"
      ]
     },
     "execution_count": 42,
     "metadata": {},
     "output_type": "execute_result"
    }
   ],
   "source": [
    "new_coin_data.iloc[:,1] #returns all the content in column index 1"
   ]
  },
  {
   "cell_type": "code",
   "execution_count": 43,
   "metadata": {},
   "outputs": [
    {
     "data": {
      "text/html": [
       "<div>\n",
       "<style scoped>\n",
       "    .dataframe tbody tr th:only-of-type {\n",
       "        vertical-align: middle;\n",
       "    }\n",
       "\n",
       "    .dataframe tbody tr th {\n",
       "        vertical-align: top;\n",
       "    }\n",
       "\n",
       "    .dataframe thead th {\n",
       "        text-align: right;\n",
       "    }\n",
       "</style>\n",
       "<table border=\"1\" class=\"dataframe\">\n",
       "  <thead>\n",
       "    <tr style=\"text-align: right;\">\n",
       "      <th></th>\n",
       "      <th>symbol</th>\n",
       "      <th>name</th>\n",
       "      <th>current_price</th>\n",
       "      <th>high_24h</th>\n",
       "      <th>low_24h</th>\n",
       "      <th>price_change_percentage_24h</th>\n",
       "    </tr>\n",
       "  </thead>\n",
       "  <tbody>\n",
       "    <tr>\n",
       "      <th>10</th>\n",
       "      <td>xlm</td>\n",
       "      <td>Stellar</td>\n",
       "      <td>198.28</td>\n",
       "      <td>213.97</td>\n",
       "      <td>192.25</td>\n",
       "      <td>1.29935</td>\n",
       "    </tr>\n",
       "    <tr>\n",
       "      <th>11</th>\n",
       "      <td>uni</td>\n",
       "      <td>Uniswap</td>\n",
       "      <td>10326.03</td>\n",
       "      <td>10467.93</td>\n",
       "      <td>7463.26</td>\n",
       "      <td>27.83402</td>\n",
       "    </tr>\n",
       "    <tr>\n",
       "      <th>12</th>\n",
       "      <td>usdc</td>\n",
       "      <td>USD Coin</td>\n",
       "      <td>382.81</td>\n",
       "      <td>413.15</td>\n",
       "      <td>378.81</td>\n",
       "      <td>0.06315</td>\n",
       "    </tr>\n",
       "    <tr>\n",
       "      <th>13</th>\n",
       "      <td>doge</td>\n",
       "      <td>Dogecoin</td>\n",
       "      <td>22.48</td>\n",
       "      <td>23.43</td>\n",
       "      <td>20.44</td>\n",
       "      <td>4.49566</td>\n",
       "    </tr>\n",
       "    <tr>\n",
       "      <th>14</th>\n",
       "      <td>wbtc</td>\n",
       "      <td>Wrapped Bitcoin</td>\n",
       "      <td>21220058.00</td>\n",
       "      <td>21737527.00</td>\n",
       "      <td>20030129.00</td>\n",
       "      <td>5.24844</td>\n",
       "    </tr>\n",
       "  </tbody>\n",
       "</table>\n",
       "</div>"
      ],
      "text/plain": [
       "   symbol             name  current_price     high_24h      low_24h  \\\n",
       "10    xlm          Stellar         198.28       213.97       192.25   \n",
       "11    uni          Uniswap       10326.03     10467.93      7463.26   \n",
       "12   usdc         USD Coin         382.81       413.15       378.81   \n",
       "13   doge         Dogecoin          22.48        23.43        20.44   \n",
       "14   wbtc  Wrapped Bitcoin    21220058.00  21737527.00  20030129.00   \n",
       "\n",
       "    price_change_percentage_24h  \n",
       "10                      1.29935  \n",
       "11                     27.83402  \n",
       "12                      0.06315  \n",
       "13                      4.49566  \n",
       "14                      5.24844  "
      ]
     },
     "execution_count": 43,
     "metadata": {},
     "output_type": "execute_result"
    }
   ],
   "source": [
    "new_coin_data.iloc[10:15]"
   ]
  },
  {
   "cell_type": "code",
   "execution_count": 44,
   "metadata": {},
   "outputs": [
    {
     "data": {
      "text/html": [
       "<div>\n",
       "<style scoped>\n",
       "    .dataframe tbody tr th:only-of-type {\n",
       "        vertical-align: middle;\n",
       "    }\n",
       "\n",
       "    .dataframe tbody tr th {\n",
       "        vertical-align: top;\n",
       "    }\n",
       "\n",
       "    .dataframe thead th {\n",
       "        text-align: right;\n",
       "    }\n",
       "</style>\n",
       "<table border=\"1\" class=\"dataframe\">\n",
       "  <thead>\n",
       "    <tr style=\"text-align: right;\">\n",
       "      <th></th>\n",
       "      <th>current_price</th>\n",
       "      <th>high_24h</th>\n",
       "      <th>low_24h</th>\n",
       "    </tr>\n",
       "  </thead>\n",
       "  <tbody>\n",
       "    <tr>\n",
       "      <th>10</th>\n",
       "      <td>198.28</td>\n",
       "      <td>213.97</td>\n",
       "      <td>192.25</td>\n",
       "    </tr>\n",
       "    <tr>\n",
       "      <th>11</th>\n",
       "      <td>10326.03</td>\n",
       "      <td>10467.93</td>\n",
       "      <td>7463.26</td>\n",
       "    </tr>\n",
       "    <tr>\n",
       "      <th>12</th>\n",
       "      <td>382.81</td>\n",
       "      <td>413.15</td>\n",
       "      <td>378.81</td>\n",
       "    </tr>\n",
       "    <tr>\n",
       "      <th>13</th>\n",
       "      <td>22.48</td>\n",
       "      <td>23.43</td>\n",
       "      <td>20.44</td>\n",
       "    </tr>\n",
       "    <tr>\n",
       "      <th>14</th>\n",
       "      <td>21220058.00</td>\n",
       "      <td>21737527.00</td>\n",
       "      <td>20030129.00</td>\n",
       "    </tr>\n",
       "  </tbody>\n",
       "</table>\n",
       "</div>"
      ],
      "text/plain": [
       "    current_price     high_24h      low_24h\n",
       "10         198.28       213.97       192.25\n",
       "11       10326.03     10467.93      7463.26\n",
       "12         382.81       413.15       378.81\n",
       "13          22.48        23.43        20.44\n",
       "14    21220058.00  21737527.00  20030129.00"
      ]
     },
     "execution_count": 44,
     "metadata": {},
     "output_type": "execute_result"
    }
   ],
   "source": [
    "new_coin_data.iloc[10:15, 2:5] \n",
    "#first arg represents the rows, 2nd arg reps the columns "
   ]
  },
  {
   "cell_type": "code",
   "execution_count": 45,
   "metadata": {},
   "outputs": [
    {
     "data": {
      "text/html": [
       "<div>\n",
       "<style scoped>\n",
       "    .dataframe tbody tr th:only-of-type {\n",
       "        vertical-align: middle;\n",
       "    }\n",
       "\n",
       "    .dataframe tbody tr th {\n",
       "        vertical-align: top;\n",
       "    }\n",
       "\n",
       "    .dataframe thead th {\n",
       "        text-align: right;\n",
       "    }\n",
       "</style>\n",
       "<table border=\"1\" class=\"dataframe\">\n",
       "  <thead>\n",
       "    <tr style=\"text-align: right;\">\n",
       "      <th></th>\n",
       "      <th>symbol</th>\n",
       "      <th>name</th>\n",
       "      <th>current_price</th>\n",
       "      <th>high_24h</th>\n",
       "      <th>low_24h</th>\n",
       "      <th>price_change_percentage_24h</th>\n",
       "    </tr>\n",
       "  </thead>\n",
       "  <tbody>\n",
       "    <tr>\n",
       "      <th>2</th>\n",
       "      <td>bnb</td>\n",
       "      <td>Binance Coin</td>\n",
       "      <td>112391.00</td>\n",
       "      <td>129515.00</td>\n",
       "      <td>97390.00</td>\n",
       "      <td>14.30497</td>\n",
       "    </tr>\n",
       "    <tr>\n",
       "      <th>3</th>\n",
       "      <td>dot</td>\n",
       "      <td>Polkadot</td>\n",
       "      <td>14393.69</td>\n",
       "      <td>14996.56</td>\n",
       "      <td>12373.55</td>\n",
       "      <td>14.43795</td>\n",
       "    </tr>\n",
       "    <tr>\n",
       "      <th>5</th>\n",
       "      <td>ada</td>\n",
       "      <td>Cardano</td>\n",
       "      <td>402.02</td>\n",
       "      <td>409.27</td>\n",
       "      <td>349.41</td>\n",
       "      <td>12.96830</td>\n",
       "    </tr>\n",
       "  </tbody>\n",
       "</table>\n",
       "</div>"
      ],
      "text/plain": [
       "  symbol          name  current_price   high_24h   low_24h  \\\n",
       "2    bnb  Binance Coin      112391.00  129515.00  97390.00   \n",
       "3    dot      Polkadot       14393.69   14996.56  12373.55   \n",
       "5    ada       Cardano         402.02     409.27    349.41   \n",
       "\n",
       "   price_change_percentage_24h  \n",
       "2                     14.30497  \n",
       "3                     14.43795  \n",
       "5                     12.96830  "
      ]
     },
     "execution_count": 45,
     "metadata": {},
     "output_type": "execute_result"
    }
   ],
   "source": [
    "new_coin_data.iloc[[2,3,5]]"
   ]
  },
  {
   "cell_type": "code",
   "execution_count": 46,
   "metadata": {},
   "outputs": [
    {
     "data": {
      "text/html": [
       "<div>\n",
       "<style scoped>\n",
       "    .dataframe tbody tr th:only-of-type {\n",
       "        vertical-align: middle;\n",
       "    }\n",
       "\n",
       "    .dataframe tbody tr th {\n",
       "        vertical-align: top;\n",
       "    }\n",
       "\n",
       "    .dataframe thead th {\n",
       "        text-align: right;\n",
       "    }\n",
       "</style>\n",
       "<table border=\"1\" class=\"dataframe\">\n",
       "  <thead>\n",
       "    <tr style=\"text-align: right;\">\n",
       "      <th></th>\n",
       "      <th>name</th>\n",
       "      <th>current_price</th>\n",
       "      <th>high_24h</th>\n",
       "    </tr>\n",
       "  </thead>\n",
       "  <tbody>\n",
       "    <tr>\n",
       "      <th>2</th>\n",
       "      <td>Binance Coin</td>\n",
       "      <td>112391.00</td>\n",
       "      <td>129515.00</td>\n",
       "    </tr>\n",
       "    <tr>\n",
       "      <th>3</th>\n",
       "      <td>Polkadot</td>\n",
       "      <td>14393.69</td>\n",
       "      <td>14996.56</td>\n",
       "    </tr>\n",
       "    <tr>\n",
       "      <th>5</th>\n",
       "      <td>Cardano</td>\n",
       "      <td>402.02</td>\n",
       "      <td>409.27</td>\n",
       "    </tr>\n",
       "  </tbody>\n",
       "</table>\n",
       "</div>"
      ],
      "text/plain": [
       "           name  current_price   high_24h\n",
       "2  Binance Coin      112391.00  129515.00\n",
       "3      Polkadot       14393.69   14996.56\n",
       "5       Cardano         402.02     409.27"
      ]
     },
     "execution_count": 46,
     "metadata": {},
     "output_type": "execute_result"
    }
   ],
   "source": [
    "#specify the rows and columns to display\n",
    "new_coin_data.iloc[[2,3,5], 1:4]"
   ]
  },
  {
   "cell_type": "code",
   "execution_count": 47,
   "metadata": {},
   "outputs": [],
   "source": [
    "cars = pd.read_csv('datasets/cars.csv')"
   ]
  },
  {
   "cell_type": "code",
   "execution_count": 48,
   "metadata": {},
   "outputs": [
    {
     "data": {
      "text/html": [
       "<div>\n",
       "<style scoped>\n",
       "    .dataframe tbody tr th:only-of-type {\n",
       "        vertical-align: middle;\n",
       "    }\n",
       "\n",
       "    .dataframe tbody tr th {\n",
       "        vertical-align: top;\n",
       "    }\n",
       "\n",
       "    .dataframe thead th {\n",
       "        text-align: right;\n",
       "    }\n",
       "</style>\n",
       "<table border=\"1\" class=\"dataframe\">\n",
       "  <thead>\n",
       "    <tr style=\"text-align: right;\">\n",
       "      <th></th>\n",
       "      <th>Car</th>\n",
       "      <th>Model</th>\n",
       "      <th>Volume</th>\n",
       "      <th>Weight</th>\n",
       "      <th>CO2</th>\n",
       "    </tr>\n",
       "  </thead>\n",
       "  <tbody>\n",
       "    <tr>\n",
       "      <th>0</th>\n",
       "      <td>Toyoty</td>\n",
       "      <td>Aygo</td>\n",
       "      <td>1000</td>\n",
       "      <td>790</td>\n",
       "      <td>99</td>\n",
       "    </tr>\n",
       "    <tr>\n",
       "      <th>1</th>\n",
       "      <td>Mitsubishi</td>\n",
       "      <td>Space Star</td>\n",
       "      <td>1200</td>\n",
       "      <td>1160</td>\n",
       "      <td>95</td>\n",
       "    </tr>\n",
       "    <tr>\n",
       "      <th>2</th>\n",
       "      <td>Skoda</td>\n",
       "      <td>Citigo</td>\n",
       "      <td>1000</td>\n",
       "      <td>929</td>\n",
       "      <td>95</td>\n",
       "    </tr>\n",
       "    <tr>\n",
       "      <th>3</th>\n",
       "      <td>Fiat</td>\n",
       "      <td>500</td>\n",
       "      <td>900</td>\n",
       "      <td>865</td>\n",
       "      <td>90</td>\n",
       "    </tr>\n",
       "    <tr>\n",
       "      <th>4</th>\n",
       "      <td>Mini</td>\n",
       "      <td>Cooper</td>\n",
       "      <td>1500</td>\n",
       "      <td>1140</td>\n",
       "      <td>105</td>\n",
       "    </tr>\n",
       "  </tbody>\n",
       "</table>\n",
       "</div>"
      ],
      "text/plain": [
       "          Car       Model  Volume  Weight  CO2\n",
       "0      Toyoty        Aygo    1000     790   99\n",
       "1  Mitsubishi  Space Star    1200    1160   95\n",
       "2       Skoda      Citigo    1000     929   95\n",
       "3        Fiat         500     900     865   90\n",
       "4        Mini      Cooper    1500    1140  105"
      ]
     },
     "execution_count": 48,
     "metadata": {},
     "output_type": "execute_result"
    }
   ],
   "source": [
    "cars.head()"
   ]
  },
  {
   "cell_type": "code",
   "execution_count": 49,
   "metadata": {},
   "outputs": [],
   "source": [
    "#set the index values to the car column \n",
    "cars = cars.set_index('Car')"
   ]
  },
  {
   "cell_type": "code",
   "execution_count": 50,
   "metadata": {},
   "outputs": [
    {
     "data": {
      "text/html": [
       "<div>\n",
       "<style scoped>\n",
       "    .dataframe tbody tr th:only-of-type {\n",
       "        vertical-align: middle;\n",
       "    }\n",
       "\n",
       "    .dataframe tbody tr th {\n",
       "        vertical-align: top;\n",
       "    }\n",
       "\n",
       "    .dataframe thead th {\n",
       "        text-align: right;\n",
       "    }\n",
       "</style>\n",
       "<table border=\"1\" class=\"dataframe\">\n",
       "  <thead>\n",
       "    <tr style=\"text-align: right;\">\n",
       "      <th></th>\n",
       "      <th>Model</th>\n",
       "      <th>Volume</th>\n",
       "      <th>Weight</th>\n",
       "      <th>CO2</th>\n",
       "    </tr>\n",
       "    <tr>\n",
       "      <th>Car</th>\n",
       "      <th></th>\n",
       "      <th></th>\n",
       "      <th></th>\n",
       "      <th></th>\n",
       "    </tr>\n",
       "  </thead>\n",
       "  <tbody>\n",
       "    <tr>\n",
       "      <th>Toyoty</th>\n",
       "      <td>Aygo</td>\n",
       "      <td>1000</td>\n",
       "      <td>790</td>\n",
       "      <td>99</td>\n",
       "    </tr>\n",
       "    <tr>\n",
       "      <th>Mitsubishi</th>\n",
       "      <td>Space Star</td>\n",
       "      <td>1200</td>\n",
       "      <td>1160</td>\n",
       "      <td>95</td>\n",
       "    </tr>\n",
       "    <tr>\n",
       "      <th>Skoda</th>\n",
       "      <td>Citigo</td>\n",
       "      <td>1000</td>\n",
       "      <td>929</td>\n",
       "      <td>95</td>\n",
       "    </tr>\n",
       "    <tr>\n",
       "      <th>Fiat</th>\n",
       "      <td>500</td>\n",
       "      <td>900</td>\n",
       "      <td>865</td>\n",
       "      <td>90</td>\n",
       "    </tr>\n",
       "    <tr>\n",
       "      <th>Mini</th>\n",
       "      <td>Cooper</td>\n",
       "      <td>1500</td>\n",
       "      <td>1140</td>\n",
       "      <td>105</td>\n",
       "    </tr>\n",
       "  </tbody>\n",
       "</table>\n",
       "</div>"
      ],
      "text/plain": [
       "                 Model  Volume  Weight  CO2\n",
       "Car                                        \n",
       "Toyoty            Aygo    1000     790   99\n",
       "Mitsubishi  Space Star    1200    1160   95\n",
       "Skoda           Citigo    1000     929   95\n",
       "Fiat               500     900     865   90\n",
       "Mini            Cooper    1500    1140  105"
      ]
     },
     "execution_count": 50,
     "metadata": {},
     "output_type": "execute_result"
    }
   ],
   "source": [
    "cars.head()"
   ]
  },
  {
   "cell_type": "code",
   "execution_count": 51,
   "metadata": {},
   "outputs": [],
   "source": [
    "#slicing using loc or iloc\n",
    "#iloc() is index based. requires an integer index ( to select specific \n",
    "# rows / columns )\n",
    "#while loc can accept (strings and booleans for indexing)"
   ]
  },
  {
   "cell_type": "code",
   "execution_count": 52,
   "metadata": {},
   "outputs": [
    {
     "data": {
      "text/html": [
       "<div>\n",
       "<style scoped>\n",
       "    .dataframe tbody tr th:only-of-type {\n",
       "        vertical-align: middle;\n",
       "    }\n",
       "\n",
       "    .dataframe tbody tr th {\n",
       "        vertical-align: top;\n",
       "    }\n",
       "\n",
       "    .dataframe thead th {\n",
       "        text-align: right;\n",
       "    }\n",
       "</style>\n",
       "<table border=\"1\" class=\"dataframe\">\n",
       "  <thead>\n",
       "    <tr style=\"text-align: right;\">\n",
       "      <th></th>\n",
       "      <th>Model</th>\n",
       "      <th>Volume</th>\n",
       "      <th>Weight</th>\n",
       "      <th>CO2</th>\n",
       "    </tr>\n",
       "    <tr>\n",
       "      <th>Car</th>\n",
       "      <th></th>\n",
       "      <th></th>\n",
       "      <th></th>\n",
       "      <th></th>\n",
       "    </tr>\n",
       "  </thead>\n",
       "  <tbody>\n",
       "    <tr>\n",
       "      <th>Opel</th>\n",
       "      <td>Astra</td>\n",
       "      <td>1600</td>\n",
       "      <td>1330</td>\n",
       "      <td>97</td>\n",
       "    </tr>\n",
       "    <tr>\n",
       "      <th>Opel</th>\n",
       "      <td>Insignia</td>\n",
       "      <td>2000</td>\n",
       "      <td>1428</td>\n",
       "      <td>99</td>\n",
       "    </tr>\n",
       "    <tr>\n",
       "      <th>Opel</th>\n",
       "      <td>Zafira</td>\n",
       "      <td>1600</td>\n",
       "      <td>1405</td>\n",
       "      <td>109</td>\n",
       "    </tr>\n",
       "  </tbody>\n",
       "</table>\n",
       "</div>"
      ],
      "text/plain": [
       "         Model  Volume  Weight  CO2\n",
       "Car                                \n",
       "Opel     Astra    1600    1330   97\n",
       "Opel  Insignia    2000    1428   99\n",
       "Opel    Zafira    1600    1405  109"
      ]
     },
     "execution_count": 52,
     "metadata": {},
     "output_type": "execute_result"
    }
   ],
   "source": [
    "cars.loc[['Opel']]"
   ]
  },
  {
   "cell_type": "code",
   "execution_count": 53,
   "metadata": {},
   "outputs": [
    {
     "data": {
      "text/html": [
       "<div>\n",
       "<style scoped>\n",
       "    .dataframe tbody tr th:only-of-type {\n",
       "        vertical-align: middle;\n",
       "    }\n",
       "\n",
       "    .dataframe tbody tr th {\n",
       "        vertical-align: top;\n",
       "    }\n",
       "\n",
       "    .dataframe thead th {\n",
       "        text-align: right;\n",
       "    }\n",
       "</style>\n",
       "<table border=\"1\" class=\"dataframe\">\n",
       "  <thead>\n",
       "    <tr style=\"text-align: right;\">\n",
       "      <th></th>\n",
       "      <th>Model</th>\n",
       "      <th>Volume</th>\n",
       "      <th>Weight</th>\n",
       "      <th>CO2</th>\n",
       "    </tr>\n",
       "    <tr>\n",
       "      <th>Car</th>\n",
       "      <th></th>\n",
       "      <th></th>\n",
       "      <th></th>\n",
       "      <th></th>\n",
       "    </tr>\n",
       "  </thead>\n",
       "  <tbody>\n",
       "    <tr>\n",
       "      <th>Mercedes</th>\n",
       "      <td>A-Class</td>\n",
       "      <td>1500</td>\n",
       "      <td>1365</td>\n",
       "      <td>92</td>\n",
       "    </tr>\n",
       "    <tr>\n",
       "      <th>Mercedes</th>\n",
       "      <td>C-Class</td>\n",
       "      <td>2100</td>\n",
       "      <td>1365</td>\n",
       "      <td>99</td>\n",
       "    </tr>\n",
       "    <tr>\n",
       "      <th>Mercedes</th>\n",
       "      <td>CLA</td>\n",
       "      <td>1500</td>\n",
       "      <td>1465</td>\n",
       "      <td>102</td>\n",
       "    </tr>\n",
       "    <tr>\n",
       "      <th>Mercedes</th>\n",
       "      <td>E-Class</td>\n",
       "      <td>2100</td>\n",
       "      <td>1605</td>\n",
       "      <td>115</td>\n",
       "    </tr>\n",
       "    <tr>\n",
       "      <th>Mercedes</th>\n",
       "      <td>SLK</td>\n",
       "      <td>2500</td>\n",
       "      <td>1395</td>\n",
       "      <td>120</td>\n",
       "    </tr>\n",
       "  </tbody>\n",
       "</table>\n",
       "</div>"
      ],
      "text/plain": [
       "            Model  Volume  Weight  CO2\n",
       "Car                                   \n",
       "Mercedes  A-Class    1500    1365   92\n",
       "Mercedes  C-Class    2100    1365   99\n",
       "Mercedes      CLA    1500    1465  102\n",
       "Mercedes  E-Class    2100    1605  115\n",
       "Mercedes      SLK    2500    1395  120"
      ]
     },
     "execution_count": 53,
     "metadata": {},
     "output_type": "execute_result"
    }
   ],
   "source": [
    "cars.loc[['Mercedes']]"
   ]
  },
  {
   "cell_type": "code",
   "execution_count": 54,
   "metadata": {},
   "outputs": [
    {
     "data": {
      "text/html": [
       "<div>\n",
       "<style scoped>\n",
       "    .dataframe tbody tr th:only-of-type {\n",
       "        vertical-align: middle;\n",
       "    }\n",
       "\n",
       "    .dataframe tbody tr th {\n",
       "        vertical-align: top;\n",
       "    }\n",
       "\n",
       "    .dataframe thead th {\n",
       "        text-align: right;\n",
       "    }\n",
       "</style>\n",
       "<table border=\"1\" class=\"dataframe\">\n",
       "  <thead>\n",
       "    <tr style=\"text-align: right;\">\n",
       "      <th></th>\n",
       "      <th>Model</th>\n",
       "      <th>Volume</th>\n",
       "      <th>Weight</th>\n",
       "      <th>CO2</th>\n",
       "    </tr>\n",
       "    <tr>\n",
       "      <th>Car</th>\n",
       "      <th></th>\n",
       "      <th></th>\n",
       "      <th></th>\n",
       "      <th></th>\n",
       "    </tr>\n",
       "  </thead>\n",
       "  <tbody>\n",
       "    <tr>\n",
       "      <th>Toyoty</th>\n",
       "      <td>Aygo</td>\n",
       "      <td>1000</td>\n",
       "      <td>790</td>\n",
       "      <td>99</td>\n",
       "    </tr>\n",
       "    <tr>\n",
       "      <th>Mitsubishi</th>\n",
       "      <td>Space Star</td>\n",
       "      <td>1200</td>\n",
       "      <td>1160</td>\n",
       "      <td>95</td>\n",
       "    </tr>\n",
       "    <tr>\n",
       "      <th>Skoda</th>\n",
       "      <td>Citigo</td>\n",
       "      <td>1000</td>\n",
       "      <td>929</td>\n",
       "      <td>95</td>\n",
       "    </tr>\n",
       "    <tr>\n",
       "      <th>Fiat</th>\n",
       "      <td>500</td>\n",
       "      <td>900</td>\n",
       "      <td>865</td>\n",
       "      <td>90</td>\n",
       "    </tr>\n",
       "    <tr>\n",
       "      <th>Mini</th>\n",
       "      <td>Cooper</td>\n",
       "      <td>1500</td>\n",
       "      <td>1140</td>\n",
       "      <td>105</td>\n",
       "    </tr>\n",
       "  </tbody>\n",
       "</table>\n",
       "</div>"
      ],
      "text/plain": [
       "                 Model  Volume  Weight  CO2\n",
       "Car                                        \n",
       "Toyoty            Aygo    1000     790   99\n",
       "Mitsubishi  Space Star    1200    1160   95\n",
       "Skoda           Citigo    1000     929   95\n",
       "Fiat               500     900     865   90\n",
       "Mini            Cooper    1500    1140  105"
      ]
     },
     "execution_count": 54,
     "metadata": {},
     "output_type": "execute_result"
    }
   ],
   "source": [
    "cars.loc[(cars.Volume < 2000)].head()"
   ]
  },
  {
   "cell_type": "code",
   "execution_count": 55,
   "metadata": {},
   "outputs": [
    {
     "data": {
      "text/html": [
       "<div>\n",
       "<style scoped>\n",
       "    .dataframe tbody tr th:only-of-type {\n",
       "        vertical-align: middle;\n",
       "    }\n",
       "\n",
       "    .dataframe tbody tr th {\n",
       "        vertical-align: top;\n",
       "    }\n",
       "\n",
       "    .dataframe thead th {\n",
       "        text-align: right;\n",
       "    }\n",
       "</style>\n",
       "<table border=\"1\" class=\"dataframe\">\n",
       "  <thead>\n",
       "    <tr style=\"text-align: right;\">\n",
       "      <th></th>\n",
       "      <th>Model</th>\n",
       "      <th>Volume</th>\n",
       "      <th>Weight</th>\n",
       "      <th>CO2</th>\n",
       "    </tr>\n",
       "    <tr>\n",
       "      <th>Car</th>\n",
       "      <th></th>\n",
       "      <th></th>\n",
       "      <th></th>\n",
       "      <th></th>\n",
       "    </tr>\n",
       "  </thead>\n",
       "  <tbody>\n",
       "    <tr>\n",
       "      <th>Mitsubishi</th>\n",
       "      <td>Space Star</td>\n",
       "      <td>1200</td>\n",
       "      <td>1160</td>\n",
       "      <td>95</td>\n",
       "    </tr>\n",
       "    <tr>\n",
       "      <th>Mini</th>\n",
       "      <td>Cooper</td>\n",
       "      <td>1500</td>\n",
       "      <td>1140</td>\n",
       "      <td>105</td>\n",
       "    </tr>\n",
       "    <tr>\n",
       "      <th>Skoda</th>\n",
       "      <td>Fabia</td>\n",
       "      <td>1400</td>\n",
       "      <td>1109</td>\n",
       "      <td>90</td>\n",
       "    </tr>\n",
       "    <tr>\n",
       "      <th>Mercedes</th>\n",
       "      <td>A-Class</td>\n",
       "      <td>1500</td>\n",
       "      <td>1365</td>\n",
       "      <td>92</td>\n",
       "    </tr>\n",
       "    <tr>\n",
       "      <th>Ford</th>\n",
       "      <td>Fiesta</td>\n",
       "      <td>1500</td>\n",
       "      <td>1112</td>\n",
       "      <td>98</td>\n",
       "    </tr>\n",
       "  </tbody>\n",
       "</table>\n",
       "</div>"
      ],
      "text/plain": [
       "                 Model  Volume  Weight  CO2\n",
       "Car                                        \n",
       "Mitsubishi  Space Star    1200    1160   95\n",
       "Mini            Cooper    1500    1140  105\n",
       "Skoda            Fabia    1400    1109   90\n",
       "Mercedes       A-Class    1500    1365   92\n",
       "Ford            Fiesta    1500    1112   98"
      ]
     },
     "execution_count": 55,
     "metadata": {},
     "output_type": "execute_result"
    }
   ],
   "source": [
    "cars.loc[(cars.Model == 'E-Class') | (cars.Weight > 1000)].head() \n",
    "# | or operator returns true as long as one condition is true \n"
   ]
  },
  {
   "cell_type": "code",
   "execution_count": 56,
   "metadata": {},
   "outputs": [
    {
     "data": {
      "text/html": [
       "<div>\n",
       "<style scoped>\n",
       "    .dataframe tbody tr th:only-of-type {\n",
       "        vertical-align: middle;\n",
       "    }\n",
       "\n",
       "    .dataframe tbody tr th {\n",
       "        vertical-align: top;\n",
       "    }\n",
       "\n",
       "    .dataframe thead th {\n",
       "        text-align: right;\n",
       "    }\n",
       "</style>\n",
       "<table border=\"1\" class=\"dataframe\">\n",
       "  <thead>\n",
       "    <tr style=\"text-align: right;\">\n",
       "      <th></th>\n",
       "      <th>Model</th>\n",
       "      <th>Volume</th>\n",
       "      <th>Weight</th>\n",
       "      <th>CO2</th>\n",
       "    </tr>\n",
       "    <tr>\n",
       "      <th>Car</th>\n",
       "      <th></th>\n",
       "      <th></th>\n",
       "      <th></th>\n",
       "      <th></th>\n",
       "    </tr>\n",
       "  </thead>\n",
       "  <tbody>\n",
       "    <tr>\n",
       "      <th>Mercedes</th>\n",
       "      <td>E-Class</td>\n",
       "      <td>2100</td>\n",
       "      <td>1605</td>\n",
       "      <td>115</td>\n",
       "    </tr>\n",
       "  </tbody>\n",
       "</table>\n",
       "</div>"
      ],
      "text/plain": [
       "            Model  Volume  Weight  CO2\n",
       "Car                                   \n",
       "Mercedes  E-Class    2100    1605  115"
      ]
     },
     "execution_count": 56,
     "metadata": {},
     "output_type": "execute_result"
    }
   ],
   "source": [
    "cars.loc[(cars.Model == 'E-Class') & (cars.Weight > 1000)] \n",
    "# & and operator returns true as long as both conditions are true "
   ]
  },
  {
   "cell_type": "code",
   "execution_count": null,
   "metadata": {},
   "outputs": [],
   "source": []
  }
 ],
 "metadata": {
  "kernelspec": {
   "display_name": "Python 3",
   "language": "python",
   "name": "python3"
  },
  "language_info": {
   "codemirror_mode": {
    "name": "ipython",
    "version": 3
   },
   "file_extension": ".py",
   "mimetype": "text/x-python",
   "name": "python",
   "nbconvert_exporter": "python",
   "pygments_lexer": "ipython3",
   "version": "3.8.5"
  }
 },
 "nbformat": 4,
 "nbformat_minor": 2
}
