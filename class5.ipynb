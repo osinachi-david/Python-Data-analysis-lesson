{
 "cells": [
  {
   "cell_type": "markdown",
   "metadata": {},
   "source": [
    "## Statistics "
   ]
  },
  {
   "cell_type": "code",
   "execution_count": 1,
   "metadata": {},
   "outputs": [],
   "source": [
    "# Categorical data, Nominal data and Ordinal Data \n",
    "# Data types and Operations"
   ]
  },
  {
   "cell_type": "markdown",
   "metadata": {},
   "source": [
    "## measures of central tendency \n",
    " - Mean, Median, Mode"
   ]
  },
  {
   "cell_type": "code",
   "execution_count": 2,
   "metadata": {},
   "outputs": [],
   "source": [
    "speed = [99, 86,87,88,111,86,103,87,94,78,77,85,86]"
   ]
  },
  {
   "cell_type": "code",
   "execution_count": 3,
   "metadata": {},
   "outputs": [
    {
     "data": {
      "text/plain": [
       "list"
      ]
     },
     "execution_count": 3,
     "metadata": {},
     "output_type": "execute_result"
    }
   ],
   "source": [
    "type(speed)"
   ]
  },
  {
   "cell_type": "code",
   "execution_count": 4,
   "metadata": {},
   "outputs": [
    {
     "name": "stdout",
     "output_type": "stream",
     "text": [
      "89.76923076923077\n"
     ]
    }
   ],
   "source": [
    "# calculate the average speed ?\n",
    "\n",
    "import numpy as np\n",
    "\n",
    "x = np.mean(speed)\n",
    "\n",
    "print(x)\n",
    "\n",
    "\n"
   ]
  },
  {
   "cell_type": "code",
   "execution_count": 5,
   "metadata": {},
   "outputs": [
    {
     "data": {
      "text/plain": [
       "6.0"
      ]
     },
     "execution_count": 5,
     "metadata": {},
     "output_type": "execute_result"
    }
   ],
   "source": [
    "# write a function to calculate the mean \n",
    "\n",
    "def calculateMean(param):\n",
    "    return sum(param) / len(param)\n",
    "\n",
    "age = [3, 5, 6, 7, 9]\n",
    "\n",
    "calculateMean(age)\n"
   ]
  },
  {
   "cell_type": "code",
   "execution_count": 6,
   "metadata": {},
   "outputs": [],
   "source": [
    "# Median (middle number )\n",
    "# programmers way \n",
    "\n",
    "def calculateMedian(param):\n",
    "    \"\"\" finds the middle number in the param\"\"\"\n",
    "    noItems = len(param)\n",
    "    sorted_items = sorted(param)\n",
    "    midpoint = noItems // 2 # floor division \n",
    "    \n",
    "    if noItems % 2 == 1:\n",
    "        #if odd return the middle value\n",
    "        return sorted_items[midpoint]\n",
    "    else:\n",
    "        #if even, return the average of the middle values \n",
    "        low = midpoint - 1\n",
    "        high = midpoint\n",
    "        return ( sorted_items[low] + sorted_items[high]) / 2\n",
    "        \n"
   ]
  },
  {
   "cell_type": "code",
   "execution_count": 7,
   "metadata": {},
   "outputs": [
    {
     "data": {
      "text/plain": [
       "87"
      ]
     },
     "execution_count": 7,
     "metadata": {},
     "output_type": "execute_result"
    }
   ],
   "source": [
    "# median \n",
    "calculateMedian(speed)"
   ]
  },
  {
   "cell_type": "code",
   "execution_count": 8,
   "metadata": {},
   "outputs": [
    {
     "data": {
      "text/plain": [
       "6"
      ]
     },
     "execution_count": 8,
     "metadata": {},
     "output_type": "execute_result"
    }
   ],
   "source": [
    "calculateMedian(age)"
   ]
  },
  {
   "cell_type": "code",
   "execution_count": 9,
   "metadata": {},
   "outputs": [
    {
     "data": {
      "text/plain": [
       "87.0"
      ]
     },
     "execution_count": 9,
     "metadata": {},
     "output_type": "execute_result"
    }
   ],
   "source": [
    "# median using numpy library \n",
    "np.median(speed)"
   ]
  },
  {
   "cell_type": "code",
   "execution_count": 14,
   "metadata": {},
   "outputs": [],
   "source": [
    "# Mode \n",
    "import scipy \n",
    "from scipy import stats "
   ]
  },
  {
   "cell_type": "code",
   "execution_count": 15,
   "metadata": {},
   "outputs": [
    {
     "data": {
      "text/plain": [
       "ModeResult(mode=array([86]), count=array([3]))"
      ]
     },
     "execution_count": 15,
     "metadata": {},
     "output_type": "execute_result"
    }
   ],
   "source": [
    "stats.mode(speed)\n"
   ]
  },
  {
   "cell_type": "markdown",
   "metadata": {},
   "source": [
    "## Standard Deviation\n",
    "- gives an idea of how spread out the values are from the mean value "
   ]
  },
  {
   "cell_type": "code",
   "execution_count": 17,
   "metadata": {},
   "outputs": [],
   "source": [
    "import numpy as np \n",
    "\n",
    "mean = np.mean(speed)\n",
    "\n",
    "standardDeviation = np.std(speed)"
   ]
  },
  {
   "cell_type": "code",
   "execution_count": 20,
   "metadata": {},
   "outputs": [
    {
     "name": "stdout",
     "output_type": "stream",
     "text": [
      "speed: [99, 86, 87, 88, 111, 86, 103, 87, 94, 78, 77, 85, 86]\n",
      "mean: 89.76923076923077\n",
      "S_D: 9.258292301032677\n"
     ]
    }
   ],
   "source": [
    "print(\"speed:\", speed)\n",
    "print(\"mean:\", mean)\n",
    "print(\"S_D:\", standardDeviation)"
   ]
  },
  {
   "cell_type": "markdown",
   "metadata": {},
   "source": [
    "# Variance \n",
    "- is another number that indicates how spread out the values are "
   ]
  },
  {
   "cell_type": "code",
   "execution_count": 24,
   "metadata": {},
   "outputs": [
    {
     "name": "stdout",
     "output_type": "stream",
     "text": [
      "The variance is:  85.71597633136093\n"
     ]
    }
   ],
   "source": [
    "variance = np.var(speed)\n",
    "print(\"The variance is: \", variance)"
   ]
  },
  {
   "cell_type": "code",
   "execution_count": 25,
   "metadata": {},
   "outputs": [
    {
     "name": "stdout",
     "output_type": "stream",
     "text": [
      "The S_D is:  9.258292301032677\n"
     ]
    }
   ],
   "source": [
    "# Standard Deviation is the square root of variance \n",
    "print(\"The S_D is: \", np.sqrt(variance))"
   ]
  },
  {
   "cell_type": "markdown",
   "metadata": {},
   "source": [
    "# Percentiles \n",
    "- used in stats to give a number that describes the value that a given percent of the values the data are lower than "
   ]
  },
  {
   "cell_type": "code",
   "execution_count": 26,
   "metadata": {},
   "outputs": [
    {
     "name": "stdout",
     "output_type": "stream",
     "text": [
      "94.0\n"
     ]
    }
   ],
   "source": [
    "percent75 = np.percentile(speed, 75)\n",
    "\n",
    "print(percent75)"
   ]
  },
  {
   "cell_type": "code",
   "execution_count": 27,
   "metadata": {},
   "outputs": [],
   "source": [
    "# the result above implies that 75% of the speed values is 94 or lower"
   ]
  },
  {
   "cell_type": "code",
   "execution_count": 28,
   "metadata": {},
   "outputs": [
    {
     "data": {
      "text/plain": [
       "[99, 86, 87, 88, 111, 86, 103, 87, 94, 78, 77, 85, 86]"
      ]
     },
     "execution_count": 28,
     "metadata": {},
     "output_type": "execute_result"
    }
   ],
   "source": [
    "speed"
   ]
  },
  {
   "cell_type": "markdown",
   "metadata": {},
   "source": [
    "# Bar Charts"
   ]
  },
  {
   "cell_type": "code",
   "execution_count": 29,
   "metadata": {},
   "outputs": [],
   "source": [
    "import numpy as np \n",
    "import pandas as pd\n",
    "import matplotlib\n",
    "from matplotlib import pyplot as plt\n",
    "%matplotlib inline\n"
   ]
  },
  {
   "cell_type": "code",
   "execution_count": 34,
   "metadata": {},
   "outputs": [
    {
     "data": {
      "text/plain": [
       "<BarContainer object of 4 artists>"
      ]
     },
     "execution_count": 34,
     "metadata": {},
     "output_type": "execute_result"
    },
    {
     "data": {
      "image/png": "[encoded data removed]",
      "text/plain": [
       "<Figure size 432x288 with 1 Axes>"
      ]
     },
     "metadata": {
      "needs_background": "light"
     },
     "output_type": "display_data"
    }
   ],
   "source": [
    "x = np.array(['A','B','C','D'])\n",
    "y = np.array([5,8,2,9])\n",
    "\n",
    "plt.bar(x,y, color=\"purple\", width=0.2 )"
   ]
  },
  {
   "cell_type": "code",
   "execution_count": 36,
   "metadata": {},
   "outputs": [
    {
     "data": {
      "text/plain": [
       "<BarContainer object of 4 artists>"
      ]
     },
     "execution_count": 36,
     "metadata": {},
     "output_type": "execute_result"
    },
    {
     "data": {
      "image/png": "[encoded data removed]",
      "text/plain": [
       "<Figure size 432x288 with 1 Axes>"
      ]
     },
     "metadata": {
      "needs_background": "light"
     },
     "output_type": "display_data"
    }
   ],
   "source": [
    "# horizontal bar \n",
    "\n",
    "plt.barh(x,y, color=\"#4CAF50\", height=0.2)"
   ]
  },
  {
   "cell_type": "markdown",
   "metadata": {},
   "source": [
    "# Histogram\n",
    "## a graph showing frequency distributions \n",
    "- it shows the number of observations within each given interval "
   ]
  },
  {
   "cell_type": "code",
   "execution_count": 37,
   "metadata": {},
   "outputs": [],
   "source": [
    "#height of 250 people in centimeters "
   ]
  },
  {
   "cell_type": "code",
   "execution_count": 38,
   "metadata": {},
   "outputs": [],
   "source": [
    "x = np.random.normal(170, 10, 250) \n",
    "# randomly generate an array with 250 values,\n",
    "# values should tend towards 170 and have standard deviation of 10"
   ]
  },
  {
   "cell_type": "code",
   "execution_count": 42,
   "metadata": {},
   "outputs": [
    {
     "data": {
      "text/plain": [
       "(array([ 3.,  5., 24., 27., 49., 61., 51., 15., 13.,  2.]),\n",
       " array([141.93165184, 147.42359958, 152.91554733, 158.40749507,\n",
       "        163.89944281, 169.39139055, 174.88333829, 180.37528603,\n",
       "        185.86723377, 191.35918151, 196.85112925]),\n",
       " <BarContainer object of 10 artists>)"
      ]
     },
     "execution_count": 42,
     "metadata": {},
     "output_type": "execute_result"
    },
    {
     "data": {
      "image/png": "[encoded data removed]",
      "text/plain": [
       "<Figure size 432x288 with 1 Axes>"
      ]
     },
     "metadata": {
      "needs_background": "light"
     },
     "output_type": "display_data"
    }
   ],
   "source": [
    "# draw a histogram uding matplot lib\n",
    "plt.hist(x)"
   ]
  },
  {
   "cell_type": "code",
   "execution_count": 44,
   "metadata": {},
   "outputs": [
    {
     "data": {
      "text/plain": [
       "(array([2.000e+00, 0.000e+00, 0.000e+00, 1.000e+00, 2.000e+00, 3.000e+00,\n",
       "        3.000e+00, 4.000e+00, 2.000e+00, 1.000e+01, 6.000e+00, 1.000e+01,\n",
       "        1.400e+01, 1.500e+01, 3.800e+01, 3.300e+01, 4.600e+01, 5.800e+01,\n",
       "        6.900e+01, 9.100e+01, 1.500e+02, 1.630e+02, 1.770e+02, 2.090e+02,\n",
       "        2.830e+02, 3.840e+02, 4.150e+02, 5.240e+02, 6.060e+02, 7.120e+02,\n",
       "        7.850e+02, 9.720e+02, 1.103e+03, 1.259e+03, 1.384e+03, 1.663e+03,\n",
       "        1.801e+03, 1.959e+03, 2.098e+03, 2.319e+03, 2.444e+03, 2.681e+03,\n",
       "        2.882e+03, 2.923e+03, 3.198e+03, 3.247e+03, 3.355e+03, 3.413e+03,\n",
       "        3.494e+03, 3.502e+03, 3.537e+03, 3.518e+03, 3.601e+03, 3.336e+03,\n",
       "        3.220e+03, 3.087e+03, 2.934e+03, 2.844e+03, 2.625e+03, 2.353e+03,\n",
       "        2.288e+03, 2.049e+03, 1.983e+03, 1.682e+03, 1.550e+03, 1.390e+03,\n",
       "        1.136e+03, 9.770e+02, 8.850e+02, 8.080e+02, 6.300e+02, 5.570e+02,\n",
       "        4.770e+02, 3.990e+02, 3.400e+02, 2.650e+02, 2.110e+02, 1.720e+02,\n",
       "        1.520e+02, 1.100e+02, 1.010e+02, 7.200e+01, 5.800e+01, 4.100e+01,\n",
       "        3.000e+01, 1.800e+01, 1.400e+01, 6.000e+00, 1.000e+01, 7.000e+00,\n",
       "        2.000e+00, 2.000e+00, 1.000e+00, 4.000e+00, 1.000e+00, 2.000e+00,\n",
       "        1.000e+00, 1.000e+00, 0.000e+00, 1.000e+00]),\n",
       " array([0.59643112, 0.68483158, 0.77323203, 0.86163249, 0.95003295,\n",
       "        1.03843341, 1.12683387, 1.21523432, 1.30363478, 1.39203524,\n",
       "        1.4804357 , 1.56883616, 1.65723661, 1.74563707, 1.83403753,\n",
       "        1.92243799, 2.01083845, 2.0992389 , 2.18763936, 2.27603982,\n",
       "        2.36444028, 2.45284074, 2.54124119, 2.62964165, 2.71804211,\n",
       "        2.80644257, 2.89484303, 2.98324348, 3.07164394, 3.1600444 ,\n",
       "        3.24844486, 3.33684532, 3.42524577, 3.51364623, 3.60204669,\n",
       "        3.69044715, 3.77884761, 3.86724806, 3.95564852, 4.04404898,\n",
       "        4.13244944, 4.2208499 , 4.30925035, 4.39765081, 4.48605127,\n",
       "        4.57445173, 4.66285219, 4.75125264, 4.8396531 , 4.92805356,\n",
       "        5.01645402, 5.10485448, 5.19325493, 5.28165539, 5.37005585,\n",
       "        5.45845631, 5.54685677, 5.63525723, 5.72365768, 5.81205814,\n",
       "        5.9004586 , 5.98885906, 6.07725952, 6.16565997, 6.25406043,\n",
       "        6.34246089, 6.43086135, 6.51926181, 6.60766226, 6.69606272,\n",
       "        6.78446318, 6.87286364, 6.9612641 , 7.04966455, 7.13806501,\n",
       "        7.22646547, 7.31486593, 7.40326639, 7.49166684, 7.5800673 ,\n",
       "        7.66846776, 7.75686822, 7.84526868, 7.93366913, 8.02206959,\n",
       "        8.11047005, 8.19887051, 8.28727097, 8.37567142, 8.46407188,\n",
       "        8.55247234, 8.6408728 , 8.72927326, 8.81767371, 8.90607417,\n",
       "        8.99447463, 9.08287509, 9.17127555, 9.259676  , 9.34807646,\n",
       "        9.43647692]),\n",
       " <BarContainer object of 100 artists>)"
      ]
     },
     "execution_count": 44,
     "metadata": {},
     "output_type": "execute_result"
    },
    {
     "data": {
      "image/png": "[encoded data removed]",
      "text/plain": [
       "<Figure size 432x288 with 1 Axes>"
      ]
     },
     "metadata": {
      "needs_background": "light"
     },
     "output_type": "display_data"
    }
   ],
   "source": [
    "# another normal distribution\n",
    "\n",
    "x = np.random.normal(5.0, 1.0, 100000)\n",
    "plt.hist(x, 100)"
   ]
  },
  {
   "cell_type": "markdown",
   "metadata": {},
   "source": [
    "# Scatter plot "
   ]
  },
  {
   "cell_type": "markdown",
   "metadata": {},
   "source": [
    "- in a scatter plot each value in the dataset is represented by a dot "
   ]
  },
  {
   "cell_type": "code",
   "execution_count": 45,
   "metadata": {},
   "outputs": [],
   "source": [
    "# data \n",
    "location_data = \"datasets/cars.csv\"\n",
    "cars = pd.read_csv(location_data)"
   ]
  },
  {
   "cell_type": "code",
   "execution_count": 47,
   "metadata": {},
   "outputs": [
    {
     "data": {
      "text/html": [
       "<div>\n",
       "<style scoped>\n",
       "    .dataframe tbody tr th:only-of-type {\n",
       "        vertical-align: middle;\n",
       "    }\n",
       "\n",
       "    .dataframe tbody tr th {\n",
       "        vertical-align: top;\n",
       "    }\n",
       "\n",
       "    .dataframe thead th {\n",
       "        text-align: right;\n",
       "    }\n",
       "</style>\n",
       "<table border=\"1\" class=\"dataframe\">\n",
       "  <thead>\n",
       "    <tr style=\"text-align: right;\">\n",
       "      <th></th>\n",
       "      <th>Car</th>\n",
       "      <th>Model</th>\n",
       "      <th>Volume</th>\n",
       "      <th>Weight</th>\n",
       "      <th>CO2</th>\n",
       "    </tr>\n",
       "  </thead>\n",
       "  <tbody>\n",
       "    <tr>\n",
       "      <th>0</th>\n",
       "      <td>Toyoty</td>\n",
       "      <td>Aygo</td>\n",
       "      <td>1000</td>\n",
       "      <td>790</td>\n",
       "      <td>99</td>\n",
       "    </tr>\n",
       "    <tr>\n",
       "      <th>1</th>\n",
       "      <td>Mitsubishi</td>\n",
       "      <td>Space Star</td>\n",
       "      <td>1200</td>\n",
       "      <td>1160</td>\n",
       "      <td>95</td>\n",
       "    </tr>\n",
       "    <tr>\n",
       "      <th>2</th>\n",
       "      <td>Skoda</td>\n",
       "      <td>Citigo</td>\n",
       "      <td>1000</td>\n",
       "      <td>929</td>\n",
       "      <td>95</td>\n",
       "    </tr>\n",
       "    <tr>\n",
       "      <th>3</th>\n",
       "      <td>Fiat</td>\n",
       "      <td>500</td>\n",
       "      <td>900</td>\n",
       "      <td>865</td>\n",
       "      <td>90</td>\n",
       "    </tr>\n",
       "    <tr>\n",
       "      <th>4</th>\n",
       "      <td>Mini</td>\n",
       "      <td>Cooper</td>\n",
       "      <td>1500</td>\n",
       "      <td>1140</td>\n",
       "      <td>105</td>\n",
       "    </tr>\n",
       "  </tbody>\n",
       "</table>\n",
       "</div>"
      ],
      "text/plain": [
       "          Car       Model  Volume  Weight  CO2\n",
       "0      Toyoty        Aygo    1000     790   99\n",
       "1  Mitsubishi  Space Star    1200    1160   95\n",
       "2       Skoda      Citigo    1000     929   95\n",
       "3        Fiat         500     900     865   90\n",
       "4        Mini      Cooper    1500    1140  105"
      ]
     },
     "execution_count": 47,
     "metadata": {},
     "output_type": "execute_result"
    }
   ],
   "source": [
    "cars.head()"
   ]
  },
  {
   "cell_type": "code",
   "execution_count": 50,
   "metadata": {},
   "outputs": [
    {
     "data": {
      "text/plain": [
       "Text(0, 0.5, 'Vehicle weight (kg)')"
      ]
     },
     "execution_count": 50,
     "metadata": {},
     "output_type": "execute_result"
    },
    {
     "data": {
      "image/png": "[encoded data removed]",
      "text/plain": [
       "<Figure size 432x288 with 1 Axes>"
      ]
     },
     "metadata": {
      "needs_background": "light"
     },
     "output_type": "display_data"
    }
   ],
   "source": [
    "plt.scatter(cars[\"CO2\"], cars[\"Weight\"])\n",
    "plt.title(\"Emissions vs Vehicle Weight\")\n",
    "plt.xlabel(\"CO2 Emission (cm3)\")\n",
    "plt.ylabel(\"Vehicle weight (kg)\")"
   ]
  },
  {
   "cell_type": "code",
   "execution_count": 57,
   "metadata": {},
   "outputs": [
    {
     "data": {
      "text/plain": [
       "LinregressResult(slope=17.933789400020007, intercept=-537.46690184093, rvalue=0.5521500341348637, pvalue=0.00048063698237949394, stderr=4.6441755282716075)"
      ]
     },
     "execution_count": 57,
     "metadata": {},
     "output_type": "execute_result"
    }
   ],
   "source": [
    "# import scipy and draw the line of linear regression \n",
    "import scipy\n",
    "from scipy import stats \n",
    "\n",
    "#create the arrays that represent the values of the x and y axis:  \n",
    "x = cars[\"CO2\"]\n",
    "y = cars[\"Weight\"]\n",
    "\n",
    "stats.linregress(x,y)\n"
   ]
  },
  {
   "cell_type": "markdown",
   "metadata": {},
   "source": [
    "# destructuring\n",
    "- execute a method that returns some important key values of the linear regression\n",
    "### slope, intercept etc"
   ]
  },
  {
   "cell_type": "code",
   "execution_count": 60,
   "metadata": {},
   "outputs": [],
   "source": [
    "slope, intercept, r, p, std_err = stats.linregress(x,y)"
   ]
  },
  {
   "cell_type": "code",
   "execution_count": 61,
   "metadata": {},
   "outputs": [
    {
     "data": {
      "text/plain": [
       "17.933789400020007"
      ]
     },
     "execution_count": 61,
     "metadata": {},
     "output_type": "execute_result"
    }
   ],
   "source": [
    "slope"
   ]
  },
  {
   "cell_type": "code",
   "execution_count": 63,
   "metadata": {},
   "outputs": [
    {
     "data": {
      "text/plain": [
       "[<matplotlib.lines.Line2D at 0x2614cc9b2b0>]"
      ]
     },
     "execution_count": 63,
     "metadata": {},
     "output_type": "execute_result"
    },
    {
     "data": {
      "image/png": "[encoded data removed]",
      "text/plain": [
       "<Figure size 432x288 with 1 Axes>"
      ]
     },
     "metadata": {
      "needs_background": "light"
     },
     "output_type": "display_data"
    }
   ],
   "source": [
    "#create a function that uses the slope and intercept to return a new value \n",
    "# this new value represents where on the y-axis the x value will be placed \n",
    "def myFunc(x):\n",
    "    return slope * x + intercept\n",
    "\n",
    "# run each value of the x array (CO2) through the function\n",
    "# this will result in a new array with new values for the y-axis \n",
    "mymodel = list(map(myFunc, x))\n",
    "\n",
    "#draw the original scatter plot \n",
    "plt.scatter(x,y)\n",
    "\n",
    "#draw the line of regression\n",
    "plt.plot(x, mymodel)\n"
   ]
  },
  {
   "cell_type": "code",
   "execution_count": 64,
   "metadata": {},
   "outputs": [
    {
     "data": {
      "text/plain": [
       "0.5521500341348637"
      ]
     },
     "execution_count": 64,
     "metadata": {},
     "output_type": "execute_result"
    }
   ],
   "source": [
    "r"
   ]
  },
  {
   "cell_type": "markdown",
   "metadata": {},
   "source": [
    "## Assignment \n",
    "Check the relationships between:\n",
    "\n",
    "    1. Volume and CO2\n",
    "    2. Volume and Weight *\n",
    "\n",
    "* Draw a scatter plot and possibly the line of best fit \n",
    "* Make inferences "
   ]
  },
  {
   "cell_type": "code",
   "execution_count": 65,
   "metadata": {},
   "outputs": [],
   "source": [
    "# to predict the weight of car with CO2 emission of 112\n",
    "# use the same myFunc() from the example above, it takes a value for x and \n",
    "# calculates the corresponding y-value \n",
    "\n",
    "predict = myFunc(112)"
   ]
  },
  {
   "cell_type": "code",
   "execution_count": 66,
   "metadata": {},
   "outputs": [
    {
     "data": {
      "text/plain": [
       "1471.117510961311"
      ]
     },
     "execution_count": 66,
     "metadata": {},
     "output_type": "execute_result"
    }
   ],
   "source": [
    "predict"
   ]
  },
  {
   "cell_type": "markdown",
   "metadata": {},
   "source": [
    "# No relationship \n",
    "r value, number line -1 0 1 ( 0 means no relationship) and 1 (and -1 ) means 100% related\n",
    " "
   ]
  },
  {
   "cell_type": "code",
   "execution_count": 2,
   "metadata": {},
   "outputs": [],
   "source": [
    "import numpy as np\n",
    "from scipy import stats "
   ]
  },
  {
   "cell_type": "code",
   "execution_count": 3,
   "metadata": {},
   "outputs": [],
   "source": [
    "x = [89,43,36,36,95,10,66,34,38,20,26,29,48,64,6,5,36,66,72,40]\n",
    "y = [21,46,3,35,67,95,53,72,58,10,26,34,90,33,38,20,56,2,47,15]"
   ]
  },
  {
   "cell_type": "code",
   "execution_count": 8,
   "metadata": {},
   "outputs": [
    {
     "data": {
      "text/plain": [
       "LinregressResult(slope=0.01391658139845263, intercept=40.452282828936454, rvalue=0.01331814154297491, pvalue=0.955558800440106, stderr=0.24627150586388075)"
      ]
     },
     "execution_count": 8,
     "metadata": {},
     "output_type": "execute_result"
    }
   ],
   "source": [
    "stats.linregress(x,y)"
   ]
  },
  {
   "cell_type": "code",
   "execution_count": 9,
   "metadata": {},
   "outputs": [],
   "source": [
    "import matplotlib.pyplot as plt\n",
    "%matplotlib inline"
   ]
  },
  {
   "cell_type": "code",
   "execution_count": 10,
   "metadata": {},
   "outputs": [
    {
     "data": {
      "text/plain": [
       "<matplotlib.collections.PathCollection at 0x279a4cdf310>"
      ]
     },
     "execution_count": 10,
     "metadata": {},
     "output_type": "execute_result"
    },
    {
     "data": {
      "image/png": "[encoded data removed]",
      "text/plain": [
       "<Figure size 432x288 with 1 Axes>"
      ]
     },
     "metadata": {
      "needs_background": "light"
     },
     "output_type": "display_data"
    }
   ],
   "source": [
    "plt.scatter(x,y)"
   ]
  },
  {
   "cell_type": "code",
   "execution_count": 13,
   "metadata": {},
   "outputs": [
    {
     "data": {
      "image/png": "[encoded data removed]",
      "text/plain": [
       "<Figure size 432x288 with 1 Axes>"
      ]
     },
     "metadata": {
      "needs_background": "light"
     },
     "output_type": "display_data"
    }
   ],
   "source": [
    "# destructure \n",
    "\n",
    "slope, intercept, r, p, stderr = stats.linregress(x,y)\n",
    "\n",
    "def myfunc(x):\n",
    "    return slope * x + intercept\n",
    "\n",
    "new_y = list(map(myfunc, x))\n",
    "\n",
    "\n",
    "plt.scatter(x,y)\n",
    "\n",
    "plt.plot(x, new_y)\n",
    "\n",
    "plt.show()"
   ]
  },
  {
   "cell_type": "code",
   "execution_count": 12,
   "metadata": {},
   "outputs": [
    {
     "data": {
      "text/plain": [
       "0.01391658139845263"
      ]
     },
     "execution_count": 12,
     "metadata": {},
     "output_type": "execute_result"
    }
   ],
   "source": []
  },
  {
   "cell_type": "code",
   "execution_count": null,
   "metadata": {},
   "outputs": [],
   "source": []
  }
 ],
 "metadata": {
  "kernelspec": {
   "display_name": "Python 3",
   "language": "python",
   "name": "python3"
  },
  "language_info": {
   "codemirror_mode": {
    "name": "ipython",
    "version": 3
   },
   "file_extension": ".py",
   "mimetype": "text/x-python",
   "name": "python",
   "nbconvert_exporter": "python",
   "pygments_lexer": "ipython3",
   "version": "3.8.5"
  }
 },
 "nbformat": 4,
 "nbformat_minor": 4
}
