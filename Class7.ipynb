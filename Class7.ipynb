{
 "cells": [
  {
   "cell_type": "code",
   "execution_count": 1,
   "metadata": {},
   "outputs": [
    {
     "name": "stdout",
     "output_type": "stream",
     "text": [
      "Setup complete\n"
     ]
    }
   ],
   "source": [
    "# environment setup\n",
    "import numpy as np\n",
    "import pandas as pd\n",
    "import matplotlib.pyplot as plt\n",
    "import xlrd\n",
    "import seaborn as sns\n",
    "%matplotlib inline\n",
    "\n",
    "print(\"Setup complete\")"
   ]
  },
  {
   "cell_type": "markdown",
   "metadata": {},
   "source": [
    "# More Data Cleaning\n",
    "# Dealing with Messy Data \n",
    "# Renaming Columns\n",
    "# Dealing with Duplicates "
   ]
  },
  {
   "cell_type": "markdown",
   "metadata": {},
   "source": [
    "# Scipy "
   ]
  },
  {
   "cell_type": "markdown",
   "metadata": {},
   "source": [
    "# Seaborn - visuals"
   ]
  },
  {
   "cell_type": "code",
   "execution_count": 2,
   "metadata": {},
   "outputs": [],
   "source": [
    "url = \"https://raw.githubusercontent.com/realpython/python-data-cleaning/master/Datasets/olympics.csv\""
   ]
  },
  {
   "cell_type": "code",
   "execution_count": 3,
   "metadata": {},
   "outputs": [],
   "source": [
    "olypics_data = pd.read_csv(url, header=1)"
   ]
  },
  {
   "cell_type": "code",
   "execution_count": 4,
   "metadata": {},
   "outputs": [
    {
     "data": {
      "text/html": [
       "<div>\n",
       "<style scoped>\n",
       "    .dataframe tbody tr th:only-of-type {\n",
       "        vertical-align: middle;\n",
       "    }\n",
       "\n",
       "    .dataframe tbody tr th {\n",
       "        vertical-align: top;\n",
       "    }\n",
       "\n",
       "    .dataframe thead th {\n",
       "        text-align: right;\n",
       "    }\n",
       "</style>\n",
       "<table border=\"1\" class=\"dataframe\">\n",
       "  <thead>\n",
       "    <tr style=\"text-align: right;\">\n",
       "      <th></th>\n",
       "      <th>Unnamed: 0</th>\n",
       "      <th>? Summer</th>\n",
       "      <th>01 !</th>\n",
       "      <th>02 !</th>\n",
       "      <th>03 !</th>\n",
       "      <th>Total</th>\n",
       "      <th>? Winter</th>\n",
       "      <th>01 !.1</th>\n",
       "      <th>02 !.1</th>\n",
       "      <th>03 !.1</th>\n",
       "      <th>Total.1</th>\n",
       "      <th>? Games</th>\n",
       "      <th>01 !.2</th>\n",
       "      <th>02 !.2</th>\n",
       "      <th>03 !.2</th>\n",
       "      <th>Combined total</th>\n",
       "    </tr>\n",
       "  </thead>\n",
       "  <tbody>\n",
       "    <tr>\n",
       "      <th>0</th>\n",
       "      <td>Afghanistan (AFG)</td>\n",
       "      <td>13</td>\n",
       "      <td>0</td>\n",
       "      <td>0</td>\n",
       "      <td>2</td>\n",
       "      <td>2</td>\n",
       "      <td>0</td>\n",
       "      <td>0</td>\n",
       "      <td>0</td>\n",
       "      <td>0</td>\n",
       "      <td>0</td>\n",
       "      <td>13</td>\n",
       "      <td>0</td>\n",
       "      <td>0</td>\n",
       "      <td>2</td>\n",
       "      <td>2</td>\n",
       "    </tr>\n",
       "    <tr>\n",
       "      <th>1</th>\n",
       "      <td>Algeria (ALG)</td>\n",
       "      <td>12</td>\n",
       "      <td>5</td>\n",
       "      <td>2</td>\n",
       "      <td>8</td>\n",
       "      <td>15</td>\n",
       "      <td>3</td>\n",
       "      <td>0</td>\n",
       "      <td>0</td>\n",
       "      <td>0</td>\n",
       "      <td>0</td>\n",
       "      <td>15</td>\n",
       "      <td>5</td>\n",
       "      <td>2</td>\n",
       "      <td>8</td>\n",
       "      <td>15</td>\n",
       "    </tr>\n",
       "    <tr>\n",
       "      <th>2</th>\n",
       "      <td>Argentina (ARG)</td>\n",
       "      <td>23</td>\n",
       "      <td>18</td>\n",
       "      <td>24</td>\n",
       "      <td>28</td>\n",
       "      <td>70</td>\n",
       "      <td>18</td>\n",
       "      <td>0</td>\n",
       "      <td>0</td>\n",
       "      <td>0</td>\n",
       "      <td>0</td>\n",
       "      <td>41</td>\n",
       "      <td>18</td>\n",
       "      <td>24</td>\n",
       "      <td>28</td>\n",
       "      <td>70</td>\n",
       "    </tr>\n",
       "    <tr>\n",
       "      <th>3</th>\n",
       "      <td>Armenia (ARM)</td>\n",
       "      <td>5</td>\n",
       "      <td>1</td>\n",
       "      <td>2</td>\n",
       "      <td>9</td>\n",
       "      <td>12</td>\n",
       "      <td>6</td>\n",
       "      <td>0</td>\n",
       "      <td>0</td>\n",
       "      <td>0</td>\n",
       "      <td>0</td>\n",
       "      <td>11</td>\n",
       "      <td>1</td>\n",
       "      <td>2</td>\n",
       "      <td>9</td>\n",
       "      <td>12</td>\n",
       "    </tr>\n",
       "    <tr>\n",
       "      <th>4</th>\n",
       "      <td>Australasia (ANZ) [ANZ]</td>\n",
       "      <td>2</td>\n",
       "      <td>3</td>\n",
       "      <td>4</td>\n",
       "      <td>5</td>\n",
       "      <td>12</td>\n",
       "      <td>0</td>\n",
       "      <td>0</td>\n",
       "      <td>0</td>\n",
       "      <td>0</td>\n",
       "      <td>0</td>\n",
       "      <td>2</td>\n",
       "      <td>3</td>\n",
       "      <td>4</td>\n",
       "      <td>5</td>\n",
       "      <td>12</td>\n",
       "    </tr>\n",
       "  </tbody>\n",
       "</table>\n",
       "</div>"
      ],
      "text/plain": [
       "                Unnamed: 0  ? Summer  01 !  02 !  03 !  Total  ? Winter  \\\n",
       "0        Afghanistan (AFG)        13     0     0     2      2         0   \n",
       "1            Algeria (ALG)        12     5     2     8     15         3   \n",
       "2          Argentina (ARG)        23    18    24    28     70        18   \n",
       "3            Armenia (ARM)         5     1     2     9     12         6   \n",
       "4  Australasia (ANZ) [ANZ]         2     3     4     5     12         0   \n",
       "\n",
       "   01 !.1  02 !.1  03 !.1  Total.1  ? Games  01 !.2  02 !.2  03 !.2  \\\n",
       "0       0       0       0        0       13       0       0       2   \n",
       "1       0       0       0        0       15       5       2       8   \n",
       "2       0       0       0        0       41      18      24      28   \n",
       "3       0       0       0        0       11       1       2       9   \n",
       "4       0       0       0        0        2       3       4       5   \n",
       "\n",
       "   Combined total  \n",
       "0               2  \n",
       "1              15  \n",
       "2              70  \n",
       "3              12  \n",
       "4              12  "
      ]
     },
     "execution_count": 4,
     "metadata": {},
     "output_type": "execute_result"
    }
   ],
   "source": [
    "olypics_data.head()"
   ]
  },
  {
   "cell_type": "code",
   "execution_count": 5,
   "metadata": {},
   "outputs": [
    {
     "data": {
      "text/plain": [
       "Index(['Unnamed: 0', '? Summer', '01 !', '02 !', '03 !', 'Total', '? Winter',\n",
       "       '01 !.1', '02 !.1', '03 !.1', 'Total.1', '? Games', '01 !.2', '02 !.2',\n",
       "       '03 !.2', 'Combined total'],\n",
       "      dtype='object')"
      ]
     },
     "execution_count": 5,
     "metadata": {},
     "output_type": "execute_result"
    }
   ],
   "source": [
    "olypics_data.columns"
   ]
  },
  {
   "cell_type": "code",
   "execution_count": 6,
   "metadata": {},
   "outputs": [],
   "source": [
    "# replace the punctuation marks with empty space\n",
    "# string replace and chaining \n",
    "olypics_data.columns = olypics_data.columns.str.replace(\"?\", '').str.replace('!', '').str.replace('0', '')"
   ]
  },
  {
   "cell_type": "code",
   "execution_count": 7,
   "metadata": {},
   "outputs": [
    {
     "data": {
      "text/plain": [
       "Index(['Unnamed: ', ' Summer', '1 ', '2 ', '3 ', 'Total', ' Winter', '1 .1',\n",
       "       '2 .1', '3 .1', 'Total.1', ' Games', '1 .2', '2 .2', '3 .2',\n",
       "       'Combined total'],\n",
       "      dtype='object')"
      ]
     },
     "execution_count": 7,
     "metadata": {},
     "output_type": "execute_result"
    }
   ],
   "source": [
    "olypics_data.columns"
   ]
  },
  {
   "cell_type": "code",
   "execution_count": 8,
   "metadata": {},
   "outputs": [
    {
     "data": {
      "text/html": [
       "<div>\n",
       "<style scoped>\n",
       "    .dataframe tbody tr th:only-of-type {\n",
       "        vertical-align: middle;\n",
       "    }\n",
       "\n",
       "    .dataframe tbody tr th {\n",
       "        vertical-align: top;\n",
       "    }\n",
       "\n",
       "    .dataframe thead th {\n",
       "        text-align: right;\n",
       "    }\n",
       "</style>\n",
       "<table border=\"1\" class=\"dataframe\">\n",
       "  <thead>\n",
       "    <tr style=\"text-align: right;\">\n",
       "      <th></th>\n",
       "      <th>Unnamed:</th>\n",
       "      <th>Summer</th>\n",
       "      <th>1</th>\n",
       "      <th>2</th>\n",
       "      <th>3</th>\n",
       "      <th>Total</th>\n",
       "      <th>Winter</th>\n",
       "      <th>1 .1</th>\n",
       "      <th>2 .1</th>\n",
       "      <th>3 .1</th>\n",
       "      <th>Total.1</th>\n",
       "      <th>Games</th>\n",
       "      <th>1 .2</th>\n",
       "      <th>2 .2</th>\n",
       "      <th>3 .2</th>\n",
       "      <th>Combined total</th>\n",
       "    </tr>\n",
       "  </thead>\n",
       "  <tbody>\n",
       "    <tr>\n",
       "      <th>0</th>\n",
       "      <td>Afghanistan (AFG)</td>\n",
       "      <td>13</td>\n",
       "      <td>0</td>\n",
       "      <td>0</td>\n",
       "      <td>2</td>\n",
       "      <td>2</td>\n",
       "      <td>0</td>\n",
       "      <td>0</td>\n",
       "      <td>0</td>\n",
       "      <td>0</td>\n",
       "      <td>0</td>\n",
       "      <td>13</td>\n",
       "      <td>0</td>\n",
       "      <td>0</td>\n",
       "      <td>2</td>\n",
       "      <td>2</td>\n",
       "    </tr>\n",
       "    <tr>\n",
       "      <th>1</th>\n",
       "      <td>Algeria (ALG)</td>\n",
       "      <td>12</td>\n",
       "      <td>5</td>\n",
       "      <td>2</td>\n",
       "      <td>8</td>\n",
       "      <td>15</td>\n",
       "      <td>3</td>\n",
       "      <td>0</td>\n",
       "      <td>0</td>\n",
       "      <td>0</td>\n",
       "      <td>0</td>\n",
       "      <td>15</td>\n",
       "      <td>5</td>\n",
       "      <td>2</td>\n",
       "      <td>8</td>\n",
       "      <td>15</td>\n",
       "    </tr>\n",
       "    <tr>\n",
       "      <th>2</th>\n",
       "      <td>Argentina (ARG)</td>\n",
       "      <td>23</td>\n",
       "      <td>18</td>\n",
       "      <td>24</td>\n",
       "      <td>28</td>\n",
       "      <td>70</td>\n",
       "      <td>18</td>\n",
       "      <td>0</td>\n",
       "      <td>0</td>\n",
       "      <td>0</td>\n",
       "      <td>0</td>\n",
       "      <td>41</td>\n",
       "      <td>18</td>\n",
       "      <td>24</td>\n",
       "      <td>28</td>\n",
       "      <td>70</td>\n",
       "    </tr>\n",
       "  </tbody>\n",
       "</table>\n",
       "</div>"
      ],
      "text/plain": [
       "           Unnamed:    Summer  1   2   3   Total   Winter  1 .1  2 .1  3 .1  \\\n",
       "0  Afghanistan (AFG)       13   0   0   2      2        0     0     0     0   \n",
       "1      Algeria (ALG)       12   5   2   8     15        3     0     0     0   \n",
       "2    Argentina (ARG)       23  18  24  28     70       18     0     0     0   \n",
       "\n",
       "   Total.1   Games  1 .2  2 .2  3 .2  Combined total  \n",
       "0        0      13     0     0     2               2  \n",
       "1        0      15     5     2     8              15  \n",
       "2        0      41    18    24    28              70  "
      ]
     },
     "execution_count": 8,
     "metadata": {},
     "output_type": "execute_result"
    }
   ],
   "source": [
    "olypics_data.head(3)"
   ]
  },
  {
   "cell_type": "code",
   "execution_count": 9,
   "metadata": {},
   "outputs": [],
   "source": [
    "data = olypics_data.rename(columns={\n",
    "    olypics_data.columns[0]: 'Country',\n",
    "    'Summer': 'Summer',\n",
    "    olypics_data.columns[2]: 'Summer_gold',\n",
    "    olypics_data.columns[3]: 'Summer_silver',\n",
    "    olypics_data.columns[4]: 'Summer_bronze',\n",
    "    'Total': 'Summer_total',\n",
    "    'Winter': 'Winter',\n",
    "    olypics_data.columns[7]: 'Winter_gold',\n",
    "    olypics_data.columns[8]: 'Winter_silver',\n",
    "    olypics_data.columns[9]: 'Winter_bronze',\n",
    "    'Total.1': 'Winter_total',\n",
    "    olypics_data.columns[11]: 'Num_of_Games',\n",
    "    olypics_data.columns[12]: 'total_gold',\n",
    "    olypics_data.columns[13]: 'total_silver',\n",
    "    olypics_data.columns[14]: 'total_bronze',\n",
    "    })"
   ]
  },
  {
   "cell_type": "code",
   "execution_count": 10,
   "metadata": {},
   "outputs": [
    {
     "data": {
      "text/plain": [
       "0                                 Afghanistan (AFG)\n",
       "1                                     Algeria (ALG)\n",
       "2                                   Argentina (ARG)\n",
       "3                                     Armenia (ARM)\n",
       "4                           Australasia (ANZ) [ANZ]\n",
       "                           ...                     \n",
       "142    Independent Olympic Participants (IOP) [IOP]\n",
       "143                              Zambia (ZAM) [ZAM]\n",
       "144                            Zimbabwe (ZIM) [ZIM]\n",
       "145                          Mixed team (ZZX) [ZZX]\n",
       "146                                          Totals\n",
       "Name: Unnamed: , Length: 147, dtype: object"
      ]
     },
     "execution_count": 10,
     "metadata": {},
     "output_type": "execute_result"
    }
   ],
   "source": [
    "# show the first column\n",
    "olypics_data.iloc[0] # first row \n",
    "olypics_data[\"Unnamed: \"] # first column"
   ]
  },
  {
   "cell_type": "code",
   "execution_count": 11,
   "metadata": {},
   "outputs": [
    {
     "data": {
      "text/html": [
       "<div>\n",
       "<style scoped>\n",
       "    .dataframe tbody tr th:only-of-type {\n",
       "        vertical-align: middle;\n",
       "    }\n",
       "\n",
       "    .dataframe tbody tr th {\n",
       "        vertical-align: top;\n",
       "    }\n",
       "\n",
       "    .dataframe thead th {\n",
       "        text-align: right;\n",
       "    }\n",
       "</style>\n",
       "<table border=\"1\" class=\"dataframe\">\n",
       "  <thead>\n",
       "    <tr style=\"text-align: right;\">\n",
       "      <th></th>\n",
       "      <th>Country</th>\n",
       "      <th>Summer</th>\n",
       "      <th>Summer_gold</th>\n",
       "      <th>Summer_silver</th>\n",
       "      <th>Summer_bronze</th>\n",
       "      <th>Summer_total</th>\n",
       "      <th>Winter</th>\n",
       "      <th>Winter_gold</th>\n",
       "      <th>Winter_silver</th>\n",
       "      <th>Winter_bronze</th>\n",
       "      <th>Winter_total</th>\n",
       "      <th>Num_of_Games</th>\n",
       "      <th>total_gold</th>\n",
       "      <th>total_silver</th>\n",
       "      <th>total_bronze</th>\n",
       "      <th>Combined total</th>\n",
       "    </tr>\n",
       "  </thead>\n",
       "  <tbody>\n",
       "    <tr>\n",
       "      <th>0</th>\n",
       "      <td>Afghanistan (AFG)</td>\n",
       "      <td>13</td>\n",
       "      <td>0</td>\n",
       "      <td>0</td>\n",
       "      <td>2</td>\n",
       "      <td>2</td>\n",
       "      <td>0</td>\n",
       "      <td>0</td>\n",
       "      <td>0</td>\n",
       "      <td>0</td>\n",
       "      <td>0</td>\n",
       "      <td>13</td>\n",
       "      <td>0</td>\n",
       "      <td>0</td>\n",
       "      <td>2</td>\n",
       "      <td>2</td>\n",
       "    </tr>\n",
       "    <tr>\n",
       "      <th>1</th>\n",
       "      <td>Algeria (ALG)</td>\n",
       "      <td>12</td>\n",
       "      <td>5</td>\n",
       "      <td>2</td>\n",
       "      <td>8</td>\n",
       "      <td>15</td>\n",
       "      <td>3</td>\n",
       "      <td>0</td>\n",
       "      <td>0</td>\n",
       "      <td>0</td>\n",
       "      <td>0</td>\n",
       "      <td>15</td>\n",
       "      <td>5</td>\n",
       "      <td>2</td>\n",
       "      <td>8</td>\n",
       "      <td>15</td>\n",
       "    </tr>\n",
       "    <tr>\n",
       "      <th>2</th>\n",
       "      <td>Argentina (ARG)</td>\n",
       "      <td>23</td>\n",
       "      <td>18</td>\n",
       "      <td>24</td>\n",
       "      <td>28</td>\n",
       "      <td>70</td>\n",
       "      <td>18</td>\n",
       "      <td>0</td>\n",
       "      <td>0</td>\n",
       "      <td>0</td>\n",
       "      <td>0</td>\n",
       "      <td>41</td>\n",
       "      <td>18</td>\n",
       "      <td>24</td>\n",
       "      <td>28</td>\n",
       "      <td>70</td>\n",
       "    </tr>\n",
       "    <tr>\n",
       "      <th>3</th>\n",
       "      <td>Armenia (ARM)</td>\n",
       "      <td>5</td>\n",
       "      <td>1</td>\n",
       "      <td>2</td>\n",
       "      <td>9</td>\n",
       "      <td>12</td>\n",
       "      <td>6</td>\n",
       "      <td>0</td>\n",
       "      <td>0</td>\n",
       "      <td>0</td>\n",
       "      <td>0</td>\n",
       "      <td>11</td>\n",
       "      <td>1</td>\n",
       "      <td>2</td>\n",
       "      <td>9</td>\n",
       "      <td>12</td>\n",
       "    </tr>\n",
       "    <tr>\n",
       "      <th>4</th>\n",
       "      <td>Australasia (ANZ) [ANZ]</td>\n",
       "      <td>2</td>\n",
       "      <td>3</td>\n",
       "      <td>4</td>\n",
       "      <td>5</td>\n",
       "      <td>12</td>\n",
       "      <td>0</td>\n",
       "      <td>0</td>\n",
       "      <td>0</td>\n",
       "      <td>0</td>\n",
       "      <td>0</td>\n",
       "      <td>2</td>\n",
       "      <td>3</td>\n",
       "      <td>4</td>\n",
       "      <td>5</td>\n",
       "      <td>12</td>\n",
       "    </tr>\n",
       "    <tr>\n",
       "      <th>...</th>\n",
       "      <td>...</td>\n",
       "      <td>...</td>\n",
       "      <td>...</td>\n",
       "      <td>...</td>\n",
       "      <td>...</td>\n",
       "      <td>...</td>\n",
       "      <td>...</td>\n",
       "      <td>...</td>\n",
       "      <td>...</td>\n",
       "      <td>...</td>\n",
       "      <td>...</td>\n",
       "      <td>...</td>\n",
       "      <td>...</td>\n",
       "      <td>...</td>\n",
       "      <td>...</td>\n",
       "      <td>...</td>\n",
       "    </tr>\n",
       "    <tr>\n",
       "      <th>142</th>\n",
       "      <td>Independent Olympic Participants (IOP) [IOP]</td>\n",
       "      <td>1</td>\n",
       "      <td>0</td>\n",
       "      <td>1</td>\n",
       "      <td>2</td>\n",
       "      <td>3</td>\n",
       "      <td>0</td>\n",
       "      <td>0</td>\n",
       "      <td>0</td>\n",
       "      <td>0</td>\n",
       "      <td>0</td>\n",
       "      <td>1</td>\n",
       "      <td>0</td>\n",
       "      <td>1</td>\n",
       "      <td>2</td>\n",
       "      <td>3</td>\n",
       "    </tr>\n",
       "    <tr>\n",
       "      <th>143</th>\n",
       "      <td>Zambia (ZAM) [ZAM]</td>\n",
       "      <td>12</td>\n",
       "      <td>0</td>\n",
       "      <td>1</td>\n",
       "      <td>1</td>\n",
       "      <td>2</td>\n",
       "      <td>0</td>\n",
       "      <td>0</td>\n",
       "      <td>0</td>\n",
       "      <td>0</td>\n",
       "      <td>0</td>\n",
       "      <td>12</td>\n",
       "      <td>0</td>\n",
       "      <td>1</td>\n",
       "      <td>1</td>\n",
       "      <td>2</td>\n",
       "    </tr>\n",
       "    <tr>\n",
       "      <th>144</th>\n",
       "      <td>Zimbabwe (ZIM) [ZIM]</td>\n",
       "      <td>12</td>\n",
       "      <td>3</td>\n",
       "      <td>4</td>\n",
       "      <td>1</td>\n",
       "      <td>8</td>\n",
       "      <td>1</td>\n",
       "      <td>0</td>\n",
       "      <td>0</td>\n",
       "      <td>0</td>\n",
       "      <td>0</td>\n",
       "      <td>13</td>\n",
       "      <td>3</td>\n",
       "      <td>4</td>\n",
       "      <td>1</td>\n",
       "      <td>8</td>\n",
       "    </tr>\n",
       "    <tr>\n",
       "      <th>145</th>\n",
       "      <td>Mixed team (ZZX) [ZZX]</td>\n",
       "      <td>3</td>\n",
       "      <td>8</td>\n",
       "      <td>5</td>\n",
       "      <td>4</td>\n",
       "      <td>17</td>\n",
       "      <td>0</td>\n",
       "      <td>0</td>\n",
       "      <td>0</td>\n",
       "      <td>0</td>\n",
       "      <td>0</td>\n",
       "      <td>3</td>\n",
       "      <td>8</td>\n",
       "      <td>5</td>\n",
       "      <td>4</td>\n",
       "      <td>17</td>\n",
       "    </tr>\n",
       "    <tr>\n",
       "      <th>146</th>\n",
       "      <td>Totals</td>\n",
       "      <td>27</td>\n",
       "      <td>4809</td>\n",
       "      <td>4775</td>\n",
       "      <td>5130</td>\n",
       "      <td>14714</td>\n",
       "      <td>22</td>\n",
       "      <td>959</td>\n",
       "      <td>958</td>\n",
       "      <td>948</td>\n",
       "      <td>2865</td>\n",
       "      <td>49</td>\n",
       "      <td>5768</td>\n",
       "      <td>5733</td>\n",
       "      <td>6078</td>\n",
       "      <td>17579</td>\n",
       "    </tr>\n",
       "  </tbody>\n",
       "</table>\n",
       "<p>147 rows × 16 columns</p>\n",
       "</div>"
      ],
      "text/plain": [
       "                                          Country   Summer  Summer_gold  \\\n",
       "0                               Afghanistan (AFG)       13            0   \n",
       "1                                   Algeria (ALG)       12            5   \n",
       "2                                 Argentina (ARG)       23           18   \n",
       "3                                   Armenia (ARM)        5            1   \n",
       "4                         Australasia (ANZ) [ANZ]        2            3   \n",
       "..                                            ...      ...          ...   \n",
       "142  Independent Olympic Participants (IOP) [IOP]        1            0   \n",
       "143                            Zambia (ZAM) [ZAM]       12            0   \n",
       "144                          Zimbabwe (ZIM) [ZIM]       12            3   \n",
       "145                        Mixed team (ZZX) [ZZX]        3            8   \n",
       "146                                        Totals       27         4809   \n",
       "\n",
       "     Summer_silver  Summer_bronze  Summer_total   Winter  Winter_gold  \\\n",
       "0                0              2             2        0            0   \n",
       "1                2              8            15        3            0   \n",
       "2               24             28            70       18            0   \n",
       "3                2              9            12        6            0   \n",
       "4                4              5            12        0            0   \n",
       "..             ...            ...           ...      ...          ...   \n",
       "142              1              2             3        0            0   \n",
       "143              1              1             2        0            0   \n",
       "144              4              1             8        1            0   \n",
       "145              5              4            17        0            0   \n",
       "146           4775           5130         14714       22          959   \n",
       "\n",
       "     Winter_silver  Winter_bronze  Winter_total  Num_of_Games  total_gold  \\\n",
       "0                0              0             0            13           0   \n",
       "1                0              0             0            15           5   \n",
       "2                0              0             0            41          18   \n",
       "3                0              0             0            11           1   \n",
       "4                0              0             0             2           3   \n",
       "..             ...            ...           ...           ...         ...   \n",
       "142              0              0             0             1           0   \n",
       "143              0              0             0            12           0   \n",
       "144              0              0             0            13           3   \n",
       "145              0              0             0             3           8   \n",
       "146            958            948          2865            49        5768   \n",
       "\n",
       "     total_silver  total_bronze  Combined total  \n",
       "0               0             2               2  \n",
       "1               2             8              15  \n",
       "2              24            28              70  \n",
       "3               2             9              12  \n",
       "4               4             5              12  \n",
       "..            ...           ...             ...  \n",
       "142             1             2               3  \n",
       "143             1             1               2  \n",
       "144             4             1               8  \n",
       "145             5             4              17  \n",
       "146          5733          6078           17579  \n",
       "\n",
       "[147 rows x 16 columns]"
      ]
     },
     "execution_count": 11,
     "metadata": {},
     "output_type": "execute_result"
    }
   ],
   "source": [
    "data"
   ]
  },
  {
   "cell_type": "markdown",
   "metadata": {},
   "source": [
    "## Dropping Columns "
   ]
  },
  {
   "cell_type": "markdown",
   "metadata": {},
   "source": [
    "- use the pandas drop() method to drop a single column or a list of columns"
   ]
  },
  {
   "cell_type": "code",
   "execution_count": 12,
   "metadata": {},
   "outputs": [
    {
     "data": {
      "text/plain": [
       "Index(['Country', ' Summer', 'Summer_gold', 'Summer_silver', 'Summer_bronze',\n",
       "       'Summer_total', ' Winter', 'Winter_gold', 'Winter_silver',\n",
       "       'Winter_bronze', 'Winter_total', 'Num_of_Games', 'total_gold',\n",
       "       'total_silver', 'total_bronze', 'Combined total'],\n",
       "      dtype='object')"
      ]
     },
     "execution_count": 12,
     "metadata": {},
     "output_type": "execute_result"
    }
   ],
   "source": [
    "data.columns"
   ]
  },
  {
   "cell_type": "code",
   "execution_count": 13,
   "metadata": {},
   "outputs": [],
   "source": [
    "cols_to_drop = [\" Summer\", \" Winter\"]\n",
    "data2 = data.drop(cols_to_drop, axis=1) #axis=1 drops a column "
   ]
  },
  {
   "cell_type": "code",
   "execution_count": 14,
   "metadata": {},
   "outputs": [
    {
     "data": {
      "text/html": [
       "<div>\n",
       "<style scoped>\n",
       "    .dataframe tbody tr th:only-of-type {\n",
       "        vertical-align: middle;\n",
       "    }\n",
       "\n",
       "    .dataframe tbody tr th {\n",
       "        vertical-align: top;\n",
       "    }\n",
       "\n",
       "    .dataframe thead th {\n",
       "        text-align: right;\n",
       "    }\n",
       "</style>\n",
       "<table border=\"1\" class=\"dataframe\">\n",
       "  <thead>\n",
       "    <tr style=\"text-align: right;\">\n",
       "      <th></th>\n",
       "      <th>Country</th>\n",
       "      <th>Summer_gold</th>\n",
       "      <th>Summer_silver</th>\n",
       "      <th>Summer_bronze</th>\n",
       "      <th>Summer_total</th>\n",
       "      <th>Winter_gold</th>\n",
       "      <th>Winter_silver</th>\n",
       "      <th>Winter_bronze</th>\n",
       "      <th>Winter_total</th>\n",
       "      <th>Num_of_Games</th>\n",
       "      <th>total_gold</th>\n",
       "      <th>total_silver</th>\n",
       "      <th>total_bronze</th>\n",
       "      <th>Combined total</th>\n",
       "    </tr>\n",
       "  </thead>\n",
       "  <tbody>\n",
       "    <tr>\n",
       "      <th>0</th>\n",
       "      <td>Afghanistan (AFG)</td>\n",
       "      <td>0</td>\n",
       "      <td>0</td>\n",
       "      <td>2</td>\n",
       "      <td>2</td>\n",
       "      <td>0</td>\n",
       "      <td>0</td>\n",
       "      <td>0</td>\n",
       "      <td>0</td>\n",
       "      <td>13</td>\n",
       "      <td>0</td>\n",
       "      <td>0</td>\n",
       "      <td>2</td>\n",
       "      <td>2</td>\n",
       "    </tr>\n",
       "    <tr>\n",
       "      <th>1</th>\n",
       "      <td>Algeria (ALG)</td>\n",
       "      <td>5</td>\n",
       "      <td>2</td>\n",
       "      <td>8</td>\n",
       "      <td>15</td>\n",
       "      <td>0</td>\n",
       "      <td>0</td>\n",
       "      <td>0</td>\n",
       "      <td>0</td>\n",
       "      <td>15</td>\n",
       "      <td>5</td>\n",
       "      <td>2</td>\n",
       "      <td>8</td>\n",
       "      <td>15</td>\n",
       "    </tr>\n",
       "    <tr>\n",
       "      <th>2</th>\n",
       "      <td>Argentina (ARG)</td>\n",
       "      <td>18</td>\n",
       "      <td>24</td>\n",
       "      <td>28</td>\n",
       "      <td>70</td>\n",
       "      <td>0</td>\n",
       "      <td>0</td>\n",
       "      <td>0</td>\n",
       "      <td>0</td>\n",
       "      <td>41</td>\n",
       "      <td>18</td>\n",
       "      <td>24</td>\n",
       "      <td>28</td>\n",
       "      <td>70</td>\n",
       "    </tr>\n",
       "    <tr>\n",
       "      <th>3</th>\n",
       "      <td>Armenia (ARM)</td>\n",
       "      <td>1</td>\n",
       "      <td>2</td>\n",
       "      <td>9</td>\n",
       "      <td>12</td>\n",
       "      <td>0</td>\n",
       "      <td>0</td>\n",
       "      <td>0</td>\n",
       "      <td>0</td>\n",
       "      <td>11</td>\n",
       "      <td>1</td>\n",
       "      <td>2</td>\n",
       "      <td>9</td>\n",
       "      <td>12</td>\n",
       "    </tr>\n",
       "    <tr>\n",
       "      <th>4</th>\n",
       "      <td>Australasia (ANZ) [ANZ]</td>\n",
       "      <td>3</td>\n",
       "      <td>4</td>\n",
       "      <td>5</td>\n",
       "      <td>12</td>\n",
       "      <td>0</td>\n",
       "      <td>0</td>\n",
       "      <td>0</td>\n",
       "      <td>0</td>\n",
       "      <td>2</td>\n",
       "      <td>3</td>\n",
       "      <td>4</td>\n",
       "      <td>5</td>\n",
       "      <td>12</td>\n",
       "    </tr>\n",
       "  </tbody>\n",
       "</table>\n",
       "</div>"
      ],
      "text/plain": [
       "                   Country  Summer_gold  Summer_silver  Summer_bronze  \\\n",
       "0        Afghanistan (AFG)            0              0              2   \n",
       "1            Algeria (ALG)            5              2              8   \n",
       "2          Argentina (ARG)           18             24             28   \n",
       "3            Armenia (ARM)            1              2              9   \n",
       "4  Australasia (ANZ) [ANZ]            3              4              5   \n",
       "\n",
       "   Summer_total  Winter_gold  Winter_silver  Winter_bronze  Winter_total  \\\n",
       "0             2            0              0              0             0   \n",
       "1            15            0              0              0             0   \n",
       "2            70            0              0              0             0   \n",
       "3            12            0              0              0             0   \n",
       "4            12            0              0              0             0   \n",
       "\n",
       "   Num_of_Games  total_gold  total_silver  total_bronze  Combined total  \n",
       "0            13           0             0             2               2  \n",
       "1            15           5             2             8              15  \n",
       "2            41          18            24            28              70  \n",
       "3            11           1             2             9              12  \n",
       "4             2           3             4             5              12  "
      ]
     },
     "execution_count": 14,
     "metadata": {},
     "output_type": "execute_result"
    }
   ],
   "source": [
    "data2.head()"
   ]
  },
  {
   "cell_type": "code",
   "execution_count": 15,
   "metadata": {},
   "outputs": [],
   "source": [
    "# visuals \n",
    "# PLOT A Graph showing which country had the highest medals "
   ]
  },
  {
   "cell_type": "code",
   "execution_count": 16,
   "metadata": {},
   "outputs": [
    {
     "data": {
      "text/plain": [
       "Index(['Country', 'Summer_gold', 'Summer_silver', 'Summer_bronze',\n",
       "       'Summer_total', 'Winter_gold', 'Winter_silver', 'Winter_bronze',\n",
       "       'Winter_total', 'Num_of_Games', 'total_gold', 'total_silver',\n",
       "       'total_bronze', 'Combined total'],\n",
       "      dtype='object')"
      ]
     },
     "execution_count": 16,
     "metadata": {},
     "output_type": "execute_result"
    }
   ],
   "source": [
    "data2.columns"
   ]
  },
  {
   "cell_type": "code",
   "execution_count": 17,
   "metadata": {},
   "outputs": [
    {
     "name": "stdout",
     "output_type": "stream",
     "text": [
      "<class 'pandas.core.frame.DataFrame'>\n",
      "RangeIndex: 147 entries, 0 to 146\n",
      "Data columns (total 14 columns):\n",
      " #   Column          Non-Null Count  Dtype \n",
      "---  ------          --------------  ----- \n",
      " 0   Country         147 non-null    object\n",
      " 1   Summer_gold     147 non-null    int64 \n",
      " 2   Summer_silver   147 non-null    int64 \n",
      " 3   Summer_bronze   147 non-null    int64 \n",
      " 4   Summer_total    147 non-null    int64 \n",
      " 5   Winter_gold     147 non-null    int64 \n",
      " 6   Winter_silver   147 non-null    int64 \n",
      " 7   Winter_bronze   147 non-null    int64 \n",
      " 8   Winter_total    147 non-null    int64 \n",
      " 9   Num_of_Games    147 non-null    int64 \n",
      " 10  total_gold      147 non-null    int64 \n",
      " 11  total_silver    147 non-null    int64 \n",
      " 12  total_bronze    147 non-null    int64 \n",
      " 13  Combined total  147 non-null    int64 \n",
      "dtypes: int64(13), object(1)\n",
      "memory usage: 16.2+ KB\n"
     ]
    }
   ],
   "source": [
    "data2.info()"
   ]
  },
  {
   "cell_type": "code",
   "execution_count": 18,
   "metadata": {},
   "outputs": [],
   "source": [
    "country = data2['Country'].head(5)\n",
    "gold = data2['total_gold'].head(5)"
   ]
  },
  {
   "cell_type": "code",
   "execution_count": 19,
   "metadata": {},
   "outputs": [],
   "source": [
    "data2.sort_values('Num_of_Games', ascending=False, inplace=True)"
   ]
  },
  {
   "cell_type": "code",
   "execution_count": 20,
   "metadata": {},
   "outputs": [
    {
     "data": {
      "text/plain": [
       "Country           Totals\n",
       "Summer_gold         4809\n",
       "Summer_silver       4775\n",
       "Summer_bronze       5130\n",
       "Summer_total       14714\n",
       "Winter_gold          959\n",
       "Winter_silver        958\n",
       "Winter_bronze        948\n",
       "Winter_total        2865\n",
       "Num_of_Games          49\n",
       "total_gold          5768\n",
       "total_silver        5733\n",
       "total_bronze        6078\n",
       "Combined total     17579\n",
       "Name: 146, dtype: object"
      ]
     },
     "execution_count": 20,
     "metadata": {},
     "output_type": "execute_result"
    }
   ],
   "source": [
    "#Totals row \n",
    "data2.loc[146]"
   ]
  },
  {
   "cell_type": "code",
   "execution_count": 21,
   "metadata": {},
   "outputs": [
    {
     "data": {
      "text/html": [
       "<div>\n",
       "<style scoped>\n",
       "    .dataframe tbody tr th:only-of-type {\n",
       "        vertical-align: middle;\n",
       "    }\n",
       "\n",
       "    .dataframe tbody tr th {\n",
       "        vertical-align: top;\n",
       "    }\n",
       "\n",
       "    .dataframe thead th {\n",
       "        text-align: right;\n",
       "    }\n",
       "</style>\n",
       "<table border=\"1\" class=\"dataframe\">\n",
       "  <thead>\n",
       "    <tr style=\"text-align: right;\">\n",
       "      <th></th>\n",
       "      <th>Country</th>\n",
       "      <th>Summer_gold</th>\n",
       "      <th>Summer_silver</th>\n",
       "      <th>Summer_bronze</th>\n",
       "      <th>Summer_total</th>\n",
       "      <th>Winter_gold</th>\n",
       "      <th>Winter_silver</th>\n",
       "      <th>Winter_bronze</th>\n",
       "      <th>Winter_total</th>\n",
       "      <th>Num_of_Games</th>\n",
       "      <th>total_gold</th>\n",
       "      <th>total_silver</th>\n",
       "      <th>total_bronze</th>\n",
       "      <th>Combined total</th>\n",
       "    </tr>\n",
       "  </thead>\n",
       "  <tbody>\n",
       "    <tr>\n",
       "      <th>146</th>\n",
       "      <td>Totals</td>\n",
       "      <td>4809</td>\n",
       "      <td>4775</td>\n",
       "      <td>5130</td>\n",
       "      <td>14714</td>\n",
       "      <td>959</td>\n",
       "      <td>958</td>\n",
       "      <td>948</td>\n",
       "      <td>2865</td>\n",
       "      <td>49</td>\n",
       "      <td>5768</td>\n",
       "      <td>5733</td>\n",
       "      <td>6078</td>\n",
       "      <td>17579</td>\n",
       "    </tr>\n",
       "    <tr>\n",
       "      <th>49</th>\n",
       "      <td>Great Britain (GBR) [GBR] [Z]</td>\n",
       "      <td>236</td>\n",
       "      <td>272</td>\n",
       "      <td>272</td>\n",
       "      <td>780</td>\n",
       "      <td>10</td>\n",
       "      <td>4</td>\n",
       "      <td>12</td>\n",
       "      <td>26</td>\n",
       "      <td>49</td>\n",
       "      <td>246</td>\n",
       "      <td>276</td>\n",
       "      <td>284</td>\n",
       "      <td>806</td>\n",
       "    </tr>\n",
       "    <tr>\n",
       "      <th>41</th>\n",
       "      <td>France (FRA) [O] [P] [Z]</td>\n",
       "      <td>202</td>\n",
       "      <td>223</td>\n",
       "      <td>246</td>\n",
       "      <td>671</td>\n",
       "      <td>31</td>\n",
       "      <td>31</td>\n",
       "      <td>47</td>\n",
       "      <td>109</td>\n",
       "      <td>49</td>\n",
       "      <td>233</td>\n",
       "      <td>254</td>\n",
       "      <td>293</td>\n",
       "      <td>780</td>\n",
       "    </tr>\n",
       "    <tr>\n",
       "      <th>121</th>\n",
       "      <td>Switzerland (SUI)</td>\n",
       "      <td>47</td>\n",
       "      <td>73</td>\n",
       "      <td>65</td>\n",
       "      <td>185</td>\n",
       "      <td>50</td>\n",
       "      <td>40</td>\n",
       "      <td>48</td>\n",
       "      <td>138</td>\n",
       "      <td>49</td>\n",
       "      <td>97</td>\n",
       "      <td>113</td>\n",
       "      <td>113</td>\n",
       "      <td>323</td>\n",
       "    </tr>\n",
       "    <tr>\n",
       "      <th>120</th>\n",
       "      <td>Sweden (SWE) [Z]</td>\n",
       "      <td>143</td>\n",
       "      <td>164</td>\n",
       "      <td>176</td>\n",
       "      <td>483</td>\n",
       "      <td>50</td>\n",
       "      <td>40</td>\n",
       "      <td>54</td>\n",
       "      <td>144</td>\n",
       "      <td>48</td>\n",
       "      <td>193</td>\n",
       "      <td>204</td>\n",
       "      <td>230</td>\n",
       "      <td>627</td>\n",
       "    </tr>\n",
       "  </tbody>\n",
       "</table>\n",
       "</div>"
      ],
      "text/plain": [
       "                           Country  Summer_gold  Summer_silver  Summer_bronze  \\\n",
       "146                         Totals         4809           4775           5130   \n",
       "49   Great Britain (GBR) [GBR] [Z]          236            272            272   \n",
       "41        France (FRA) [O] [P] [Z]          202            223            246   \n",
       "121              Switzerland (SUI)           47             73             65   \n",
       "120               Sweden (SWE) [Z]          143            164            176   \n",
       "\n",
       "     Summer_total  Winter_gold  Winter_silver  Winter_bronze  Winter_total  \\\n",
       "146         14714          959            958            948          2865   \n",
       "49            780           10              4             12            26   \n",
       "41            671           31             31             47           109   \n",
       "121           185           50             40             48           138   \n",
       "120           483           50             40             54           144   \n",
       "\n",
       "     Num_of_Games  total_gold  total_silver  total_bronze  Combined total  \n",
       "146            49        5768          5733          6078           17579  \n",
       "49             49         246           276           284             806  \n",
       "41             49         233           254           293             780  \n",
       "121            49          97           113           113             323  \n",
       "120            48         193           204           230             627  "
      ]
     },
     "execution_count": 21,
     "metadata": {},
     "output_type": "execute_result"
    }
   ],
   "source": [
    "data2.head()"
   ]
  },
  {
   "cell_type": "code",
   "execution_count": 22,
   "metadata": {},
   "outputs": [],
   "source": [
    "data2test = data2.copy()"
   ]
  },
  {
   "cell_type": "code",
   "execution_count": 23,
   "metadata": {},
   "outputs": [],
   "source": [
    "data3 = data2test.copy()"
   ]
  },
  {
   "cell_type": "markdown",
   "metadata": {},
   "source": [
    "## Using Regular expressions for string replace ops"
   ]
  },
  {
   "cell_type": "code",
   "execution_count": 24,
   "metadata": {},
   "outputs": [],
   "source": [
    "import re \n",
    "pattern = re.compile(r'[^A-Za-z0-9]+') # Here is a regex to match a string of characters that are not a letters or numbers:\n",
    "pattern2 = re.compile(r\"\\B[A-Z{3}]\") # Here the regex will match the 2nd occurence of a Capital Letter \n",
    "pattern3 = re.compile(r\"\\B[(A-Z){1}]+\")\n",
    "pattern4 = re.compile(r'<[(A-Z)[A-Z]]>')"
   ]
  },
  {
   "cell_type": "code",
   "execution_count": 25,
   "metadata": {},
   "outputs": [],
   "source": [
    "data3['Country'] = data3['Country'].str.replace('[', '(').str.replace(']', ')')\n",
    "data3['Country'] = data3['Country'].str.replace(pattern3, '')"
   ]
  },
  {
   "cell_type": "code",
   "execution_count": 26,
   "metadata": {},
   "outputs": [
    {
     "data": {
      "text/plain": [
       "146                                Totals\n",
       "49                       Great Britain   \n",
       "41                             France    \n",
       "121                          Switzerland \n",
       "120                              Sweden  \n",
       "                      ...                \n",
       "14                             Bohemia   \n",
       "4                           Australasia  \n",
       "107                        Unified Team  \n",
       "142    Independent Olympic Participants  \n",
       "17                  British West Indies  \n",
       "Name: Country, Length: 147, dtype: object"
      ]
     },
     "execution_count": 26,
     "metadata": {},
     "output_type": "execute_result"
    }
   ],
   "source": [
    "data3[\"Country\"]"
   ]
  },
  {
   "cell_type": "code",
   "execution_count": 202,
   "metadata": {},
   "outputs": [
    {
     "name": "stdout",
     "output_type": "stream",
     "text": [
      "['A', 'ASCII', 'DEBUG', 'DOTALL', 'I', 'IGNORECASE', 'L', 'LOCALE', 'M', 'MULTILINE', 'Match', 'Pattern', 'RegexFlag', 'S', 'Scanner', 'T', 'TEMPLATE', 'U', 'UNICODE', 'VERBOSE', 'X', '_MAXCACHE', '__all__', '__builtins__', '__cached__', '__doc__', '__file__', '__loader__', '__name__', '__package__', '__spec__', '__version__', '_cache', '_compile', '_compile_repl', '_expand', '_locale', '_pickle', '_special_chars_map', '_subx', 'compile', 'copyreg', 'enum', 'error', 'escape', 'findall', 'finditer', 'fullmatch', 'functools', 'match', 'purge', 'search', 'split', 'sre_compile', 'sre_parse', 'sub', 'subn', 'template']\n"
     ]
    }
   ],
   "source": [
    "print(dir(re))"
   ]
  },
  {
   "cell_type": "code",
   "execution_count": 27,
   "metadata": {},
   "outputs": [],
   "source": [
    "# data2['Country'] = data2['Country'].str.replace(pattern2, '')"
   ]
  },
  {
   "cell_type": "code",
   "execution_count": 28,
   "metadata": {},
   "outputs": [
    {
     "data": {
      "text/plain": [
       "146                                Totals\n",
       "49                       Great Britain   \n",
       "41                             France    \n",
       "121                          Switzerland \n",
       "120                              Sweden  \n",
       "                      ...                \n",
       "14                             Bohemia   \n",
       "4                           Australasia  \n",
       "107                        Unified Team  \n",
       "142    Independent Olympic Participants  \n",
       "17                  British West Indies  \n",
       "Name: Country, Length: 147, dtype: object"
      ]
     },
     "execution_count": 28,
     "metadata": {},
     "output_type": "execute_result"
    }
   ],
   "source": [
    "data3['Country']"
   ]
  },
  {
   "cell_type": "code",
   "execution_count": 29,
   "metadata": {},
   "outputs": [
    {
     "data": {
      "text/html": [
       "<div>\n",
       "<style scoped>\n",
       "    .dataframe tbody tr th:only-of-type {\n",
       "        vertical-align: middle;\n",
       "    }\n",
       "\n",
       "    .dataframe tbody tr th {\n",
       "        vertical-align: top;\n",
       "    }\n",
       "\n",
       "    .dataframe thead th {\n",
       "        text-align: right;\n",
       "    }\n",
       "</style>\n",
       "<table border=\"1\" class=\"dataframe\">\n",
       "  <thead>\n",
       "    <tr style=\"text-align: right;\">\n",
       "      <th></th>\n",
       "      <th>Country</th>\n",
       "      <th>Summer_gold</th>\n",
       "      <th>Summer_silver</th>\n",
       "      <th>Summer_bronze</th>\n",
       "      <th>Summer_total</th>\n",
       "      <th>Winter_gold</th>\n",
       "      <th>Winter_silver</th>\n",
       "      <th>Winter_bronze</th>\n",
       "      <th>Winter_total</th>\n",
       "      <th>Num_of_Games</th>\n",
       "      <th>total_gold</th>\n",
       "      <th>total_silver</th>\n",
       "      <th>total_bronze</th>\n",
       "      <th>Combined total</th>\n",
       "    </tr>\n",
       "  </thead>\n",
       "  <tbody>\n",
       "    <tr>\n",
       "      <th>146</th>\n",
       "      <td>Totals</td>\n",
       "      <td>4809</td>\n",
       "      <td>4775</td>\n",
       "      <td>5130</td>\n",
       "      <td>14714</td>\n",
       "      <td>959</td>\n",
       "      <td>958</td>\n",
       "      <td>948</td>\n",
       "      <td>2865</td>\n",
       "      <td>49</td>\n",
       "      <td>5768</td>\n",
       "      <td>5733</td>\n",
       "      <td>6078</td>\n",
       "      <td>17579</td>\n",
       "    </tr>\n",
       "    <tr>\n",
       "      <th>49</th>\n",
       "      <td>Great Britain</td>\n",
       "      <td>236</td>\n",
       "      <td>272</td>\n",
       "      <td>272</td>\n",
       "      <td>780</td>\n",
       "      <td>10</td>\n",
       "      <td>4</td>\n",
       "      <td>12</td>\n",
       "      <td>26</td>\n",
       "      <td>49</td>\n",
       "      <td>246</td>\n",
       "      <td>276</td>\n",
       "      <td>284</td>\n",
       "      <td>806</td>\n",
       "    </tr>\n",
       "    <tr>\n",
       "      <th>41</th>\n",
       "      <td>France</td>\n",
       "      <td>202</td>\n",
       "      <td>223</td>\n",
       "      <td>246</td>\n",
       "      <td>671</td>\n",
       "      <td>31</td>\n",
       "      <td>31</td>\n",
       "      <td>47</td>\n",
       "      <td>109</td>\n",
       "      <td>49</td>\n",
       "      <td>233</td>\n",
       "      <td>254</td>\n",
       "      <td>293</td>\n",
       "      <td>780</td>\n",
       "    </tr>\n",
       "    <tr>\n",
       "      <th>121</th>\n",
       "      <td>Switzerland</td>\n",
       "      <td>47</td>\n",
       "      <td>73</td>\n",
       "      <td>65</td>\n",
       "      <td>185</td>\n",
       "      <td>50</td>\n",
       "      <td>40</td>\n",
       "      <td>48</td>\n",
       "      <td>138</td>\n",
       "      <td>49</td>\n",
       "      <td>97</td>\n",
       "      <td>113</td>\n",
       "      <td>113</td>\n",
       "      <td>323</td>\n",
       "    </tr>\n",
       "    <tr>\n",
       "      <th>120</th>\n",
       "      <td>Sweden</td>\n",
       "      <td>143</td>\n",
       "      <td>164</td>\n",
       "      <td>176</td>\n",
       "      <td>483</td>\n",
       "      <td>50</td>\n",
       "      <td>40</td>\n",
       "      <td>54</td>\n",
       "      <td>144</td>\n",
       "      <td>48</td>\n",
       "      <td>193</td>\n",
       "      <td>204</td>\n",
       "      <td>230</td>\n",
       "      <td>627</td>\n",
       "    </tr>\n",
       "    <tr>\n",
       "      <th>...</th>\n",
       "      <td>...</td>\n",
       "      <td>...</td>\n",
       "      <td>...</td>\n",
       "      <td>...</td>\n",
       "      <td>...</td>\n",
       "      <td>...</td>\n",
       "      <td>...</td>\n",
       "      <td>...</td>\n",
       "      <td>...</td>\n",
       "      <td>...</td>\n",
       "      <td>...</td>\n",
       "      <td>...</td>\n",
       "      <td>...</td>\n",
       "      <td>...</td>\n",
       "    </tr>\n",
       "    <tr>\n",
       "      <th>14</th>\n",
       "      <td>Bohemia</td>\n",
       "      <td>0</td>\n",
       "      <td>1</td>\n",
       "      <td>3</td>\n",
       "      <td>4</td>\n",
       "      <td>0</td>\n",
       "      <td>0</td>\n",
       "      <td>0</td>\n",
       "      <td>0</td>\n",
       "      <td>3</td>\n",
       "      <td>0</td>\n",
       "      <td>1</td>\n",
       "      <td>3</td>\n",
       "      <td>4</td>\n",
       "    </tr>\n",
       "    <tr>\n",
       "      <th>4</th>\n",
       "      <td>Australasia</td>\n",
       "      <td>3</td>\n",
       "      <td>4</td>\n",
       "      <td>5</td>\n",
       "      <td>12</td>\n",
       "      <td>0</td>\n",
       "      <td>0</td>\n",
       "      <td>0</td>\n",
       "      <td>0</td>\n",
       "      <td>2</td>\n",
       "      <td>3</td>\n",
       "      <td>4</td>\n",
       "      <td>5</td>\n",
       "      <td>12</td>\n",
       "    </tr>\n",
       "    <tr>\n",
       "      <th>107</th>\n",
       "      <td>Unified Team</td>\n",
       "      <td>45</td>\n",
       "      <td>38</td>\n",
       "      <td>29</td>\n",
       "      <td>112</td>\n",
       "      <td>9</td>\n",
       "      <td>6</td>\n",
       "      <td>8</td>\n",
       "      <td>23</td>\n",
       "      <td>2</td>\n",
       "      <td>54</td>\n",
       "      <td>44</td>\n",
       "      <td>37</td>\n",
       "      <td>135</td>\n",
       "    </tr>\n",
       "    <tr>\n",
       "      <th>142</th>\n",
       "      <td>Independent Olympic Participants</td>\n",
       "      <td>0</td>\n",
       "      <td>1</td>\n",
       "      <td>2</td>\n",
       "      <td>3</td>\n",
       "      <td>0</td>\n",
       "      <td>0</td>\n",
       "      <td>0</td>\n",
       "      <td>0</td>\n",
       "      <td>1</td>\n",
       "      <td>0</td>\n",
       "      <td>1</td>\n",
       "      <td>2</td>\n",
       "      <td>3</td>\n",
       "    </tr>\n",
       "    <tr>\n",
       "      <th>17</th>\n",
       "      <td>British West Indies</td>\n",
       "      <td>0</td>\n",
       "      <td>0</td>\n",
       "      <td>2</td>\n",
       "      <td>2</td>\n",
       "      <td>0</td>\n",
       "      <td>0</td>\n",
       "      <td>0</td>\n",
       "      <td>0</td>\n",
       "      <td>1</td>\n",
       "      <td>0</td>\n",
       "      <td>0</td>\n",
       "      <td>2</td>\n",
       "      <td>2</td>\n",
       "    </tr>\n",
       "  </tbody>\n",
       "</table>\n",
       "<p>147 rows × 14 columns</p>\n",
       "</div>"
      ],
      "text/plain": [
       "                                Country  Summer_gold  Summer_silver  \\\n",
       "146                              Totals         4809           4775   \n",
       "49                     Great Britain             236            272   \n",
       "41                           France              202            223   \n",
       "121                        Switzerland            47             73   \n",
       "120                            Sweden            143            164   \n",
       "..                                  ...          ...            ...   \n",
       "14                           Bohemia               0              1   \n",
       "4                         Australasia              3              4   \n",
       "107                      Unified Team             45             38   \n",
       "142  Independent Olympic Participants              0              1   \n",
       "17                British West Indies              0              0   \n",
       "\n",
       "     Summer_bronze  Summer_total  Winter_gold  Winter_silver  Winter_bronze  \\\n",
       "146           5130         14714          959            958            948   \n",
       "49             272           780           10              4             12   \n",
       "41             246           671           31             31             47   \n",
       "121             65           185           50             40             48   \n",
       "120            176           483           50             40             54   \n",
       "..             ...           ...          ...            ...            ...   \n",
       "14               3             4            0              0              0   \n",
       "4                5            12            0              0              0   \n",
       "107             29           112            9              6              8   \n",
       "142              2             3            0              0              0   \n",
       "17               2             2            0              0              0   \n",
       "\n",
       "     Winter_total  Num_of_Games  total_gold  total_silver  total_bronze  \\\n",
       "146          2865            49        5768          5733          6078   \n",
       "49             26            49         246           276           284   \n",
       "41            109            49         233           254           293   \n",
       "121           138            49          97           113           113   \n",
       "120           144            48         193           204           230   \n",
       "..            ...           ...         ...           ...           ...   \n",
       "14              0             3           0             1             3   \n",
       "4               0             2           3             4             5   \n",
       "107            23             2          54            44            37   \n",
       "142             0             1           0             1             2   \n",
       "17              0             1           0             0             2   \n",
       "\n",
       "     Combined total  \n",
       "146           17579  \n",
       "49              806  \n",
       "41              780  \n",
       "121             323  \n",
       "120             627  \n",
       "..              ...  \n",
       "14                4  \n",
       "4                12  \n",
       "107             135  \n",
       "142               3  \n",
       "17                2  \n",
       "\n",
       "[147 rows x 14 columns]"
      ]
     },
     "execution_count": 29,
     "metadata": {},
     "output_type": "execute_result"
    }
   ],
   "source": [
    "data3"
   ]
  },
  {
   "cell_type": "code",
   "execution_count": 30,
   "metadata": {},
   "outputs": [],
   "source": [
    "# A combination of regex and string replacement is used to clean the Countries column  \n"
   ]
  },
  {
   "cell_type": "code",
   "execution_count": 32,
   "metadata": {},
   "outputs": [
    {
     "data": {
      "text/plain": [
       "Index(['Country', 'Summer_gold', 'Summer_silver', 'Summer_bronze',\n",
       "       'Summer_total', 'Winter_gold', 'Winter_silver', 'Winter_bronze',\n",
       "       'Winter_total', 'Num_of_Games', 'total_gold', 'total_silver',\n",
       "       'total_bronze', 'Combined total'],\n",
       "      dtype='object')"
      ]
     },
     "execution_count": 32,
     "metadata": {},
     "output_type": "execute_result"
    }
   ],
   "source": [
    "data3.columns"
   ]
  },
  {
   "cell_type": "code",
   "execution_count": 33,
   "metadata": {},
   "outputs": [],
   "source": [
    "# save the file \n",
    "data3.to_csv(\"datasets/olympics_data.csv\")"
   ]
  },
  {
   "cell_type": "code",
   "execution_count": 34,
   "metadata": {},
   "outputs": [],
   "source": [
    "data3.sort_values('Num_of_Games', ascending=False, inplace=True)"
   ]
  },
  {
   "cell_type": "code",
   "execution_count": 35,
   "metadata": {},
   "outputs": [],
   "source": [
    "country = data3['Country'].loc[49:]\n",
    "gold = data3['total_gold'].loc[49:]"
   ]
  },
  {
   "cell_type": "code",
   "execution_count": 36,
   "metadata": {},
   "outputs": [
    {
     "data": {
      "image/png": "[encoded data removed]",
      "text/plain": [
       "<Figure size 1440x432 with 1 Axes>"
      ]
     },
     "metadata": {
      "needs_background": "light"
     },
     "output_type": "display_data"
    }
   ],
   "source": [
    "fig, ax = plt.subplots(figsize=(20,6))\n",
    "ax.scatter(country, gold, label=True)\n",
    "plt.xticks(country, rotation='vertical')\n",
    "plt.subplots_adjust(bottom=0.15)\n",
    "plt.ylabel('Gold Medals')\n",
    "plt.show()"
   ]
  },
  {
   "cell_type": "code",
   "execution_count": null,
   "metadata": {},
   "outputs": [],
   "source": []
  },
  {
   "cell_type": "markdown",
   "metadata": {},
   "source": [
    "# Checking for duplicates "
   ]
  },
  {
   "cell_type": "code",
   "execution_count": 37,
   "metadata": {},
   "outputs": [],
   "source": [
    "# Usually duplicates can exist in our data \n",
    "# these may need to be removed \n",
    "# pandas has a method to check for duplicates \n",
    "# duplicated() and \n",
    "# droppind duplicates using the \n",
    "# drop_duplicates()"
   ]
  },
  {
   "cell_type": "code",
   "execution_count": 38,
   "metadata": {},
   "outputs": [],
   "source": [
    "#Series\n",
    "ambassadors = pd.Series([\n",
    "    'France',\n",
    "    'UK',\n",
    "    'UK',\n",
    "    'Italy',\n",
    "    'Germany',\n",
    "    'Germany',\n",
    "    'Germany',\n",
    "], index=[\n",
    "    'Gerad Araud',\n",
    "    'Kim Darroch',\n",
    "    'Peter Westmacott',\n",
    "    'Armando Varricho',\n",
    "    'Peter Witing',\n",
    "    'Peter Amoh',\n",
    "    'Klaus Bergie'\n",
    "])"
   ]
  },
  {
   "cell_type": "code",
   "execution_count": 39,
   "metadata": {},
   "outputs": [
    {
     "data": {
      "text/plain": [
       "Gerad Araud          France\n",
       "Kim Darroch              UK\n",
       "Peter Westmacott         UK\n",
       "Armando Varricho      Italy\n",
       "Peter Witing        Germany\n",
       "Peter Amoh          Germany\n",
       "Klaus Bergie        Germany\n",
       "dtype: object"
      ]
     },
     "execution_count": 39,
     "metadata": {},
     "output_type": "execute_result"
    }
   ],
   "source": [
    "ambassadors"
   ]
  },
  {
   "cell_type": "code",
   "execution_count": 40,
   "metadata": {},
   "outputs": [],
   "source": [
    "# duplicated() tells you which values are duplicates \n",
    "# drop_duplicates() just drops duplicates"
   ]
  },
  {
   "cell_type": "code",
   "execution_count": 42,
   "metadata": {},
   "outputs": [
    {
     "data": {
      "text/plain": [
       "Gerad Araud         False\n",
       "Kim Darroch         False\n",
       "Peter Westmacott     True\n",
       "Armando Varricho    False\n",
       "Peter Witing        False\n",
       "Peter Amoh           True\n",
       "Klaus Bergie         True\n",
       "dtype: bool"
      ]
     },
     "execution_count": 42,
     "metadata": {},
     "output_type": "execute_result"
    }
   ],
   "source": [
    "ambassadors.duplicated()\n",
    "# the method checks from top to bottom, \n",
    "# returns the 2nd occurence as a duplicate by default"
   ]
  },
  {
   "cell_type": "code",
   "execution_count": 44,
   "metadata": {},
   "outputs": [],
   "source": [
    "# alternatively, use the keep parameter to specify 'first' or 'last' occurence\n",
    "# use keep=False to mark all duplicates"
   ]
  },
  {
   "cell_type": "code",
   "execution_count": 45,
   "metadata": {},
   "outputs": [
    {
     "data": {
      "text/plain": [
       "Gerad Araud         False\n",
       "Kim Darroch          True\n",
       "Peter Westmacott    False\n",
       "Armando Varricho    False\n",
       "Peter Witing         True\n",
       "Peter Amoh           True\n",
       "Klaus Bergie        False\n",
       "dtype: bool"
      ]
     },
     "execution_count": 45,
     "metadata": {},
     "output_type": "execute_result"
    }
   ],
   "source": [
    "ambassadors.duplicated(keep=\"last\")"
   ]
  },
  {
   "cell_type": "code",
   "execution_count": 46,
   "metadata": {},
   "outputs": [
    {
     "data": {
      "text/plain": [
       "Gerad Araud         False\n",
       "Kim Darroch          True\n",
       "Peter Westmacott     True\n",
       "Armando Varricho    False\n",
       "Peter Witing         True\n",
       "Peter Amoh           True\n",
       "Klaus Bergie         True\n",
       "dtype: bool"
      ]
     },
     "execution_count": 46,
     "metadata": {},
     "output_type": "execute_result"
    }
   ],
   "source": [
    "ambassadors.duplicated(keep=False)"
   ]
  },
  {
   "cell_type": "code",
   "execution_count": 47,
   "metadata": {},
   "outputs": [
    {
     "data": {
      "text/plain": [
       "Gerad Araud          France\n",
       "Kim Darroch              UK\n",
       "Armando Varricho      Italy\n",
       "Peter Witing        Germany\n",
       "dtype: object"
      ]
     },
     "execution_count": 47,
     "metadata": {},
     "output_type": "execute_result"
    }
   ],
   "source": [
    "# drop duplicates keeps the first occurence by default\n",
    "ambassadors.drop_duplicates()"
   ]
  },
  {
   "cell_type": "code",
   "execution_count": 48,
   "metadata": {},
   "outputs": [
    {
     "data": {
      "text/plain": [
       "Gerad Araud          France\n",
       "Peter Westmacott         UK\n",
       "Armando Varricho      Italy\n",
       "Klaus Bergie        Germany\n",
       "dtype: object"
      ]
     },
     "execution_count": 48,
     "metadata": {},
     "output_type": "execute_result"
    }
   ],
   "source": [
    "ambassadors.drop_duplicates(keep=\"last\")"
   ]
  },
  {
   "cell_type": "code",
   "execution_count": 49,
   "metadata": {},
   "outputs": [
    {
     "data": {
      "text/plain": [
       "Gerad Araud         France\n",
       "Armando Varricho     Italy\n",
       "dtype: object"
      ]
     },
     "execution_count": 49,
     "metadata": {},
     "output_type": "execute_result"
    }
   ],
   "source": [
    "ambassadors.drop_duplicates(keep=False)"
   ]
  },
  {
   "cell_type": "markdown",
   "metadata": {},
   "source": [
    "# Duplicates in DataFrames"
   ]
  },
  {
   "cell_type": "code",
   "execution_count": 50,
   "metadata": {},
   "outputs": [],
   "source": [
    "players = pd.DataFrame({\n",
    "    'Name': [\n",
    "        'Christiano Ronaldo',\n",
    "        'Lionel Mercy',\n",
    "        'Thiago Silver',\n",
    "        'Lionel Mercy',\n",
    "        'Lukaku',\n",
    "        'Lionel Mercy'\n",
    "    ],\n",
    "    'Pos': [\n",
    "        'FW',\n",
    "        'FW',\n",
    "        'GK',\n",
    "        'FW',\n",
    "        'ST',\n",
    "        'ST'\n",
    "    ]\n",
    "})"
   ]
  },
  {
   "cell_type": "code",
   "execution_count": 57,
   "metadata": {},
   "outputs": [
    {
     "name": "stdout",
     "output_type": "stream",
     "text": [
      "                 Name Pos\n",
      "0  Christiano Ronaldo  FW\n",
      "1        Lionel Mercy  FW\n",
      "2       Thiago Silver  GK\n",
      "3        Lionel Mercy  FW\n",
      "4              Lukaku  ST\n",
      "5        Lionel Mercy  ST\n",
      "------------------------------\n",
      "0    False\n",
      "1    False\n",
      "2    False\n",
      "3     True\n",
      "4    False\n",
      "5    False\n",
      "dtype: bool\n",
      "------------------------------\n",
      "0    False\n",
      "1     True\n",
      "2    False\n",
      "3     True\n",
      "4    False\n",
      "5     True\n",
      "dtype: bool\n"
     ]
    }
   ],
   "source": [
    "# there are duplicates in both the names and positions columns \n",
    "# pandas can treat each column differently \n",
    "print(players)\n",
    "print('-'*30)\n",
    "print(players.duplicated())\n",
    "print('-'*30)\n",
    "print(players.duplicated(subset=[\"Pos\"]))"
   ]
  },
  {
   "cell_type": "code",
   "execution_count": 59,
   "metadata": {},
   "outputs": [
    {
     "name": "stdout",
     "output_type": "stream",
     "text": [
      "                 Name Pos\n",
      "0  Christiano Ronaldo  FW\n",
      "1        Lionel Mercy  FW\n",
      "2       Thiago Silver  GK\n",
      "3        Lionel Mercy  FW\n",
      "4              Lukaku  ST\n",
      "5        Lionel Mercy  ST\n",
      "------------------------------\n",
      "0     True\n",
      "1     True\n",
      "2    False\n",
      "3    False\n",
      "4     True\n",
      "5    False\n",
      "dtype: bool\n"
     ]
    }
   ],
   "source": [
    "print(players)\n",
    "print('-'*30)\n",
    "print(players.duplicated(subset=[\"Pos\"], keep=\"last\"))"
   ]
  },
  {
   "cell_type": "code",
   "execution_count": 65,
   "metadata": {},
   "outputs": [
    {
     "name": "stdout",
     "output_type": "stream",
     "text": [
      "                 Name Pos\n",
      "0  Christiano Ronaldo  FW\n",
      "1        Lionel Mercy  FW\n",
      "2       Thiago Silver  GK\n",
      "4              Lukaku  ST\n",
      "5        Lionel Mercy  ST\n",
      "----------------------------------------\n",
      "                 Name Pos\n",
      "0  Christiano Ronaldo  FW\n",
      "2       Thiago Silver  GK\n",
      "3        Lionel Mercy  FW\n",
      "4              Lukaku  ST\n",
      "5        Lionel Mercy  ST\n",
      "****************************************\n",
      "                 Name Pos\n",
      "0  Christiano Ronaldo  FW\n",
      "2       Thiago Silver  GK\n",
      "4              Lukaku  ST\n",
      "5        Lionel Mercy  ST\n"
     ]
    }
   ],
   "source": [
    "print(players.drop_duplicates())\n",
    "print('--'*20)\n",
    "print(players.drop_duplicates(keep=\"last\"))\n",
    "print('**'*20)\n",
    "print(players.drop_duplicates(subset=[\"Name\"], keep=\"last\"))"
   ]
  },
  {
   "cell_type": "code",
   "execution_count": null,
   "metadata": {},
   "outputs": [],
   "source": []
  }
 ],
 "metadata": {
  "kernelspec": {
   "display_name": "Python 3",
   "language": "python",
   "name": "python3"
  },
  "language_info": {
   "codemirror_mode": {
    "name": "ipython",
    "version": 3
   },
   "file_extension": ".py",
   "mimetype": "text/x-python",
   "name": "python",
   "nbconvert_exporter": "python",
   "pygments_lexer": "ipython3",
   "version": "3.8.5"
  }
 },
 "nbformat": 4,
 "nbformat_minor": 4
}
