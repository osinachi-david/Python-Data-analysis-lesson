{
 "cells": [
  {
   "cell_type": "code",
   "execution_count": 1,
   "metadata": {},
   "outputs": [
    {
     "data": {
      "text/plain": [
       "'C:\\\\Users\\\\Ogwumike\\\\Desktop\\\\Hiit\\\\Data Analysis\\\\Weekend_Excel\\\\python\\\\Intro'"
      ]
     },
     "execution_count": 1,
     "metadata": {},
     "output_type": "execute_result"
    }
   ],
   "source": [
    "pwd"
   ]
  },
  {
   "cell_type": "code",
   "execution_count": 2,
   "metadata": {},
   "outputs": [],
   "source": [
    "x = 5 \n",
    "z = 3"
   ]
  },
  {
   "cell_type": "code",
   "execution_count": 3,
   "metadata": {},
   "outputs": [],
   "source": [
    "y = 'John' #string "
   ]
  },
  {
   "cell_type": "code",
   "execution_count": 4,
   "metadata": {},
   "outputs": [],
   "source": [
    "#Indentation is used for code blocks \n",
    "\n",
    "def addNos():\n",
    "  return a + b"
   ]
  },
  {
   "cell_type": "code",
   "execution_count": 5,
   "metadata": {},
   "outputs": [],
   "source": [
    "#Sequence types \n",
    "\n",
    "#strings \"... \" or '...' \n",
    "#lists [... ] \n",
    "#Tuples ( ... ) "
   ]
  },
  {
   "cell_type": "code",
   "execution_count": 6,
   "metadata": {},
   "outputs": [
    {
     "name": "stdout",
     "output_type": "stream",
     "text": [
      "26\n",
      "Helloworld\n"
     ]
    }
   ],
   "source": [
    "# Code sammple \n",
    "\n",
    "x = 40 - 15 # comment \n",
    "y = \"Hello\" # a string \n",
    "z = 3.132\n",
    "\n",
    "if z == 3.142 or y == \"Hello\":\n",
    "    x = x + 1\n",
    "    y = y + \"world\"  # string concatenation \n",
    "print(x)\n",
    "print(y)"
   ]
  },
  {
   "cell_type": "code",
   "execution_count": 7,
   "metadata": {},
   "outputs": [
    {
     "name": "stdout",
     "output_type": "stream",
     "text": [
      "25\n",
      "Hello\n"
     ]
    }
   ],
   "source": [
    "x = 40 - 15 # comment \n",
    "y = \"Hello\" # a string \n",
    "z = 3.132\n",
    "\n",
    "if z == 3.142 and y == \"Hello\":\n",
    "    x = x + 1\n",
    "    y = y + \"world\"  # string concatenation \n",
    "print(x)\n",
    "print(y)"
   ]
  },
  {
   "cell_type": "code",
   "execution_count": 8,
   "metadata": {},
   "outputs": [
    {
     "name": "stdout",
     "output_type": "stream",
     "text": [
      "2\n"
     ]
    }
   ],
   "source": [
    "#integers : whole numbers \n",
    "z = 5 / 2 # regular division \n",
    "\n",
    "z = 5 // 2 # integer division \n",
    "print(z)"
   ]
  },
  {
   "cell_type": "code",
   "execution_count": 9,
   "metadata": {},
   "outputs": [
    {
     "name": "stdout",
     "output_type": "stream",
     "text": [
      "<class 'int'>\n",
      "<class 'int'>\n",
      "<class 'str'>\n"
     ]
    }
   ],
   "source": [
    "# basic type checking using 'type'\n",
    "\n",
    "print(type(z))\n",
    "print(type(x))\n",
    "print(type(y))"
   ]
  },
  {
   "cell_type": "code",
   "execution_count": 10,
   "metadata": {},
   "outputs": [
    {
     "name": "stdout",
     "output_type": "stream",
     "text": [
      "<class 'str'> <class 'str'> <class 'str'>\n"
     ]
    }
   ],
   "source": [
    "#Strings\n",
    "x = \"Hello\"\n",
    "y = 'John'\n",
    "z = \"James' brother\"\n",
    "long_string = \"\"\" This is a long string with \n",
    "                a lot of info\"\"\"\n",
    "\n",
    "print(type(x), type(y), type(z))"
   ]
  },
  {
   "cell_type": "code",
   "execution_count": 11,
   "metadata": {},
   "outputs": [
    {
     "name": "stdout",
     "output_type": "stream",
     "text": [
      "five is greater than two\n",
      "five is greater than two\n"
     ]
    }
   ],
   "source": [
    "if 5 > 2:\n",
    "    print(\"five is greater than two\")\n",
    "if 5 > 2:\n",
    "         print(\"five is greater than two\")"
   ]
  },
  {
   "cell_type": "code",
   "execution_count": 12,
   "metadata": {},
   "outputs": [
    {
     "ename": "IndentationError",
     "evalue": "unexpected indent (<ipython-input-12-3ac6686fc111>, line 3)",
     "output_type": "error",
     "traceback": [
      "\u001b[1;36m  File \u001b[1;32m\"<ipython-input-12-3ac6686fc111>\"\u001b[1;36m, line \u001b[1;32m3\u001b[0m\n\u001b[1;33m    print(\"five is greater than two\")\u001b[0m\n\u001b[1;37m    ^\u001b[0m\n\u001b[1;31mIndentationError\u001b[0m\u001b[1;31m:\u001b[0m unexpected indent\n"
     ]
    }
   ],
   "source": [
    "if 5 > 2:\n",
    "    print(\"five is greater than two\")\n",
    "          print(\"five is greater than two\")"
   ]
  },
  {
   "cell_type": "code",
   "execution_count": null,
   "metadata": {},
   "outputs": [],
   "source": [
    "# use this keyword, 'input' to get input from users \n",
    "\n",
    "username = input(\"Enter username:\")\n",
    "print(\"You entered = \" + username)"
   ]
  },
  {
   "cell_type": "code",
   "execution_count": null,
   "metadata": {},
   "outputs": [],
   "source": [
    "username? #gives extra info about variables "
   ]
  },
  {
   "cell_type": "code",
   "execution_count": null,
   "metadata": {},
   "outputs": [],
   "source": [
    "#12ny_name = \"Jonathan\"\n",
    "\n",
    "my_name = \"Jonathan\"\n",
    "# age, Age, AGE are all different ariable names "
   ]
  },
  {
   "cell_type": "code",
   "execution_count": null,
   "metadata": {},
   "outputs": [],
   "source": [
    "age = 50\n",
    "print(Age)"
   ]
  },
  {
   "cell_type": "code",
   "execution_count": null,
   "metadata": {},
   "outputs": [],
   "source": [
    "#Global variables and Local variables \n",
    "\n",
    "def myFunc():\n",
    "    x = \"Jonathan\"  # local variable \n",
    "    print(\"Welcome \" + x)\n",
    "    print(x)\n",
    "    \n",
    "print(x) # x as Jonathan doesn't exist in the Global scope \n",
    "myFunc()"
   ]
  },
  {
   "cell_type": "code",
   "execution_count": null,
   "metadata": {},
   "outputs": [],
   "source": [
    "y = \"awesome\" # global variable \n",
    "\n",
    "def myFunc2():\n",
    "    global y  # forces the variable to become global even though\n",
    "             #it is within the function scope \n",
    "    y = \"lame\"\n",
    "    print(\"Python is \" + y)\n",
    "\n",
    "myFunc2()\n",
    "print(y)"
   ]
  },
  {
   "cell_type": "code",
   "execution_count": null,
   "metadata": {},
   "outputs": [],
   "source": [
    "myFunc2?"
   ]
  },
  {
   "cell_type": "code",
   "execution_count": null,
   "metadata": {},
   "outputs": [],
   "source": [
    "def addNos(a,b):\n",
    "    \"\"\"\n",
    "    This function adds two nos together \n",
    "    \"\"\"\n",
    "    return a + b"
   ]
  },
  {
   "cell_type": "code",
   "execution_count": null,
   "metadata": {},
   "outputs": [],
   "source": [
    "addNos?"
   ]
  },
  {
   "cell_type": "code",
   "execution_count": null,
   "metadata": {},
   "outputs": [],
   "source": [
    "a = \"John\"\n",
    "a.upper()\n",
    "a.lower()\n",
    "\n",
    "b = 40\n"
   ]
  },
  {
   "cell_type": "code",
   "execution_count": null,
   "metadata": {},
   "outputs": [],
   "source": [
    "getattr(a, 'split')"
   ]
  },
  {
   "cell_type": "code",
   "execution_count": null,
   "metadata": {},
   "outputs": [],
   "source": [
    "#Imports \n",
    "# A module is a file with the .py \n",
    "# extension containing python code \n",
    "\n",
    "import some_functions"
   ]
  },
  {
   "cell_type": "code",
   "execution_count": null,
   "metadata": {},
   "outputs": [],
   "source": [
    "result = some_functions.f(5) \n",
    "# f is a function from the imported module "
   ]
  },
  {
   "cell_type": "code",
   "execution_count": null,
   "metadata": {},
   "outputs": [],
   "source": [
    "print(result)"
   ]
  },
  {
   "cell_type": "code",
   "execution_count": null,
   "metadata": {},
   "outputs": [],
   "source": [
    "# PI is a variable from the imported module\n",
    "pi = some_functions.PI\n",
    "\n",
    "print(pi)"
   ]
  },
  {
   "cell_type": "code",
   "execution_count": null,
   "metadata": {},
   "outputs": [],
   "source": [
    "import some_functions as sm "
   ]
  },
  {
   "cell_type": "code",
   "execution_count": null,
   "metadata": {},
   "outputs": [],
   "source": [
    "addNos = sm.g(5,6)\n",
    "\n",
    "print(addNos)"
   ]
  },
  {
   "cell_type": "code",
   "execution_count": null,
   "metadata": {},
   "outputs": [],
   "source": [
    "#Practise \n",
    "\n",
    "#1. Write a function to calculate the area of a triangle \n",
    "    #( 1/2 * base * height)\n",
    "#2. Write a function to convert farenheit to celcius degrees \n",
    "    #( 5/9 * Farenheit - 32)"
   ]
  },
  {
   "cell_type": "code",
   "execution_count": 13,
   "metadata": {},
   "outputs": [],
   "source": [
    "#Q1\n",
    "def areaOfTriangle(base, height):\n",
    "    return (1/2 * base * height)\n",
    "    "
   ]
  },
  {
   "cell_type": "code",
   "execution_count": 14,
   "metadata": {},
   "outputs": [
    {
     "name": "stdout",
     "output_type": "stream",
     "text": [
      "75.0\n"
     ]
    }
   ],
   "source": [
    "print(areaOfTriangle(10, 15))"
   ]
  },
  {
   "cell_type": "code",
   "execution_count": 15,
   "metadata": {},
   "outputs": [],
   "source": [
    "def temp(f):\n",
    "    return ( 5/9 * (f -32))"
   ]
  },
  {
   "cell_type": "code",
   "execution_count": 16,
   "metadata": {},
   "outputs": [
    {
     "name": "stdout",
     "output_type": "stream",
     "text": [
      "37.77777777777778\n"
     ]
    }
   ],
   "source": [
    "print(temp(100))"
   ]
  },
  {
   "cell_type": "code",
   "execution_count": 17,
   "metadata": {},
   "outputs": [
    {
     "name": "stdout",
     "output_type": "stream",
     "text": [
      "X equals something else\n"
     ]
    }
   ],
   "source": [
    "# If statements\n",
    "x = 5\n",
    "\n",
    "if x == 3:\n",
    "    print(\"X equals 3\")\n",
    "elif x == 2:\n",
    "    print(\"X equals 2\")\n",
    "else:\n",
    "    print(\"X equals something else\")"
   ]
  },
  {
   "cell_type": "code",
   "execution_count": 18,
   "metadata": {},
   "outputs": [
    {
     "name": "stdout",
     "output_type": "stream",
     "text": [
      "3  still in the loop\n",
      "4  still in the loop\n"
     ]
    }
   ],
   "source": [
    "# loops \n",
    "#while loop\n",
    "\n",
    "x = 3\n",
    "\n",
    "while x < 5:\n",
    "    print(x, \" still in the loop\")\n",
    "    x = x + 1"
   ]
  },
  {
   "cell_type": "code",
   "execution_count": 19,
   "metadata": {},
   "outputs": [
    {
     "name": "stdout",
     "output_type": "stream",
     "text": [
      "20 loop is running\n"
     ]
    }
   ],
   "source": [
    "# break and continue keywords are used with loops \n",
    "\n",
    "x = 20\n",
    "\n",
    "total = 0\n",
    "\n",
    "while x > 0:\n",
    "    print(x, \"loop is running\")\n",
    "    if total < 10:\n",
    "        break\n",
    "    total += x\n",
    "    x = x + 1\n",
    "\n",
    "\n",
    "\n",
    "\n"
   ]
  },
  {
   "cell_type": "code",
   "execution_count": 20,
   "metadata": {},
   "outputs": [
    {
     "name": "stdout",
     "output_type": "stream",
     "text": [
      "6\n"
     ]
    }
   ],
   "source": [
    "# For loop\n",
    "\n",
    "seq = [1,2,3, None, 4, None, 5]\n",
    "total = 0\n",
    "\n",
    "for val in seq:\n",
    "    if val is None:\n",
    "        break\n",
    "    total += val\n",
    "print(total)"
   ]
  },
  {
   "cell_type": "code",
   "execution_count": 21,
   "metadata": {},
   "outputs": [],
   "source": [
    "#Primitive Data Types \n",
    "#Strings \n",
    "x = \"John\"\n",
    "\n",
    "#Numbers \n",
    "#Integer\n",
    "y = 12\n",
    "\n",
    "#float\n",
    "z = 3.142\n",
    "\n",
    "#boolean\n",
    "# True or false \n"
   ]
  },
  {
   "cell_type": "code",
   "execution_count": 27,
   "metadata": {},
   "outputs": [],
   "source": [
    "#Collection Types \n",
    "\n",
    "#Lists \n",
    "#can hold anythin but is mutable \n",
    "name = [\"john\", \"jonathan\", \"kemi\", \"prince\", \"victor\", x, y,z]\n",
    "\n",
    "#Tuples\n",
    "#can hold anything but is immutable \n",
    "className = (\"data analysis\", \"hiit\", 2021)\n",
    "\n",
    "#Dictionaries (dict)\n",
    "#stores a mapping between a set of keys and a set of values \n",
    "\n",
    "person = {\"fname\":\"John\", \"lname\": \"Doe\", \"age\": 25}\n",
    "\n",
    "#Sets\n",
    "#unordered and unindexed \n",
    "fruits = {\"apple\", \"banana\", \"grape\"}\n",
    "\n"
   ]
  },
  {
   "cell_type": "code",
   "execution_count": 24,
   "metadata": {},
   "outputs": [
    {
     "data": {
      "text/plain": [
       "['john', 'jonathan', 'kemi', 'prince', 'victor', 'John', 12, 3.142]"
      ]
     },
     "execution_count": 24,
     "metadata": {},
     "output_type": "execute_result"
    }
   ],
   "source": [
    "name"
   ]
  },
  {
   "cell_type": "code",
   "execution_count": 26,
   "metadata": {},
   "outputs": [
    {
     "data": {
      "text/plain": [
       "('data analysis', 'hiit', 2021)"
      ]
     },
     "execution_count": 26,
     "metadata": {},
     "output_type": "execute_result"
    }
   ],
   "source": [
    "className"
   ]
  },
  {
   "cell_type": "code",
   "execution_count": 28,
   "metadata": {},
   "outputs": [
    {
     "data": {
      "text/plain": [
       "{'fname': 'John', 'lname': 'Doe', 'age': 25}"
      ]
     },
     "execution_count": 28,
     "metadata": {},
     "output_type": "execute_result"
    }
   ],
   "source": [
    "person"
   ]
  },
  {
   "cell_type": "code",
   "execution_count": 29,
   "metadata": {},
   "outputs": [
    {
     "data": {
      "text/plain": [
       "'Hello World'"
      ]
     },
     "execution_count": 29,
     "metadata": {},
     "output_type": "execute_result"
    }
   ],
   "source": [
    "hello = \"Hello World\"\n",
    "hello"
   ]
  },
  {
   "cell_type": "code",
   "execution_count": 30,
   "metadata": {},
   "outputs": [
    {
     "name": "stdout",
     "output_type": "stream",
     "text": [
      "11\n"
     ]
    }
   ],
   "source": [
    "#string methods \n",
    "\n",
    "#String length\n",
    "#use the len() function\n",
    "\n",
    "print(len(hello))"
   ]
  },
  {
   "cell_type": "code",
   "execution_count": 32,
   "metadata": {},
   "outputs": [
    {
     "name": "stdout",
     "output_type": "stream",
     "text": [
      "ello\n"
     ]
    }
   ],
   "source": [
    "print(hello[1:5])"
   ]
  },
  {
   "cell_type": "code",
   "execution_count": 33,
   "metadata": {},
   "outputs": [
    {
     "name": "stdout",
     "output_type": "stream",
     "text": [
      "ello Wo\n"
     ]
    }
   ],
   "source": [
    "print(hello[1:8])"
   ]
  },
  {
   "cell_type": "code",
   "execution_count": 35,
   "metadata": {},
   "outputs": [
    {
     "name": "stdout",
     "output_type": "stream",
     "text": [
      " Python is fun!  \n",
      "Python is fun!\n"
     ]
    }
   ],
   "source": [
    "#strip() method removs any whitespace from the beginning or the end\n",
    "\n",
    "a = \" Python is fun!  \"\n",
    "\n",
    "print(a)\n",
    "print(a.strip())\n",
    "\n"
   ]
  },
  {
   "cell_type": "code",
   "execution_count": 38,
   "metadata": {},
   "outputs": [
    {
     "name": "stdout",
     "output_type": "stream",
     "text": [
      " python is fun!  \n",
      " PYTHON IS FUN!  \n",
      "Python is fun!\n"
     ]
    }
   ],
   "source": [
    "#lower() and upper(), capitalize() methods \n",
    "#converts the sring to either lowercase or uppercase \n",
    "\n",
    "print(a.lower())\n",
    "print(a.upper())\n",
    "print(a.strip().capitalize()) #chaining methods "
   ]
  },
  {
   "cell_type": "code",
   "execution_count": 40,
   "metadata": {},
   "outputs": [
    {
     "name": "stdout",
     "output_type": "stream",
     "text": [
      "Yello World\n"
     ]
    }
   ],
   "source": [
    "#replace() method replaces a string with another string \n",
    "hello \n",
    "\n",
    "print(hello.replace(\"H\", \"Y\"))"
   ]
  },
  {
   "cell_type": "code",
   "execution_count": 42,
   "metadata": {},
   "outputs": [
    {
     "name": "stdout",
     "output_type": "stream",
     "text": [
      "['Hello', 'World']\n"
     ]
    }
   ],
   "source": [
    "#split() method. Splits the string into sub strings \n",
    "hello\n",
    "print(hello.split(\" \"))"
   ]
  },
  {
   "cell_type": "code",
   "execution_count": 46,
   "metadata": {},
   "outputs": [
    {
     "name": "stdout",
     "output_type": "stream",
     "text": [
      "False\n",
      "True\n",
      "True\n"
     ]
    }
   ],
   "source": [
    "#Check String \n",
    "#check if a certain character or phrase is \n",
    "#present in a string\n",
    "\n",
    "txt = \"Welcome to data analysis using python!\"\n",
    "\n",
    "#do I have the word 'mat' in the string above ?\n",
    "\n",
    "ispresent = \"mat\" in txt\n",
    "\n",
    "ispresent2 = \"dat\" in txt\n",
    "\n",
    "ispresent3 = \"excel\" not in txt\n",
    "\n",
    "print(ispresent)\n",
    "print(ispresent2)\n",
    "print(ispresent3)"
   ]
  },
  {
   "cell_type": "code",
   "execution_count": 47,
   "metadata": {},
   "outputs": [],
   "source": [
    "#Exercise \n",
    "#1 Create a sentence using 3 different variables,\n",
    "# name, address, job \n",
    "\n",
    "#2 Seperate the following words into syllables \n",
    "\n",
    "#a. \"Cascade\" #b. \"Originality\" #c. \"vis-a-vis\"\n",
    "\n",
    "#use any seperator of your choice \n"
   ]
  },
  {
   "cell_type": "code",
   "execution_count": 50,
   "metadata": {},
   "outputs": [
    {
     "name": "stdout",
     "output_type": "stream",
     "text": [
      "Jonathan, 27 Awolowo Way, Ikeja Instructor\n"
     ]
    }
   ],
   "source": [
    "#Solution\n",
    "#Q1.\n",
    "name = \"Jonathan\"\n",
    "address = \"27 Awolowo Way, Ikeja\"\n",
    "job = \"Instructor\"\n",
    "\n",
    "sentence = name + \", \"+ address + \" \"+  job\n",
    "\n",
    "print(sentence)"
   ]
  },
  {
   "cell_type": "code",
   "execution_count": 53,
   "metadata": {},
   "outputs": [
    {
     "name": "stdout",
     "output_type": "stream",
     "text": [
      "Cas cade\n"
     ]
    }
   ],
   "source": [
    "#Solution\n",
    "#Q2\n",
    "\n",
    "x = \"Cascade\"\n",
    "\n",
    "print(x[0:3], x[3:])"
   ]
  },
  {
   "cell_type": "code",
   "execution_count": 54,
   "metadata": {},
   "outputs": [
    {
     "ename": "TypeError",
     "evalue": "can only concatenate str (not \"int\") to str",
     "output_type": "error",
     "traceback": [
      "\u001b[1;31m---------------------------------------------------------------------------\u001b[0m",
      "\u001b[1;31mTypeError\u001b[0m                                 Traceback (most recent call last)",
      "\u001b[1;32m<ipython-input-54-414e4e275404>\u001b[0m in \u001b[0;36m<module>\u001b[1;34m\u001b[0m\n\u001b[0;32m      2\u001b[0m \u001b[1;31m#problem\u001b[0m\u001b[1;33m\u001b[0m\u001b[1;33m\u001b[0m\u001b[1;33m\u001b[0m\u001b[0m\n\u001b[0;32m      3\u001b[0m \u001b[0mage\u001b[0m \u001b[1;33m=\u001b[0m \u001b[1;36m35\u001b[0m\u001b[1;33m\u001b[0m\u001b[1;33m\u001b[0m\u001b[0m\n\u001b[1;32m----> 4\u001b[1;33m \u001b[0mtxt\u001b[0m \u001b[1;33m=\u001b[0m \u001b[1;34m\"My name is John, I am \"\u001b[0m \u001b[1;33m+\u001b[0m \u001b[0mage\u001b[0m\u001b[1;33m\u001b[0m\u001b[1;33m\u001b[0m\u001b[0m\n\u001b[0m\u001b[0;32m      5\u001b[0m \u001b[1;33m\u001b[0m\u001b[0m\n\u001b[0;32m      6\u001b[0m \u001b[0mprint\u001b[0m\u001b[1;33m(\u001b[0m\u001b[0mtxt\u001b[0m\u001b[1;33m)\u001b[0m\u001b[1;33m\u001b[0m\u001b[1;33m\u001b[0m\u001b[0m\n",
      "\u001b[1;31mTypeError\u001b[0m: can only concatenate str (not \"int\") to str"
     ]
    }
   ],
   "source": [
    "#String Format \n",
    "#problem\n",
    "age = 35\n",
    "txt = \"My name is John, I am \" + age\n",
    "\n",
    "print(txt)"
   ]
  },
  {
   "cell_type": "code",
   "execution_count": 55,
   "metadata": {},
   "outputs": [
    {
     "name": "stdout",
     "output_type": "stream",
     "text": [
      "My name is John, I am 35\n"
     ]
    }
   ],
   "source": [
    "#string format \n",
    "#we can combine strings and numbers using the \n",
    "#format() method \n",
    "\n",
    "age = 35\n",
    "txt = \"My name is John, I am {}\" \n",
    "\n",
    "print(txt.format(age)) #format will take unlimited no of args "
   ]
  },
  {
   "cell_type": "code",
   "execution_count": 56,
   "metadata": {},
   "outputs": [
    {
     "name": "stdout",
     "output_type": "stream",
     "text": [
      "I want 3 pieces of item 101 for 1500 naira\n"
     ]
    }
   ],
   "source": [
    "#string format \n",
    "#example 2\n",
    "quantity = 3\n",
    "itemNo = 101\n",
    "price = 1500\n",
    "\n",
    "myorder = \"I want {} pieces of item {} for {} naira\"\n",
    "\n",
    "print(myorder.format(quantity, itemNo, price))"
   ]
  },
  {
   "cell_type": "code",
   "execution_count": 58,
   "metadata": {},
   "outputs": [
    {
     "name": "stdout",
     "output_type": "stream",
     "text": [
      "I want to pay 1500 naira for 3 pieces of item 101\n"
     ]
    }
   ],
   "source": [
    "#specify where you want the variables to be placed \n",
    "#by using index no {0}\n",
    "\n",
    "quantity = 3\n",
    "itemNo = 101\n",
    "price = 1500\n",
    "\n",
    "myorder = \"I want to pay {2} naira for {0} pieces of item {1}\"\n",
    "\n",
    "#format(index_0,index_1, index_2)\n",
    "print(myorder.format(quantity, itemNo, price))"
   ]
  },
  {
   "cell_type": "code",
   "execution_count": 59,
   "metadata": {},
   "outputs": [],
   "source": [
    "#Numbers \n",
    "#int \n",
    "#float\n",
    "#complex\n",
    "\n",
    "#examples \n",
    "x = 1 #int\n",
    "y = 2.3 #float\n",
    "z = 5j #complex"
   ]
  },
  {
   "cell_type": "code",
   "execution_count": 62,
   "metadata": {},
   "outputs": [
    {
     "name": "stdout",
     "output_type": "stream",
     "text": [
      "<class 'int'>\n",
      "<class 'float'>\n",
      "<class 'complex'>\n"
     ]
    }
   ],
   "source": [
    "print(type(x))\n",
    "print(type(y))\n",
    "print(type(z))"
   ]
  },
  {
   "cell_type": "code",
   "execution_count": 65,
   "metadata": {},
   "outputs": [],
   "source": [
    "#int\n",
    "x = 1233485963223\n",
    "y = -3456\n",
    "\n",
    "#float\n",
    "q = 1.10\n",
    "a = 2.0\n",
    "w = -23.456\n",
    "\n"
   ]
  },
  {
   "cell_type": "code",
   "execution_count": 66,
   "metadata": {},
   "outputs": [
    {
     "name": "stdout",
     "output_type": "stream",
     "text": [
      "-23 <class 'int'>\n"
     ]
    }
   ],
   "source": [
    "#type conversion \n",
    "#float to integer\n",
    "n = int(w)\n",
    "print(n, type(n))"
   ]
  },
  {
   "cell_type": "code",
   "execution_count": 67,
   "metadata": {},
   "outputs": [],
   "source": [
    "import some_functions"
   ]
  },
  {
   "cell_type": "code",
   "execution_count": 68,
   "metadata": {},
   "outputs": [
    {
     "data": {
      "text/plain": [
       "3.142"
      ]
     },
     "execution_count": 68,
     "metadata": {},
     "output_type": "execute_result"
    }
   ],
   "source": [
    "some_functions.PI"
   ]
  },
  {
   "cell_type": "code",
   "execution_count": 69,
   "metadata": {},
   "outputs": [],
   "source": [
    "#Built In Modules \n",
    "# random is a built in module\n",
    "\n",
    "import random"
   ]
  },
  {
   "cell_type": "code",
   "execution_count": 73,
   "metadata": {},
   "outputs": [
    {
     "name": "stdout",
     "output_type": "stream",
     "text": [
      "1\n"
     ]
    }
   ],
   "source": [
    "randomNumber = random.randrange(0,10)\n",
    "\n",
    "print(randomNumber)"
   ]
  },
  {
   "cell_type": "code",
   "execution_count": 78,
   "metadata": {},
   "outputs": [
    {
     "data": {
      "text/plain": [
       "['abcd', 25, 80, 2.34]"
      ]
     },
     "execution_count": 78,
     "metadata": {},
     "output_type": "execute_result"
    }
   ],
   "source": [
    "#LISTS : Mutable \n",
    "li = [\"abcd\", 25, 45, 2.34]\n",
    "\n",
    "li[1]\n",
    "\n",
    "li\n",
    "\n",
    "li[2] = 80 # we can change values in the list\n",
    "\n",
    "li"
   ]
  },
  {
   "cell_type": "code",
   "execution_count": 81,
   "metadata": {},
   "outputs": [
    {
     "ename": "TypeError",
     "evalue": "'tuple' object does not support item assignment",
     "output_type": "error",
     "traceback": [
      "\u001b[1;31m---------------------------------------------------------------------------\u001b[0m",
      "\u001b[1;31mTypeError\u001b[0m                                 Traceback (most recent call last)",
      "\u001b[1;32m<ipython-input-81-fd5b96fb1263>\u001b[0m in \u001b[0;36m<module>\u001b[1;34m\u001b[0m\n\u001b[0;32m      7\u001b[0m \u001b[0mt\u001b[0m\u001b[1;33m[\u001b[0m\u001b[1;36m2\u001b[0m\u001b[1;33m]\u001b[0m\u001b[1;33m\u001b[0m\u001b[1;33m\u001b[0m\u001b[0m\n\u001b[0;32m      8\u001b[0m \u001b[1;33m\u001b[0m\u001b[0m\n\u001b[1;32m----> 9\u001b[1;33m \u001b[0mt\u001b[0m\u001b[1;33m[\u001b[0m\u001b[1;36m3\u001b[0m\u001b[1;33m]\u001b[0m \u001b[1;33m=\u001b[0m \u001b[1;36m2.5\u001b[0m\u001b[1;33m\u001b[0m\u001b[1;33m\u001b[0m\u001b[0m\n\u001b[0m",
      "\u001b[1;31mTypeError\u001b[0m: 'tuple' object does not support item assignment"
     ]
    }
   ],
   "source": [
    "#TUPLE : Immutable \n",
    "\n",
    "t = (24, \"xyz\", 3.142, 43, 75)\n",
    "\n",
    "t\n",
    "\n",
    "t[2]\n",
    "\n",
    "t[3] = 2.5"
   ]
  },
  {
   "cell_type": "code",
   "execution_count": 82,
   "metadata": {},
   "outputs": [],
   "source": [
    "t = (23, 45, \"abc\")"
   ]
  },
  {
   "cell_type": "code",
   "execution_count": 96,
   "metadata": {},
   "outputs": [
    {
     "data": {
      "text/plain": [
       "['apple', 'grape', 'orange', 'lime', 'pawpaw']"
      ]
     },
     "execution_count": 96,
     "metadata": {},
     "output_type": "execute_result"
    }
   ],
   "source": [
    "# LIST METHODS \n",
    "\n",
    "#append \n",
    "thislist_empty = []\n",
    "\n",
    "thislist_empty\n",
    "\n",
    "thislist = [\"apple\", \"grape\", \"orange\", \"lime\"]\n",
    "\n",
    "thislist\n",
    "\n",
    "thislist.append(\"pawpaw\")\n",
    "\n",
    "thislist"
   ]
  },
  {
   "cell_type": "code",
   "execution_count": 87,
   "metadata": {},
   "outputs": [
    {
     "name": "stdout",
     "output_type": "stream",
     "text": [
      "pawpaw\n"
     ]
    }
   ],
   "source": [
    "print(thislist[-1]) #prints the last value "
   ]
  },
  {
   "cell_type": "code",
   "execution_count": 89,
   "metadata": {},
   "outputs": [
    {
     "name": "stdout",
     "output_type": "stream",
     "text": [
      "No!\n"
     ]
    }
   ],
   "source": [
    "#check if an item exists in a list \n",
    "\n",
    "if \"45\" in thislist:\n",
    "    print(\"Yes!\")\n",
    "else:\n",
    "    print(\"No!\")"
   ]
  },
  {
   "cell_type": "code",
   "execution_count": 90,
   "metadata": {},
   "outputs": [
    {
     "data": {
      "text/plain": [
       "['apple', 'grape', 'orange', 'lime', 'pawpaw']"
      ]
     },
     "execution_count": 90,
     "metadata": {},
     "output_type": "execute_result"
    }
   ],
   "source": [
    "thislist"
   ]
  },
  {
   "cell_type": "code",
   "execution_count": 91,
   "metadata": {},
   "outputs": [
    {
     "data": {
      "text/plain": [
       "['apple', 'grape', 'lemon', 'orange', 'lime', 'pawpaw']"
      ]
     },
     "execution_count": 91,
     "metadata": {},
     "output_type": "execute_result"
    }
   ],
   "source": [
    "thislist.insert(2, \"lemon\")\n",
    "\n",
    "thislist"
   ]
  },
  {
   "cell_type": "code",
   "execution_count": 92,
   "metadata": {},
   "outputs": [
    {
     "data": {
      "text/plain": [
       "['apple', 'grape', 'lemon', 'orange', 'pawpaw']"
      ]
     },
     "execution_count": 92,
     "metadata": {},
     "output_type": "execute_result"
    }
   ],
   "source": [
    "#remove items a list use: del, remove, pop, clear()\n",
    "\n",
    "#remove\n",
    "thislist.remove(\"lime\")\n",
    "\n",
    "thislist"
   ]
  },
  {
   "cell_type": "code",
   "execution_count": 93,
   "metadata": {},
   "outputs": [
    {
     "data": {
      "text/plain": [
       "['apple', 'grape', 'lemon', 'orange']"
      ]
     },
     "execution_count": 93,
     "metadata": {},
     "output_type": "execute_result"
    }
   ],
   "source": [
    "#pop: removes the last value in a list \n",
    "\n",
    "thislist.pop()\n",
    "\n",
    "thislist"
   ]
  },
  {
   "cell_type": "code",
   "execution_count": 94,
   "metadata": {},
   "outputs": [
    {
     "data": {
      "text/plain": [
       "['grape', 'lemon', 'orange']"
      ]
     },
     "execution_count": 94,
     "metadata": {},
     "output_type": "execute_result"
    }
   ],
   "source": [
    "#del : specify the index no to delete\n",
    "\n",
    "del thislist[0]\n",
    "\n",
    "thislist\n"
   ]
  },
  {
   "cell_type": "code",
   "execution_count": 95,
   "metadata": {},
   "outputs": [
    {
     "data": {
      "text/plain": [
       "[]"
      ]
     },
     "execution_count": 95,
     "metadata": {},
     "output_type": "execute_result"
    }
   ],
   "source": [
    "#clear() : this will wipe out the list \n",
    "\n",
    "thislist.clear()\n",
    "\n",
    "thislist"
   ]
  },
  {
   "cell_type": "code",
   "execution_count": 97,
   "metadata": {},
   "outputs": [
    {
     "data": {
      "text/plain": [
       "['apple', 'grape', 'orange', 'lime', 'pawpaw']"
      ]
     },
     "execution_count": 97,
     "metadata": {},
     "output_type": "execute_result"
    }
   ],
   "source": [
    "thislist"
   ]
  },
  {
   "cell_type": "code",
   "execution_count": 98,
   "metadata": {},
   "outputs": [],
   "source": [
    "list1 = thislist \n",
    "#this is a copy of the reference to thislist \n",
    "#this is not a true copy of thislist "
   ]
  },
  {
   "cell_type": "code",
   "execution_count": 100,
   "metadata": {},
   "outputs": [],
   "source": [
    "list1.append(\"pepper\")"
   ]
  },
  {
   "cell_type": "code",
   "execution_count": 101,
   "metadata": {},
   "outputs": [
    {
     "data": {
      "text/plain": [
       "['apple', 'grape', 'orange', 'lime', 'pawpaw', 'pepper']"
      ]
     },
     "execution_count": 101,
     "metadata": {},
     "output_type": "execute_result"
    }
   ],
   "source": [
    "list1"
   ]
  },
  {
   "cell_type": "code",
   "execution_count": 102,
   "metadata": {},
   "outputs": [
    {
     "data": {
      "text/plain": [
       "['apple', 'grape', 'orange', 'lime', 'pawpaw', 'pepper']"
      ]
     },
     "execution_count": 102,
     "metadata": {},
     "output_type": "execute_result"
    }
   ],
   "source": [
    "thislist"
   ]
  },
  {
   "cell_type": "code",
   "execution_count": 103,
   "metadata": {},
   "outputs": [],
   "source": [
    "#to make a true copy use the copy() function\n",
    "\n",
    "list2 = thislist.copy()"
   ]
  },
  {
   "cell_type": "code",
   "execution_count": 104,
   "metadata": {},
   "outputs": [
    {
     "data": {
      "text/plain": [
       "['apple', 'grape', 'orange', 'lime', 'pawpaw', 'pepper']"
      ]
     },
     "execution_count": 104,
     "metadata": {},
     "output_type": "execute_result"
    }
   ],
   "source": [
    "list2"
   ]
  },
  {
   "cell_type": "code",
   "execution_count": 106,
   "metadata": {},
   "outputs": [
    {
     "data": {
      "text/plain": [
       "'pawpaw'"
      ]
     },
     "execution_count": 106,
     "metadata": {},
     "output_type": "execute_result"
    }
   ],
   "source": [
    "list2.pop()"
   ]
  },
  {
   "cell_type": "code",
   "execution_count": 107,
   "metadata": {},
   "outputs": [
    {
     "data": {
      "text/plain": [
       "['apple', 'grape', 'orange', 'lime']"
      ]
     },
     "execution_count": 107,
     "metadata": {},
     "output_type": "execute_result"
    }
   ],
   "source": [
    "list2"
   ]
  },
  {
   "cell_type": "code",
   "execution_count": 108,
   "metadata": {},
   "outputs": [
    {
     "data": {
      "text/plain": [
       "['apple', 'grape', 'orange', 'lime', 'pawpaw', 'pepper']"
      ]
     },
     "execution_count": 108,
     "metadata": {},
     "output_type": "execute_result"
    }
   ],
   "source": [
    "thislist"
   ]
  },
  {
   "cell_type": "code",
   "execution_count": 109,
   "metadata": {},
   "outputs": [
    {
     "name": "stdout",
     "output_type": "stream",
     "text": [
      "['apple', 'grape', 'orange', 'lime', 'pawpaw', 'pepper']\n",
      "------------------------------\n",
      "['apple', 'grape', 'orange', 'lime']\n",
      "------------------------------\n",
      "['apple', 'grape', 'orange', 'lime', 'pawpaw', 'pepper', 'apple', 'grape', 'orange', 'lime']\n",
      "------------------------------\n"
     ]
    }
   ],
   "source": [
    "#Add lists together \n",
    "list3 = list1 + list2\n",
    "\n",
    "print(list1)\n",
    "print('-'*30)\n",
    "print(list2)\n",
    "print('-'*30)\n",
    "print(list3)\n",
    "print('-'*30)"
   ]
  },
  {
   "cell_type": "code",
   "execution_count": 110,
   "metadata": {},
   "outputs": [
    {
     "data": {
      "text/plain": [
       "'A farmer breeds 3 different species of animals and wants you to calculate the total number of legs of all the animals when given the number of each specie present on the farm. Species: chickens, cows, pigs Number: 100, 20, 40\\n\\nWrite a function to return the total number of animal legs in the farm.'"
      ]
     },
     "execution_count": 110,
     "metadata": {},
     "output_type": "execute_result"
    }
   ],
   "source": [
    "#Exercise \n",
    "# The farm problem\n",
    "\"\"\"A farmer breeds 3 different species of animals and wants you to calculate the total number of legs of all the animals when given the number of each specie present on the farm. Species: chickens, cows, pigs Number: 100, 20, 40\n",
    "\n",
    "Write a function to return the total number of animal legs in the farm.\"\"\""
   ]
  },
  {
   "cell_type": "markdown",
   "metadata": {},
   "source": [
    "# function definition \n"
   ]
  },
  {
   "cell_type": "code",
   "execution_count": 111,
   "metadata": {},
   "outputs": [
    {
     "name": "stdout",
     "output_type": "stream",
     "text": [
      "8\n"
     ]
    }
   ],
   "source": [
    "#def functionName():\n",
    "    #block of code\n",
    "\n",
    "#Example\n",
    "    #write a function to add 2 nos \n",
    "def addNos(no1, no2):\n",
    "    return no1 + no2\n",
    "\n",
    "print(addNos(3, 5))\n",
    "    "
   ]
  },
  {
   "cell_type": "code",
   "execution_count": 116,
   "metadata": {},
   "outputs": [
    {
     "name": "stdout",
     "output_type": "stream",
     "text": [
      "Total no of legs on the farm:  440\n"
     ]
    }
   ],
   "source": [
    "#Solution to Farmers problem\n",
    "\n",
    "chicken = 200\n",
    "pigs = 25\n",
    "cow = 30\n",
    "\n",
    "def totalLegs(chics, cows, pigs):\n",
    "    nosChickenLegs = 2 * chics\n",
    "    nosCowLegs = 4 * cows\n",
    "    nosPigLegs = 4 * pigs\n",
    "    \n",
    "    total = nosChickenLegs + nosCowLegs + nosPigLegs\n",
    "    \n",
    "    return total\n",
    "\n",
    "print(\"Total no of legs on the farm: \",totalLegs(100,20,40))\n",
    "    "
   ]
  },
  {
   "cell_type": "code",
   "execution_count": 119,
   "metadata": {},
   "outputs": [
    {
     "name": "stdout",
     "output_type": "stream",
     "text": [
      "620\n"
     ]
    }
   ],
   "source": [
    "print(totalLegs(chicken, cow, pigs))"
   ]
  },
  {
   "cell_type": "code",
   "execution_count": null,
   "metadata": {},
   "outputs": [],
   "source": []
  }
 ],
 "metadata": {
  "kernelspec": {
   "display_name": "Python 3",
   "language": "python",
   "name": "python3"
  },
  "language_info": {
   "codemirror_mode": {
    "name": "ipython",
    "version": 3
   },
   "file_extension": ".py",
   "mimetype": "text/x-python",
   "name": "python",
   "nbconvert_exporter": "python",
   "pygments_lexer": "ipython3",
   "version": "3.7.1"
  }
 },
 "nbformat": 4,
 "nbformat_minor": 2
}
